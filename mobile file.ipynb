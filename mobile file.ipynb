{
 "cells": [
  {
   "cell_type": "code",
   "execution_count": 2,
   "metadata": {},
   "outputs": [],
   "source": [
    "import pandas as pd\n",
    "import numpy as np"
   ]
  },
  {
   "cell_type": "code",
   "execution_count": 3,
   "metadata": {},
   "outputs": [],
   "source": [
    "data=pd.read_csv(\"data.csv\",encoding='latin-1')"
   ]
  },
  {
   "cell_type": "code",
   "execution_count": 4,
   "metadata": {},
   "outputs": [
    {
     "name": "stdout",
     "output_type": "stream",
     "text": [
      "<bound method NDFrame.head of     Company Name            Model Name Mobile Weight   RAM     Front Camera  \\\n",
      "0          Apple       iPhone 16 128GB          174g   6GB             12MP   \n",
      "1          Apple       iPhone 16 256GB          174g   6GB             12MP   \n",
      "2          Apple       iPhone 16 512GB          174g   6GB             12MP   \n",
      "3          Apple  iPhone 16 Plus 128GB          203g   6GB             12MP   \n",
      "4          Apple  iPhone 16 Plus 256GB          203g   6GB             12MP   \n",
      "..           ...                   ...           ...   ...              ...   \n",
      "925         Poco          Pad 5G 128GB          571g   8GB              8MP   \n",
      "926         Poco          Pad 5G 256GB          571g   8GB              8MP   \n",
      "927      Samsung  Galaxy Z Fold6 256GB          239g  12GB  10MP, 4MP (UDC)   \n",
      "928      Samsung  Galaxy Z Fold6 512GB          239g  12GB  10MP, 4MP (UDC)   \n",
      "929      Samsung    Galaxy Z Fold6 1TB          239g  12GB  10MP, 4MP (UDC)   \n",
      "\n",
      "    Back Camera            Processor Battery Capacity  Screen Size  \\\n",
      "0          48MP           A17 Bionic         3,600mAh   6.1 inches   \n",
      "1          48MP           A17 Bionic         3,600mAh   6.1 inches   \n",
      "2          48MP           A17 Bionic         3,600mAh   6.1 inches   \n",
      "3          48MP           A17 Bionic         4,200mAh   6.7 inches   \n",
      "4          48MP           A17 Bionic         4,200mAh   6.7 inches   \n",
      "..          ...                  ...              ...          ...   \n",
      "925         8MP  Snapdragon 7s Gen 2        10,000mAh  12.1 inches   \n",
      "926         8MP  Snapdragon 7s Gen 2        10,000mAh  12.1 inches   \n",
      "927        50MP   Snapdragon 8 Gen 3          4400mAh   7.6 inches   \n",
      "928        50MP   Snapdragon 8 Gen 3          4400mAh   7.6 inches   \n",
      "929        50MP   Snapdragon 8 Gen 3          4400mAh   7.6 inches   \n",
      "\n",
      "    Launched Price (Pakistan) Launched Price (India) Launched Price (China)  \\\n",
      "0                 PKR 224,999             INR 79,999              CNY 5,799   \n",
      "1                 PKR 234,999             INR 84,999              CNY 6,099   \n",
      "2                 PKR 244,999             INR 89,999              CNY 6,499   \n",
      "3                 PKR 249,999             INR 89,999              CNY 6,199   \n",
      "4                 PKR 259,999             INR 94,999              CNY 6,499   \n",
      "..                        ...                    ...                    ...   \n",
      "925                PKR 66,220             INR 23,999              CNY 2,099   \n",
      "926                PKR 71,220             INR 25,999              CNY 2,299   \n",
      "927               PKR 604,999            INR 164,999                ¥13,999   \n",
      "928               PKR 544,999            INR 176,999             CNY 15,999   \n",
      "929             Not available            INR 200,999            CNY 17,999    \n",
      "\n",
      "    Launched Price (USA) Launched Price (Dubai)  Launched Year  \n",
      "0                USD 799              AED 2,799           2024  \n",
      "1                USD 849              AED 2,999           2024  \n",
      "2                USD 899              AED 3,199           2024  \n",
      "3                USD 899              AED 3,199           2024  \n",
      "4                USD 949              AED 3,399           2024  \n",
      "..                   ...                    ...            ...  \n",
      "925              USD 280              AED 1,029           2024  \n",
      "926              USD 300              AED 1,099           2024  \n",
      "927            USD 1,899              AED 7,199           2024  \n",
      "928             USD 1719              AED 7,699           2024  \n",
      "929            USD 2,259              AED 8,699           2024  \n",
      "\n",
      "[930 rows x 15 columns]>\n"
     ]
    }
   ],
   "source": [
    "print(data.head)"
   ]
  },
  {
   "cell_type": "code",
   "execution_count": 5,
   "metadata": {},
   "outputs": [
    {
     "data": {
      "text/plain": [
       "Company Name                 0\n",
       "Model Name                   0\n",
       "Mobile Weight                0\n",
       "RAM                          0\n",
       "Front Camera                 0\n",
       "Back Camera                  0\n",
       "Processor                    0\n",
       "Battery Capacity             0\n",
       "Screen Size                  0\n",
       "Launched Price (Pakistan)    0\n",
       "Launched Price (India)       0\n",
       "Launched Price (China)       0\n",
       "Launched Price (USA)         0\n",
       "Launched Price (Dubai)       0\n",
       "Launched Year                0\n",
       "dtype: int64"
      ]
     },
     "execution_count": 5,
     "metadata": {},
     "output_type": "execute_result"
    }
   ],
   "source": [
    "data.isnull().sum()"
   ]
  },
  {
   "cell_type": "code",
   "execution_count": null,
   "metadata": {},
   "outputs": [],
   "source": []
  },
  {
   "cell_type": "code",
   "execution_count": null,
   "metadata": {},
   "outputs": [],
   "source": []
  },
  {
   "cell_type": "code",
   "execution_count": null,
   "metadata": {},
   "outputs": [],
   "source": []
  },
  {
   "cell_type": "code",
   "execution_count": 6,
   "metadata": {},
   "outputs": [],
   "source": [
    "colname=[]\n",
    "for x in data.columns:\n",
    "    if data[x].dtypes=='object':\n",
    "        colname.append(x)\n",
    "    colname"
   ]
  },
  {
   "cell_type": "code",
   "execution_count": 7,
   "metadata": {},
   "outputs": [
    {
     "name": "stdout",
     "output_type": "stream",
     "text": [
      "Feature Company Name\n",
      "mapping {'Apple': np.int64(0), 'Google': np.int64(1), 'Honor': np.int64(2), 'Huawei': np.int64(3), 'Infinix': np.int64(4), 'Lenovo': np.int64(5), 'Motorola': np.int64(6), 'Nokia': np.int64(7), 'OnePlus': np.int64(8), 'Oppo': np.int64(9), 'POCO': np.int64(10), 'Poco': np.int64(11), 'Realme': np.int64(12), 'Samsung': np.int64(13), 'Sony': np.int64(14), 'Tecno': np.int64(15), 'Vivo': np.int64(16), 'Xiaomi': np.int64(17), 'iQOO': np.int64(18)}\n",
      "Feature Model Name\n",
      "mapping {'10X Lite': np.int64(0), '13 5G 128GB': np.int64(1), '13 5G 256GB': np.int64(2), '13 Pro 5G 128GB': np.int64(3), '13 Pro 5G 256GB': np.int64(4), '13 Pro+ 5G 256GB': np.int64(5), '13 Pro+ 5G 512GB': np.int64(6), '13+ 5G 128GB': np.int64(7), '13+ 5G 256GB': np.int64(8), '14 Pro 5G 128GB': np.int64(9), '14 Pro 5G 256GB': np.int64(10), '14 Pro+ 5G 256GB': np.int64(11), '14 Pro+ 5G 512GB': np.int64(12), '14x 5G 128GB': np.int64(13), '14x 5G 256GB': np.int64(14), '30': np.int64(15), '30 Pro': np.int64(16), '30 Pro+': np.int64(17), '30S': np.int64(18), '50': np.int64(19), '50 Pro': np.int64(20), '50 SE': np.int64(21), '60': np.int64(22), '60 Pro': np.int64(23), '60 SE': np.int64(24), '70': np.int64(25), '70 Pro': np.int64(26), '70 Pro+': np.int64(27), '80': np.int64(28), '80 Pro': np.int64(29), '80 SE': np.int64(30), '90': np.int64(31), '90 Pro': np.int64(32), '90 SE': np.int64(33), '9X Lite': np.int64(34), 'A3 128GB': np.int64(35), 'A3 4G 128GB': np.int64(36), 'A3x 128GB': np.int64(37), 'A3x 256GB': np.int64(38), 'A3x 4G 128GB': np.int64(39), 'A3x 4G 256GB': np.int64(40), 'A40 128GB': np.int64(41), 'A40 256GB': np.int64(42), 'A49 5G 128GB': np.int64(43), 'A5 Pro 256GB': np.int64(44), 'A5 Pro 512GB': np.int64(45), 'A50 5G 128GB': np.int64(46), 'A51 5G 128GB': np.int64(47), 'A52 5G 128GB': np.int64(48), 'A53 5G 128GB': np.int64(49), 'A54 5G 128GB': np.int64(50), 'A55 5G 128GB': np.int64(51), 'A56 5G 128GB': np.int64(52), 'A57 5G 128GB': np.int64(53), 'A58 5G 256GB': np.int64(54), 'A59 5G 128GB': np.int64(55), 'A59 5G 256GB': np.int64(56), 'A6 Note 32GB': np.int64(57), 'A60 128GB': np.int64(58), 'A60 256GB': np.int64(59), 'A80 256GB': np.int64(60), 'C22 128GB': np.int64(61), 'C22 64GB': np.int64(62), 'C32 128GB': np.int64(63), 'C32 64GB': np.int64(64), 'C55 128GB': np.int64(65), 'C55 256GB': np.int64(66), 'C61 128GB': np.int64(67), 'C63 128GB': np.int64(68), 'C65 128GB': np.int64(69), 'C65 256GB': np.int64(70), 'C65 64GB': np.int64(71), 'C67 128GB': np.int64(72), 'C67 256GB': np.int64(73), 'C75 128GB': np.int64(74), 'C75 256GB': np.int64(75), 'Camon 20 128GB': np.int64(76), 'Camon 20 Premier 512GB': np.int64(77), 'Camon 20 Pro 128GB': np.int64(78), 'Camon 20 Pro 5G 256GB': np.int64(79), 'Camon 20s 256GB': np.int64(80), 'Camon 20s Pro 256GB': np.int64(81), 'Camon 20s Pro 5G 512GB': np.int64(82), 'Camon 30 128GB': np.int64(83), 'Camon 30 5G 256GB': np.int64(84), 'Camon 30 Premier 512GB': np.int64(85), 'Camon 30 Pro 512GB': np.int64(86), 'Camon 30S 256GB': np.int64(87), 'Camon 30S Pro 512GB': np.int64(88), 'Edge 256GB': np.int64(89), 'Edge 30 Fusion 128GB': np.int64(90), 'Edge 30 Fusion 256GB': np.int64(91), 'Edge 30 Neo 128GB': np.int64(92), 'Edge 30 Neo 256GB': np.int64(93), 'Edge 50 256GB': np.int64(94), 'Edge 50 512GB': np.int64(95), 'Edge 50 Fusion 128GB': np.int64(96), 'Edge 50 Fusion 256GB': np.int64(97), 'Edge 50 Lite 128GB': np.int64(98), 'Edge 50 Lite 256GB': np.int64(99), 'Edge 50 Neo 256GB': np.int64(100), 'Edge 50 Neo 512GB': np.int64(101), 'Edge 50 Pro 128GB': np.int64(102), 'Edge 50 Pro 256GB': np.int64(103), 'Edge 50 Ultra 512GB': np.int64(104), 'Edge 512GB': np.int64(105), 'F2 Pro 128GB': np.int64(106), 'F25 Pro 128GB': np.int64(107), 'F25 Pro 256GB': np.int64(108), 'F27 128GB': np.int64(109), 'F27 256GB': np.int64(110), 'F27 Pro+ 256GB': np.int64(111), 'F27 Pro+ 512GB': np.int64(112), 'F3 128GB': np.int64(113), 'F3 GT 128GB': np.int64(114), 'F4 128GB': np.int64(115), 'F4 GT 128GB': np.int64(116), 'F5 128GB': np.int64(117), 'F5 Pro 256GB': np.int64(118), 'F6 128GB': np.int64(119), 'F6 Pro 256GB': np.int64(120), 'Find N2 256GB': np.int64(121), 'Find N2 Flip 256GB': np.int64(122), 'Find N2 Flip 512GB': np.int64(123), 'Find N3 512GB': np.int64(124), 'Find N3 Flip 256GB': np.int64(125), 'Find X5 256GB': np.int64(126), 'Find X5 Pro 256GB': np.int64(127), 'Find X5 Pro 512GB': np.int64(128), 'Find X6 256GB': np.int64(129), 'Find X6 512GB': np.int64(130), 'Find X6 Pro 256GB': np.int64(131), 'Find X6 Pro 512GB': np.int64(132), 'Find X7 256GB': np.int64(133), 'Find X7 512GB': np.int64(134), 'Find X7 Ultra 256GB': np.int64(135), 'Find X7 Ultra 512GB': np.int64(136), 'Find X8 256GB': np.int64(137), 'Find X8 Pro 256GB': np.int64(138), 'G20 128GB': np.int64(139), 'G20 64GB': np.int64(140), 'G21 128GB': np.int64(141), 'G21 64GB': np.int64(142), 'G400 128GB': np.int64(143), 'G42 5G 128GB': np.int64(144), 'G84 5G 128GB': np.int64(145), 'G84 5G 256GB': np.int64(146), 'GT 10 Pro 256GB': np.int64(147), 'GT 20 Pro': np.int64(148), 'GT 6 128GB': np.int64(149), 'GT 6 256GB': np.int64(150), 'GT 6 512GB': np.int64(151), 'GT 6T 128GB': np.int64(152), 'GT 6T 256GB': np.int64(153), 'GT 7 128GB': np.int64(154), 'GT 7 256GB': np.int64(155), 'GT 7 Pro 128GB': np.int64(156), 'GT 7 Pro 256GB': np.int64(157), 'Galaxy A04 128GB': np.int64(158), 'Galaxy A04 64GB': np.int64(159), 'Galaxy A14 128GB': np.int64(160), 'Galaxy A14 256GB': np.int64(161), 'Galaxy A24 128GB': np.int64(162), 'Galaxy A24 256GB': np.int64(163), 'Galaxy A34 128GB': np.int64(164), 'Galaxy A34 256GB': np.int64(165), 'Galaxy A54 128GB': np.int64(166), 'Galaxy A54 256GB': np.int64(167), 'Galaxy C5 32GB': np.int64(168), 'Galaxy C7 Pro 64GB': np.int64(169), 'Galaxy C9 Pro 64GB': np.int64(170), 'Galaxy F14 128GB': np.int64(171), 'Galaxy F14 256GB': np.int64(172), 'Galaxy F34 128GB': np.int64(173), 'Galaxy F34 256GB': np.int64(174), 'Galaxy F54 128GB': np.int64(175), 'Galaxy F54 256GB': np.int64(176), 'Galaxy J4 16GB': np.int64(177), 'Galaxy J6+ 64GB': np.int64(178), 'Galaxy J7 Pro 64GB': np.int64(179), 'Galaxy J8 64GB': np.int64(180), 'Galaxy M04 128GB': np.int64(181), 'Galaxy M04 64GB': np.int64(182), 'Galaxy M14 128GB': np.int64(183), 'Galaxy M14 256GB': np.int64(184), 'Galaxy M34 128GB': np.int64(185), 'Galaxy M34 256GB': np.int64(186), 'Galaxy M54 128GB': np.int64(187), 'Galaxy M54 256GB': np.int64(188), 'Galaxy Note 10 128GB': np.int64(189), 'Galaxy Note 10 256GB': np.int64(190), 'Galaxy Note 10+ 256GB': np.int64(191), 'Galaxy Note 10+ 512GB': np.int64(192), 'Galaxy Note 20 128GB': np.int64(193), 'Galaxy Note 20 256GB': np.int64(194), 'Galaxy Note 20 Ultra 128GB': np.int64(195), 'Galaxy Note 20 Ultra 256GB': np.int64(196), 'Galaxy S22 128GB': np.int64(197), 'Galaxy S22 256GB': np.int64(198), 'Galaxy S22 Ultra 128GB': np.int64(199), 'Galaxy S22 Ultra 256GB': np.int64(200), 'Galaxy S22+ 128GB': np.int64(201), 'Galaxy S22+ 256GB': np.int64(202), 'Galaxy S23 128GB': np.int64(203), 'Galaxy S23 256GB': np.int64(204), 'Galaxy S23 Ultra 128GB': np.int64(205), 'Galaxy S23 Ultra 256GB': np.int64(206), 'Galaxy S23+ 128GB': np.int64(207), 'Galaxy S23+ 256GB': np.int64(208), 'Galaxy S24 128GB': np.int64(209), 'Galaxy S24 256GB': np.int64(210), 'Galaxy S24 Ultra 128GB': np.int64(211), 'Galaxy S24 Ultra 256GB': np.int64(212), 'Galaxy S24+ 128GB': np.int64(213), 'Galaxy S24+ 256GB': np.int64(214), 'Galaxy Tab A7 Lite 32GB': np.int64(215), 'Galaxy Tab A8 64GB': np.int64(216), 'Galaxy Tab A9 64GB': np.int64(217), 'Galaxy Tab A9+ 128GB': np.int64(218), 'Galaxy Tab Active 3 64GB': np.int64(219), 'Galaxy Tab Active 4 Pro 128GB': np.int64(220), 'Galaxy Tab Active 5 128GB': np.int64(221), 'Galaxy Tab E 10.1 16GB': np.int64(222), 'Galaxy Tab E 8.0 16GB': np.int64(223), 'Galaxy Tab S8 128GB': np.int64(224), 'Galaxy Tab S8 Ultra 256GB': np.int64(225), 'Galaxy Tab S8+ 256GB': np.int64(226), 'Galaxy Tab S9 128GB': np.int64(227), 'Galaxy Tab S9 FE 128GB': np.int64(228), 'Galaxy Tab S9 Ultra 256GB': np.int64(229), 'Galaxy Tab S9+ 256GB': np.int64(230), 'Galaxy W21 5G 256GB': np.int64(231), 'Galaxy W22 5G 256GB': np.int64(232), 'Galaxy Xcover 5 64GB': np.int64(233), 'Galaxy Xcover 6 Pro 128GB': np.int64(234), 'Galaxy Z Flip 4 256GB': np.int64(235), 'Galaxy Z Flip 4 512GB': np.int64(236), 'Galaxy Z Flip 5 256GB': np.int64(237), 'Galaxy Z Flip 5 512GB': np.int64(238), 'Galaxy Z Fold 4 256GB': np.int64(239), 'Galaxy Z Fold 4 512GB': np.int64(240), 'Galaxy Z Fold 5 256GB': np.int64(241), 'Galaxy Z Fold 5 512GB': np.int64(242), 'Galaxy Z Fold6 1TB': np.int64(243), 'Galaxy Z Fold6 256GB': np.int64(244), 'Galaxy Z Fold6 512GB': np.int64(245), 'Hot 10 128GB': np.int64(246), 'Hot 10 Lite 64GB': np.int64(247), 'Hot 10 Play 64GB': np.int64(248), 'Hot 10S 128GB': np.int64(249), 'Hot 10S NFC 128GB': np.int64(250), 'Hot 10T 128GB': np.int64(251), 'Hot 11 128GB': np.int64(252), 'Hot 11 Play 128GB': np.int64(253), 'Hot 11s 128GB': np.int64(254), 'Hot 12 128GB': np.int64(255), 'Hot 12 Play 128GB': np.int64(256), 'Hot 12 Pro 128GB': np.int64(257), 'Hot 12i 64GB': np.int64(258), 'Hot 20 128GB': np.int64(259), 'Hot 20 5G 128GB': np.int64(260), 'Hot 20 Play 128GB': np.int64(261), 'Hot 20i 64GB': np.int64(262), 'Hot 20s 128GB': np.int64(263), 'Hot 30 128GB': np.int64(264), 'Hot 30 5G 128GB': np.int64(265), 'Hot 30 Play 128GB': np.int64(266), 'Hot 30i 128GB': np.int64(267), 'Hot 30i NFC 128GB': np.int64(268), 'Hot 40': np.int64(269), 'Hot 40 Pro': np.int64(270), 'Hot 40i': np.int64(271), 'Hot 50': np.int64(272), 'Hot 50 5G': np.int64(273), 'Hot 50 Pro': np.int64(274), 'Hot 50 Pro+': np.int64(275), 'Hot 50i': np.int64(276), 'K10 5G 128GB': np.int64(277), 'K10 5G 256GB': np.int64(278), 'K10 Note 128GB': np.int64(279), 'K10 Note 64GB': np.int64(280), 'K10 Plus 64GB': np.int64(281), 'K10x 128GB': np.int64(282), 'K10x 256GB': np.int64(283), 'K11 128GB': np.int64(284), 'K11 256GB': np.int64(285), 'K11x 128GB': np.int64(286), 'K11x 256GB': np.int64(287), 'K12 Plus 256GB': np.int64(288), 'K12 Plus 512GB': np.int64(289), 'K13 32GB': np.int64(290), 'K13 Note 64GB': np.int64(291), 'K13 Pro 128GB': np.int64(292), 'K14 Plus 128GB': np.int64(293), 'K14 Plus 64GB': np.int64(294), 'K7 5G 128GB': np.int64(295), 'K7 5G 256GB': np.int64(296), 'K7x 128GB': np.int64(297), 'K9 5G 128GB': np.int64(298), 'K9 5G 256GB': np.int64(299), 'K9 Pro 5G 128GB': np.int64(300), 'K9 Pro 5G 256GB': np.int64(301), 'K9x 128GB': np.int64(302), 'K9x 256GB': np.int64(303), 'Legion Y70 128GB': np.int64(304), 'Legion Y70 256GB': np.int64(305), 'Legion Y70 512GB': np.int64(306), 'M2 Pro 64GB': np.int64(307), 'M3 64GB': np.int64(308), 'M3 Pro 5G 64GB': np.int64(309), 'M4 Pro 128GB': np.int64(310), 'M4 Pro 5G 128GB': np.int64(311), 'M5 128GB': np.int64(312), 'M5s 128GB': np.int64(313), 'M6 64GB': np.int64(314), 'M6 Pro 128GB': np.int64(315), 'M7 5G 128GB': np.int64(316), 'Magic V': np.int64(317), 'Magic V2': np.int64(318), 'Magic V3': np.int64(319), 'Magic Vs': np.int64(320), 'Magic3': np.int64(321), 'Magic3 Pro': np.int64(322), 'Magic3 Pro+': np.int64(323), 'Magic4': np.int64(324), 'Magic4 Pro': np.int64(325), 'Magic4 Ultimate': np.int64(326), 'Magic5': np.int64(327), 'Magic5 Pro': np.int64(328), 'Magic5 Ultimate': np.int64(329), 'Magic6': np.int64(330), 'Magic6 Pro': np.int64(331), 'Magic6 Ultimate': np.int64(332), 'Magic7': np.int64(333), 'Magic7 Pro': np.int64(334), 'Magic7 Ultimate': np.int64(335), 'MagicPad 13': np.int64(336), 'MagicPad 2': np.int64(337), 'MagicPad 3': np.int64(338), 'Mate 40E': np.int64(339), 'Mate 50': np.int64(340), 'Mate 50 Pro': np.int64(341), 'Mate 60': np.int64(342), 'Mate 60 Pro': np.int64(343), 'Mate 60 Pro+': np.int64(344), 'Mate 70': np.int64(345), 'Mate 70 Pro': np.int64(346), 'Mate 70 Pro+': np.int64(347), 'Mate X2': np.int64(348), 'Mate X3': np.int64(349), 'Mate X6': np.int64(350), 'Mate XT 256GB': np.int64(351), 'Mate XT 512GB': np.int64(352), 'Mate Xs 2': np.int64(353), 'MatePad Pro 12.2 512GB': np.int64(354), 'MatePad Pro 13.2 512GB': np.int64(355), 'Megapad 11 256GB': np.int64(356), 'Megapad 128GB': np.int64(357), 'Moto E14 128GB': np.int64(358), 'Moto E14 64GB': np.int64(359), 'Moto E22 64GB': np.int64(360), 'Moto E22i 32GB': np.int64(361), 'Moto E32s 64GB': np.int64(362), 'Moto E40 Plus 128GB': np.int64(363), 'Moto E40 Plus 64GB': np.int64(364), 'Moto G Play 32GB': np.int64(365), 'Moto G Play 64GB': np.int64(366), 'Moto G Power 128GB': np.int64(367), 'Moto G Power 64GB': np.int64(368), 'Moto G Stylus 128GB': np.int64(369), 'Moto G Stylus 5G 256GB': np.int64(370), 'Moto G Stylus 5G 512GB': np.int64(371), 'Moto G Stylus 64GB': np.int64(372), 'Moto G22 64GB': np.int64(373), 'Moto G32 128GB': np.int64(374), 'Moto G35 128GB': np.int64(375), 'Moto G35 256GB': np.int64(376), 'Moto G42 128GB': np.int64(377), 'Moto G45 128GB': np.int64(378), 'Moto G45 256GB': np.int64(379), 'Moto G55 128GB': np.int64(380), 'Moto G55 256GB': np.int64(381), 'Moto G62 5G 128GB': np.int64(382), 'Moto G62 5G 256GB': np.int64(383), 'Moto G75 5G 128GB': np.int64(384), 'Moto G75 5G 256GB': np.int64(385), 'Moto G82 5G 128GB': np.int64(386), 'Moto G82 5G 256GB': np.int64(387), 'Moto G85 128GB': np.int64(388), 'Moto G85 256GB': np.int64(389), 'Moto S50 128GB': np.int64(390), 'Moto S50 256GB': np.int64(391), 'Moto X50 Ultra 512GB': np.int64(392), 'Narzo 70 5G 128GB': np.int64(393), 'Narzo 70 Turbo 5G 128GB': np.int64(394), 'Narzo 70 Turbo 5G 256GB': np.int64(395), 'Narzo N61 128GB': np.int64(396), 'Narzo N63 128GB': np.int64(397), 'Narzo N65 5G 128GB': np.int64(398), 'Neo 7 128GB': np.int64(399), 'Neo 7 256GB': np.int64(400), 'Note 40': np.int64(401), 'Note 40 5G': np.int64(402), 'Note 40 Pro': np.int64(403), 'Note 40 Pro 5G': np.int64(404), 'Note 40 Racing Edition': np.int64(405), 'Note 40S': np.int64(406), 'Note 40X 5G': np.int64(407), 'Note 50 128GB': np.int64(408), 'Note 60 128GB': np.int64(409), 'Note 60 256GB': np.int64(410), 'Note 60x 128GB': np.int64(411), 'Note 8 128GB': np.int64(412), 'Note 8i 128GB': np.int64(413), 'Nova 10': np.int64(414), 'Nova 10 Pro': np.int64(415), 'Nova 10 SE': np.int64(416), 'Nova 11': np.int64(417), 'Nova 11 Pro': np.int64(418), 'Nova 11 Ultra': np.int64(419), 'Nova 12': np.int64(420), 'Nova 12 Pro': np.int64(421), 'Nova 13 256GB': np.int64(422), 'Nova 13 512GB': np.int64(423), 'Nova 13 Pro 256GB': np.int64(424), 'Nova 13 Pro 512GB': np.int64(425), 'Nova 9': np.int64(426), 'Nova 9 Pro': np.int64(427), 'One Vision 3 128GB': np.int64(428), 'One Vision 3 256GB': np.int64(429), 'OnePlus 10 Pro 256GB': np.int64(430), 'OnePlus 10R 128GB': np.int64(431), 'OnePlus 10T 256GB': np.int64(432), 'OnePlus 10T 5G 256GB': np.int64(433), 'OnePlus 11 256GB': np.int64(434), 'OnePlus 11 Pro 256GB': np.int64(435), 'OnePlus 11R 256GB': np.int64(436), 'OnePlus 11T 128GB': np.int64(437), 'OnePlus 12 256GB': np.int64(438), 'OnePlus 12R 256GB': np.int64(439), 'OnePlus 12T 5G 256GB': np.int64(440), 'OnePlus 13 Pro 256GB': np.int64(441), 'OnePlus 13R 128GB': np.int64(442), 'OnePlus 14+ 128GB': np.int64(443), 'OnePlus 15R 128GB': np.int64(444), 'OnePlus 5 Special Edition 128GB': np.int64(445), 'OnePlus 5T Star Wars Edition 128GB': np.int64(446), 'OnePlus 6 Special Edition 128GB': np.int64(447), 'OnePlus 6T McLaren Edition 256GB': np.int64(448), 'OnePlus 7 Pro 5G 256GB': np.int64(449), 'OnePlus 7R 128GB': np.int64(450), 'OnePlus 7T Pro 5G McLaren Edition 256GB': np.int64(451), 'OnePlus 8 128GB': np.int64(452), 'OnePlus 8 Pro 256GB': np.int64(453), 'OnePlus 8 Pro McLaren Edition 256GB': np.int64(454), 'OnePlus 8R 128GB': np.int64(455), 'OnePlus 8T 256GB': np.int64(456), 'OnePlus 8T Cyberpunk 2077 Edition 256GB': np.int64(457), 'OnePlus 8T Cyberpunk Edition 256GB': np.int64(458), 'OnePlus 9 128GB': np.int64(459), 'OnePlus 9 Pro 256GB': np.int64(460), 'OnePlus 9R 5G 128GB': np.int64(461), 'OnePlus 9T 128GB': np.int64(462), 'OnePlus Nord 1 128GB': np.int64(463), 'OnePlus Nord 2 128GB': np.int64(464), 'OnePlus Nord 2 5G 128GB': np.int64(465), 'OnePlus Nord 2T 128GB': np.int64(466), 'OnePlus Nord 3 256GB': np.int64(467), 'OnePlus Nord CE 2 128GB': np.int64(468), 'OnePlus Nord CE 2 Lite 128GB': np.int64(469), 'OnePlus Nord CE 3 128GB': np.int64(470), 'OnePlus Nord CE 3 Lite 128GB': np.int64(471), 'OnePlus Nord CE 5G 128GB': np.int64(472), 'OnePlus Nord N10 5G 128GB': np.int64(473), 'OnePlus Nord N100 5G 64GB': np.int64(474), 'OnePlus Nord N100 64GB': np.int64(475), 'OnePlus Nord N200 64GB': np.int64(476), 'OnePlus Nord N30 5G 128GB': np.int64(477), 'OnePlus Nord X 128GB': np.int64(478), 'OnePlus Open 256GB': np.int64(479), 'OnePlus Pad': np.int64(480), 'OnePlus Pad 2': np.int64(481), 'OnePlus Pad Pro': np.int64(482), 'P1 5G 128GB': np.int64(483), 'P1 5G 256GB': np.int64(484), 'P1 Pro 5G 128GB': np.int64(485), 'P1 Pro 5G 256GB': np.int64(486), 'P1 Speed 5G 128GB': np.int64(487), 'P1 Speed 5G 256GB': np.int64(488), 'P2 Pro 5G 128GB': np.int64(489), 'P2 Pro 5G 256GB': np.int64(490), 'P2 Pro 5G 512GB': np.int64(491), 'P50': np.int64(492), 'P50 Pocket': np.int64(493), 'P50 Pro': np.int64(494), 'P50E': np.int64(495), 'P60': np.int64(496), 'P60 Art': np.int64(497), 'P60 Pro': np.int64(498), 'Pad 128GB': np.int64(499), 'Pad 2 128GB': np.int64(500), 'Pad 2 256GB': np.int64(501), 'Pad 2 Lite 128GB': np.int64(502), 'Pad 2 Lite 64GB': np.int64(503), 'Pad 2 Pro 256GB': np.int64(504), 'Pad 3 128GB': np.int64(505), 'Pad 3 256GB': np.int64(506), 'Pad 3 Pro 256GB': np.int64(507), 'Pad 3 Pro 512GB': np.int64(508), 'Pad 4 Pro 256GB': np.int64(509), 'Pad 5G 128GB': np.int64(510), 'Pad 5G 256GB': np.int64(511), 'Pad 6': np.int64(512), 'Pad 64GB': np.int64(513), 'Pad 7': np.int64(514), 'Pad 8': np.int64(515), 'Pad 9': np.int64(516), 'Pad 9 Pro': np.int64(517), 'Pad Air 128GB': np.int64(518), 'Pad GT Pro': np.int64(519), 'Pad Mini 32GB': np.int64(520), 'Pad Mini 64GB': np.int64(521), 'Pad Neo 128GB': np.int64(522), 'Pad Neo 256GB': np.int64(523), 'Pad Slim 128GB': np.int64(524), 'Pad Slim 64GB': np.int64(525), 'Pad V10': np.int64(526), 'Pad V8': np.int64(527), 'Pad V8 Pro': np.int64(528), 'Pad V9': np.int64(529), 'Pad X 128GB': np.int64(530), 'Pad X 64GB': np.int64(531), 'Pad X10': np.int64(532), 'Pad X10 Pro': np.int64(533), 'Pad X6': np.int64(534), 'Pad X8': np.int64(535), 'Pad X8 Lite': np.int64(536), 'Pad X8 Pro': np.int64(537), 'Pad X8a': np.int64(538), 'Pad X8a Kids Edition': np.int64(539), 'Pad X9': np.int64(540), 'Pad X9 Pro': np.int64(541), 'Phantom V Flip2 256GB': np.int64(542), 'Phantom V Fold2 512GB': np.int64(543), 'Pixel 3a 64GB': np.int64(544), 'Pixel 3a XL 64GB': np.int64(545), 'Pixel 4 64GB': np.int64(546), 'Pixel 4 XL 64GB': np.int64(547), 'Pixel 4a 128GB': np.int64(548), 'Pixel 4a 5G 128GB': np.int64(549), 'Pixel 5 128GB': np.int64(550), 'Pixel 5a 128GB': np.int64(551), 'Pixel 6 128GB': np.int64(552), 'Pixel 6 Pro 256GB': np.int64(553), 'Pixel 6a 128GB': np.int64(554), 'Pixel 7 128GB': np.int64(555), 'Pixel 7 Pro 256GB': np.int64(556), 'Pixel 7a 128GB': np.int64(557), 'Pixel 8 128GB': np.int64(558), 'Pixel 8 Pro 256GB': np.int64(559), 'Pixel 8a 128GB': np.int64(560), 'Pixel 9 128GB': np.int64(561), 'Pixel 9 Pro 256GB': np.int64(562), 'Pixel 9 Pro Fold 512GB': np.int64(563), 'Pixel 9 Pro XL 512GB': np.int64(564), 'Play 4': np.int64(565), 'Play 4 Pro': np.int64(566), 'Play 5': np.int64(567), 'Play 5T': np.int64(568), 'Play 6': np.int64(569), 'Play 6T': np.int64(570), 'Play 7': np.int64(571), 'Play 7T': np.int64(572), 'Play 8': np.int64(573), 'Play 8T': np.int64(574), 'Play 9': np.int64(575), 'Play 9T': np.int64(576), 'Pop 8 64GB': np.int64(577), 'Pop 9 4G 64GB': np.int64(578), 'Pop 9 64GB': np.int64(579), 'Pova 5 256GB': np.int64(580), 'Pova 5G 512GB': np.int64(581), 'Pova 6 Neo 256GB': np.int64(582), 'Pova 6 Neo 5G 256GB': np.int64(583), 'Pova 6 Pro 512GB': np.int64(584), 'Pura 70': np.int64(585), 'Pura 70 Pro': np.int64(586), 'Pura 70 Pro+': np.int64(587), 'Pura 70 Ultra': np.int64(588), 'Razr 128GB': np.int64(589), 'Razr 256GB': np.int64(590), 'Razr 50 256GB': np.int64(591), 'Razr 50 Ultra 512GB': np.int64(592), 'Redmi 14C 5G 128GB': np.int64(593), 'Redmi 14C 5G 64GB': np.int64(594), 'Redmi Note 14 4G 128GB': np.int64(595), 'Redmi Note 14 4G 256GB': np.int64(596), 'Redmi Note 14 5G 128GB': np.int64(597), 'Redmi Note 14 5G 256GB': np.int64(598), 'Redmi Note 14 Pro 4G 128GB': np.int64(599), 'Redmi Note 14 Pro 4G 256GB': np.int64(600), 'Redmi Note 14 Pro 5G 128GB': np.int64(601), 'Redmi Note 14 Pro 5G 256GB': np.int64(602), 'Redmi Note 14 Pro+ 5G 128GB': np.int64(603), 'Redmi Note 14 Pro+ 5G 256GB': np.int64(604), 'Redmi Note 14 Pro+ 5G 512GB': np.int64(605), 'Reno10 5G 128GB': np.int64(606), 'Reno10 5G 256GB': np.int64(607), 'Reno10 Pro 5G 256GB': np.int64(608), 'Reno10 Pro+ 5G 256GB': np.int64(609), 'Reno11 F 256GB': np.int64(610), 'Reno11 Pro 512GB': np.int64(611), 'Reno12 256GB': np.int64(612), 'Reno12 F 256GB': np.int64(613), 'Reno12 F 4G 256GB': np.int64(614), 'Reno12 Pro 512GB': np.int64(615), 'Reno13 256GB': np.int64(616), 'Reno13 F 256GB': np.int64(617), 'Reno13 F 4G 256GB': np.int64(618), 'Reno13 Pro 512GB': np.int64(619), 'Reno3 5G 128GB': np.int64(620), 'Reno3 5G 256GB': np.int64(621), 'Reno3 Pro 5G 256GB': np.int64(622), 'Reno4 5G 128GB': np.int64(623), 'Reno4 5G 256GB': np.int64(624), 'Reno4 Pro 5G 256GB': np.int64(625), 'Reno5 5G 128GB': np.int64(626), 'Reno5 5G 256GB': np.int64(627), 'Reno5 Pro 5G 128GB': np.int64(628), 'Reno5 Pro 5G 256GB': np.int64(629), 'Reno5 Pro+ 5G 256GB': np.int64(630), 'Reno6 5G 128GB': np.int64(631), 'Reno6 5G 256GB': np.int64(632), 'Reno6 Pro 5G 128GB': np.int64(633), 'Reno6 Pro 5G 256GB': np.int64(634), 'Reno6 Pro+ 5G 256GB': np.int64(635), 'Reno7 5G 128GB': np.int64(636), 'Reno7 5G 256GB': np.int64(637), 'Reno7 Pro 5G 256GB': np.int64(638), 'Reno8 5G 128GB': np.int64(639), 'Reno8 5G 256GB': np.int64(640), 'Reno8 Pro 5G 256GB': np.int64(641), 'Reno8 Pro+ 5G 256GB': np.int64(642), 'Reno9 5G 128GB': np.int64(643), 'Reno9 5G 256GB': np.int64(644), 'Reno9 Pro 5G 256GB': np.int64(645), 'Reno9 Pro+ 5G 256GB': np.int64(646), 'S1 Pro 128GB': np.int64(647), 'S1 Pro 256GB': np.int64(648), 'S18 Pro 256GB': np.int64(649), 'S50 Neo 256GB': np.int64(650), 'S50 Neo 512GB': np.int64(651), 'Smart 5 64GB': np.int64(652), 'Smart HD 32GB': np.int64(653), 'Spark 20 128GB': np.int64(654), 'Spark 20 Pro 128GB': np.int64(655), 'Spark 20 Pro 5G 256GB': np.int64(656), 'Spark 20 Pro+ 256GB': np.int64(657), 'Spark 20C 128GB': np.int64(658), 'Spark 20P 128GB': np.int64(659), 'Spark 30 128GB': np.int64(660), 'Spark 30 5G 128GB': np.int64(661), 'Spark 30 Pro 256GB': np.int64(662), 'Spark 30C 128GB': np.int64(663), 'Spark 30C 5G 128GB': np.int64(664), 'Spark Go 1 64GB': np.int64(665), 'Spark Go 1S 64GB': np.int64(666), 'Spark Go 2024 64GB': np.int64(667), 'T1 5G 128GB': np.int64(668), 'T1 5G 256GB': np.int64(669), 'T2 Series 128GB': np.int64(670), 'T2 Series 256GB': np.int64(671), 'T21': np.int64(672), 'T3 5G 128GB': np.int64(673), 'Tablet V7': np.int64(674), 'Tablet V7 Pro': np.int64(675), 'TechLife Pad Neo 128GB': np.int64(676), 'TechLife Pad Neo 64GB': np.int64(677), 'V15 128GB': np.int64(678), 'V15 256GB': np.int64(679), 'V15 Pro 128GB': np.int64(680), 'V15 Pro 256GB': np.int64(681), 'V17 Pro 128GB': np.int64(682), 'V17 Pro 256GB': np.int64(683), 'V19 128GB': np.int64(684), 'V19 256GB': np.int64(685), 'V20 Pro 128GB': np.int64(686), 'V20 Pro 256GB': np.int64(687), 'V23 5G 128GB': np.int64(688), 'V23 5G 256GB': np.int64(689), 'V23e 128GB': np.int64(690), 'V23e 256GB': np.int64(691), 'V25 Pro 128GB': np.int64(692), 'V25 Pro 256GB': np.int64(693), 'V27 128GB': np.int64(694), 'V27 256GB': np.int64(695), 'V27 Pro 128GB': np.int64(696), 'V27 Pro 256GB': np.int64(697), 'V3 Max 32GB': np.int64(698), 'V30 Pro 128GB': np.int64(699), 'V40': np.int64(700), 'V40e 128GB': np.int64(701), 'V5 Plus 64GB': np.int64(702), 'V9 64GB': np.int64(703), 'X10': np.int64(704), 'X10 Max': np.int64(705), 'X20': np.int64(706), 'X20 SE': np.int64(707), 'X200 128GB': np.int64(708), 'X200 256GB': np.int64(709), 'X200 Pro 256GB': np.int64(710), 'X200 Pro 512GB': np.int64(711), 'X200 Pro Mini 256GB': np.int64(712), 'X21 128GB': np.int64(713), 'X21 64GB': np.int64(714), 'X27 Pro 128GB': np.int64(715), 'X27 Pro 256GB': np.int64(716), 'X3 GT 128GB': np.int64(717), 'X3 NFC 128GB': np.int64(718), 'X3 Pro 128GB': np.int64(719), 'X30': np.int64(720), 'X30 Max': np.int64(721), 'X30 Pro 128GB': np.int64(722), 'X30 Pro 256GB': np.int64(723), 'X30i': np.int64(724), 'X3S 16GB': np.int64(725), 'X4 Pro 5G 128GB': np.int64(726), 'X40': np.int64(727), 'X40i': np.int64(728), 'X5 128GB': np.int64(729), 'X5 Pro 128GB': np.int64(730), 'X50': np.int64(731), 'X50i': np.int64(732), 'X5Max 16GB': np.int64(733), 'X6 128GB': np.int64(734), 'X6 Pro 256GB': np.int64(735), 'X60': np.int64(736), 'X60 Pro 256GB': np.int64(737), 'X60 Pro 512GB': np.int64(738), 'X60i': np.int64(739), 'X7 128GB': np.int64(740), 'X7 Pro 256GB': np.int64(741), 'X70 Pro 128GB': np.int64(742), 'X70 Pro 256GB': np.int64(743), 'X80 256GB': np.int64(744), 'X80 512GB': np.int64(745), 'X9 Plus 128GB': np.int64(746), 'X90 Pro 256GB': np.int64(747), 'X90 Pro 512GB': np.int64(748), 'Xiaomi 14 256GB': np.int64(749), 'Xiaomi 14 512GB': np.int64(750), 'Xiaomi 14 Pro 256GB': np.int64(751), 'Xiaomi 14 Pro 512GB': np.int64(752), 'Xiaomi 14T 256GB': np.int64(753), 'Xiaomi 14T 512GB': np.int64(754), 'Xiaomi 14T Pro 1TB': np.int64(755), 'Xiaomi 14T Pro 256GB': np.int64(756), 'Xiaomi 14T Pro 512GB': np.int64(757), 'Xiaomi 15 256GB': np.int64(758), 'Xiaomi 15 512GB': np.int64(759), 'Xiaomi 15 Pro 1TB': np.int64(760), 'Xiaomi 15 Pro 256GB': np.int64(761), 'Xiaomi 15 Pro 512GB': np.int64(762), 'Xpad': np.int64(763), 'Xpad 5G': np.int64(764), 'Xpad Lite': np.int64(765), 'Xpad Pro': np.int64(766), 'Xperia 1 IV 256GB': np.int64(767), 'Xperia 1 V 256GB': np.int64(768), 'Xperia 1 VI 256GB': np.int64(769), 'Xperia 10 IV 128GB': np.int64(770), 'Xperia 10 V 128GB': np.int64(771), 'Xperia 10 VI 128GB': np.int64(772), 'Xperia 5 IV 128GB': np.int64(773), 'Xperia 5 V 128GB': np.int64(774), 'Xperia 5 VI 128GB': np.int64(775), 'Y100 128GB': np.int64(776), 'Y100 256GB': np.int64(777), 'Y100 5G 128GB': np.int64(778), 'Y11 32GB': np.int64(779), 'Y11 64GB': np.int64(780), 'Y12s 128GB': np.int64(781), 'Y12s 64GB': np.int64(782), 'Y200 GT 128GB': np.int64(783), 'Y21 128GB': np.int64(784), 'Y21 64GB': np.int64(785), 'Y30 128GB': np.int64(786), 'Y30 64GB': np.int64(787), 'Y33s 128GB': np.int64(788), 'Y33s 64GB': np.int64(789), 'Y53s 128GB': np.int64(790), 'Y53s 64GB': np.int64(791), 'Y66 32GB': np.int64(792), 'Y75 5G 128GB': np.int64(793), 'Y75 5G 256GB': np.int64(794), 'Y81 32GB': np.int64(795), 'Y95 64GB': np.int64(796), 'Z1 Pro 128GB': np.int64(797), 'Z1 Pro 64GB': np.int64(798), 'Z3 64GB': np.int64(799), 'Z5 Pro 64GB': np.int64(800), 'Z6 Pro 128GB': np.int64(801), 'Z6 Pro 256GB': np.int64(802), 'Zero 30 256GB': np.int64(803), 'Zero 30 5G 256GB': np.int64(804), 'Zero 40': np.int64(805), 'Zero 40 5G': np.int64(806), 'Zero 8 128GB': np.int64(807), 'Zero 8i 128GB': np.int64(808), 'Zero Flip': np.int64(809), 'iPad 10.2-inch 128GB': np.int64(810), 'iPad 10.2-inch 32GB': np.int64(811), 'iPad Air 10.9-inch 256GB': np.int64(812), 'iPad Air 10.9-inch 64GB': np.int64(813), 'iPad Mini 7.9-inch 256GB': np.int64(814), 'iPad Mini 7.9-inch 64GB': np.int64(815), 'iPad Pro 11-inch 128GB': np.int64(816), 'iPad Pro 11-inch 256GB': np.int64(817), 'iPad Pro 11-inch 512GB': np.int64(818), 'iPad Pro 12.9-inch 128GB': np.int64(819), 'iPad Pro 12.9-inch 256GB': np.int64(820), 'iPad Pro 12.9-inch 512GB': np.int64(821), 'iPad Pro 13-inch 128GB': np.int64(822), 'iPad Pro 13-inch 1TB': np.int64(823), 'iPad Pro 13-inch 256GB': np.int64(824), 'iPad Pro 13-inch 2TB': np.int64(825), 'iPad Pro 13-inch 512GB': np.int64(826), 'iPhone 11 128GB': np.int64(827), 'iPhone 11 256GB': np.int64(828), 'iPhone 11 64GB': np.int64(829), 'iPhone 11 Pro 256GB': np.int64(830), 'iPhone 11 Pro 512GB': np.int64(831), 'iPhone 11 Pro 64GB': np.int64(832), 'iPhone 11 Pro Max 256GB': np.int64(833), 'iPhone 11 Pro Max 512GB': np.int64(834), 'iPhone 11 Pro Max 64GB': np.int64(835), 'iPhone 12 128GB': np.int64(836), 'iPhone 12 256GB': np.int64(837), 'iPhone 12 64GB': np.int64(838), 'iPhone 12 Pro 128GB': np.int64(839), 'iPhone 12 Pro 256GB': np.int64(840), 'iPhone 12 Pro 512GB': np.int64(841), 'iPhone 12 Pro Max 128GB': np.int64(842), 'iPhone 12 Pro Max 256GB': np.int64(843), 'iPhone 12 Pro Max 512GB': np.int64(844), 'iPhone 12 mini 128GB': np.int64(845), 'iPhone 12 mini 256GB': np.int64(846), 'iPhone 12 mini 64GB': np.int64(847), 'iPhone 13 128GB': np.int64(848), 'iPhone 13 256GB': np.int64(849), 'iPhone 13 512GB': np.int64(850), 'iPhone 13 Pro 128GB': np.int64(851), 'iPhone 13 Pro 256GB': np.int64(852), 'iPhone 13 Pro 512GB': np.int64(853), 'iPhone 13 Pro Max 128GB': np.int64(854), 'iPhone 13 Pro Max 256GB': np.int64(855), 'iPhone 13 Pro Max 512GB': np.int64(856), 'iPhone 13 mini 128GB': np.int64(857), 'iPhone 13 mini 256GB': np.int64(858), 'iPhone 13 mini 512GB': np.int64(859), 'iPhone 14 128GB': np.int64(860), 'iPhone 14 256GB': np.int64(861), 'iPhone 14 512GB': np.int64(862), 'iPhone 14 Plus 128GB': np.int64(863), 'iPhone 14 Plus 256GB': np.int64(864), 'iPhone 14 Plus 512GB': np.int64(865), 'iPhone 14 Pro 128GB': np.int64(866), 'iPhone 14 Pro 256GB': np.int64(867), 'iPhone 14 Pro 512GB': np.int64(868), 'iPhone 14 Pro Max 128GB': np.int64(869), 'iPhone 14 Pro Max 256GB': np.int64(870), 'iPhone 14 Pro Max 512GB': np.int64(871), 'iPhone 15 128GB': np.int64(872), 'iPhone 15 256GB': np.int64(873), 'iPhone 15 512GB': np.int64(874), 'iPhone 15 Plus 128GB': np.int64(875), 'iPhone 15 Plus 256GB': np.int64(876), 'iPhone 15 Plus 512GB': np.int64(877), 'iPhone 15 Pro 128GB': np.int64(878), 'iPhone 15 Pro 256GB': np.int64(879), 'iPhone 15 Pro 512GB': np.int64(880), 'iPhone 15 Pro Max 128GB': np.int64(881), 'iPhone 15 Pro Max 256GB': np.int64(882), 'iPhone 15 Pro Max 512GB': np.int64(883), 'iPhone 16 128GB': np.int64(884), 'iPhone 16 256GB': np.int64(885), 'iPhone 16 512GB': np.int64(886), 'iPhone 16 Plus 128GB': np.int64(887), 'iPhone 16 Plus 256GB': np.int64(888), 'iPhone 16 Plus 512GB': np.int64(889), 'iPhone 16 Pro 128GB': np.int64(890), 'iPhone 16 Pro 256GB': np.int64(891), 'iPhone 16 Pro 512GB': np.int64(892), 'iPhone 16 Pro Max 128GB': np.int64(893), 'iPhone 16 Pro Max 256GB': np.int64(894), 'iPhone 16 Pro Max 512GB': np.int64(895), 'iPhone X 256GB': np.int64(896), 'iPhone X 64GB': np.int64(897), 'iPhone XR 128GB': np.int64(898), 'iPhone XR 256GB': np.int64(899), 'iPhone XR 64GB': np.int64(900), 'iPhone XS 256GB': np.int64(901), 'iPhone XS 512GB': np.int64(902), 'iPhone XS 64GB': np.int64(903), 'iPhone XS Max 256GB': np.int64(904), 'iPhone XS Max 512GB': np.int64(905), 'iPhone XS Max 64GB': np.int64(906), 'iQOO 12 256GB': np.int64(907)}\n",
      "Feature Mobile Weight\n",
      "mapping {'135g': np.int64(0), '140g': np.int64(1), '143g': np.int64(2), '146g': np.int64(3), '147g': np.int64(4), '150g': np.int64(5), '151g': np.int64(6), '153g': np.int64(7), '155g': np.int64(8), '156g': np.int64(9), '158g': np.int64(10), '159g': np.int64(11), '161g': np.int64(12), '162g': np.int64(13), '163g': np.int64(14), '164g': np.int64(15), '165g': np.int64(16), '166g': np.int64(17), '167g': np.int64(18), '168g': np.int64(19), '169g': np.int64(20), '170g': np.int64(21), '171g': np.int64(22), '172g': np.int64(23), '173g': np.int64(24), '174g': np.int64(25), '175g': np.int64(26), '176g': np.int64(27), '177g': np.int64(28), '178.8g': np.int64(29), '178g': np.int64(30), '179g': np.int64(31), '180g': np.int64(32), '181g': np.int64(33), '182g': np.int64(34), '183g': np.int64(35), '184g': np.int64(36), '185g': np.int64(37), '186g': np.int64(38), '187g': np.int64(39), '188g': np.int64(40), '189g': np.int64(41), '190g': np.int64(42), '191g': np.int64(43), '192g': np.int64(44), '193g': np.int64(45), '194g': np.int64(46), '195g': np.int64(47), '196g': np.int64(48), '197g': np.int64(49), '198g': np.int64(50), '199g': np.int64(51), '200g': np.int64(52), '201g': np.int64(53), '202g': np.int64(54), '203g': np.int64(55), '204g': np.int64(56), '205g': np.int64(57), '206g': np.int64(58), '207g': np.int64(59), '208g': np.int64(60), '209g': np.int64(61), '210g': np.int64(62), '211g': np.int64(63), '212g': np.int64(64), '213g': np.int64(65), '215g': np.int64(66), '216g': np.int64(67), '218g': np.int64(68), '219g': np.int64(69), '220g': np.int64(70), '221g': np.int64(71), '222.8g': np.int64(72), '222g': np.int64(73), '223g': np.int64(74), '225g': np.int64(75), '226g': np.int64(76), '227g': np.int64(77), '228g': np.int64(78), '229g': np.int64(79), '230g': np.int64(80), '231g': np.int64(81), '233g': np.int64(82), '234g': np.int64(83), '235g': np.int64(84), '236g': np.int64(85), '238g': np.int64(86), '239g': np.int64(87), '240g': np.int64(88), '241g': np.int64(89), '242g': np.int64(90), '245g': np.int64(91), '250g': np.int64(92), '254g': np.int64(93), '255g': np.int64(94), '263g': np.int64(95), '267g': np.int64(96), '280g': np.int64(97), '288g': np.int64(98), '295g': np.int64(99), '300.5g': np.int64(100), '360g': np.int64(101), '366g': np.int64(102), '372g': np.int64(103), '420g': np.int64(104), '426g': np.int64(105), '433g': np.int64(106), '440g': np.int64(107), '450g': np.int64(108), '458g': np.int64(109), '460g': np.int64(110), '465g': np.int64(111), '466g': np.int64(112), '468g': np.int64(113), '470g': np.int64(114), '475g': np.int64(115), '480g': np.int64(116), '482g': np.int64(117), '485g': np.int64(118), '490g': np.int64(119), '495g': np.int64(120), '498g': np.int64(121), '499g': np.int64(122), '500g': np.int64(123), '503g': np.int64(124), '505g': np.int64(125), '508g': np.int64(126), '510g': np.int64(127), '520g': np.int64(128), '523g': np.int64(129), '530g': np.int64(130), '533g': np.int64(131), '535g': np.int64(132), '540g': np.int64(133), '550g': np.int64(134), '555g': np.int64(135), '560g': np.int64(136), '567g': np.int64(137), '571g': np.int64(138), '580g': np.int64(139), '586g': np.int64(140), '590g': np.int64(141), '610g': np.int64(142), '674g': np.int64(143), '682g': np.int64(144), '708g': np.int64(145), '726g': np.int64(146), '732g': np.int64(147)}\n",
      "Feature RAM\n",
      "mapping {'1.5GB': np.int64(0), '10GB': np.int64(1), '12GB': np.int64(2), '16GB': np.int64(3), '1GB': np.int64(4), '2GB': np.int64(5), '3GB': np.int64(6), '4GB': np.int64(7), '6GB': np.int64(8), '8GB': np.int64(9), '8GB / 12GB': np.int64(10)}\n",
      "Feature Front Camera\n",
      "mapping {'10.5MP': np.int64(0), '10.7MP': np.int64(1), '10.8MP': np.int64(2), '10MP': np.int64(3), '10MP, 4MP (UDC)': np.int64(4), '11.1MP': np.int64(5), '12MP': np.int64(6), '12MP + 12MP': np.int64(7), '12MP / 4K': np.int64(8), '13MP': np.int64(9), '16MP': np.int64(10), '20MP': np.int64(11), '20MP+8MP': np.int64(12), '24MP': np.int64(13), '25MP': np.int64(14), '2MP': np.int64(15), '32MP': np.int64(16), '42MP': np.int64(17), '44MP': np.int64(18), '48MP': np.int64(19), '50MP': np.int64(20), '5MP': np.int64(21), '60MP': np.int64(22), '60MP (ultrawide) + 8MP (telephoto)': np.int64(23), '60MP + 8MP': np.int64(24), '7MP': np.int64(25), '8MP': np.int64(26), 'Dual 32MP': np.int64(27), 'Dual 60MP': np.int64(28)}\n",
      "Feature Back Camera\n",
      "mapping {'100MP': np.int64(0), '108MP': np.int64(1), '108MP (Main) + 8MP (Ultra-wide) + 2MP (Macro)': np.int64(2), '108MP + 12MP': np.int64(3), '108MP + 2MP': np.int64(4), '108MP + 8MP': np.int64(5), '12.2MP': np.int64(6), '12MP': np.int64(7), '12MP + 10MP': np.int64(8), '12MP + 12MP': np.int64(9), '12MP + 12MP + 12MP': np.int64(10), '12MP + 16MP': np.int64(11), '12MP + 8MP + 2MP + 2MP': np.int64(12), '13MP': np.int64(13), '13MP (f/1.8, AF)': np.int64(14), '13MP + 2MP': np.int64(15), '13MP + 2MP + 2MP': np.int64(16), '13MP + 5MP': np.int64(17), '13MP + 6MP': np.int64(18), '13MP + 8MP': np.int64(19), '13MP+2MP': np.int64(20), '160MP': np.int64(21), '16MP': np.int64(22), '16MP + 20MP': np.int64(23), '16MP + 2MP + 2MP': np.int64(24), '16MP + 5MP': np.int64(25), '16MP + 8MP': np.int64(26), '200MP': np.int64(27), '200MP (Main) + 8MP (Ultra-wide) + 2MP (Macro)': np.int64(28), '200MP + 12MP': np.int64(29), '20MP + 16MP': np.int64(30), '40MP': np.int64(31), '48MP': np.int64(32), '48MP (wide) + 13MP (ultrawide) + 48MP (telephoto)': np.int64(33), '48MP (wide) + 40MP (ultrawide) + 48MP (telephoto)': np.int64(34), '48MP + 12MP': np.int64(35), '48MP + 13MP + 12MP': np.int64(36), '48MP + 13MP + 8MP + 2MP': np.int64(37), '48MP + 16MP': np.int64(38), '48MP + 2MP + 2MP': np.int64(39), '48MP + 48MP': np.int64(40), '48MP + 50MP': np.int64(41), '48MP + 5MP': np.int64(42), '48MP + 64MP + 48MP': np.int64(43), '48MP + 8MP': np.int64(44), '48MP + 8MP + 2MP + 2MP': np.int64(45), '50MP': np.int64(46), '50MP (Main) + 2MP (Depth)': np.int64(47), '50MP (Main) + 50MP (Ultra-wide)': np.int64(48), '50MP (Main) + 50MP (Ultra-wide) + 50MP (Telephoto)': np.int64(49), '50MP (Main) + 8MP (Ultra-wide) + 2MP (Macro)': np.int64(50), '50MP (wide) + 12MP (ultrawide) + 12MP (telephoto)': np.int64(51), '50MP (wide) + 13MP (ultrawide) + 12MP (periscope telephoto)': np.int64(52), '50MP (wide) + 40MP (ultrawide) + 48MP (telephoto)': np.int64(53), '50MP (wide) + 48MP (ultrawide) + 48MP (telephoto)': np.int64(54), '50MP (wide) + 8MP (ultrawide)': np.int64(55), '50MP + 12.5MP + 48MP': np.int64(56), '50MP + 12MP': np.int64(57), '50MP + 12MP + 40MP': np.int64(58), '50MP + 12MP + 48MP': np.int64(59), '50MP + 13MP + 12MP': np.int64(60), '50MP + 13MP + 16MP + 2MP': np.int64(61), '50MP + 16MP': np.int64(62), '50MP + 16MP + 13MP + 2MP': np.int64(63), '50MP + 2MP': np.int64(64), '50MP + 32MP + 48MP': np.int64(65), '50MP + 32MP + 8MP': np.int64(66), '50MP + 40MP + 50MP': np.int64(67), '50MP + 48MP': np.int64(68), '50MP + 48MP + 32MP': np.int64(69), '50MP + 50MP': np.int64(70), '50MP + 50MP + 13MP': np.int64(71), '50MP + 50MP + 50MP': np.int64(72), '50MP + 50MP + 64MP': np.int64(73), '50MP + 50MP + 8MP': np.int64(74), '50MP + 5MP': np.int64(75), '50MP + 64MP + 8MP': np.int64(76), '50MP + 8MP': np.int64(77), '50MP + 8MP + 2MP': np.int64(78), '50MP + 8MP + 50MP': np.int64(79), '54MP': np.int64(80), '5MP': np.int64(81), '64MP': np.int64(82), '64MP + 2MP': np.int64(83), '64MP + 2MP + 2MP': np.int64(84), '64MP + 32MP + 8MP': np.int64(85), '64MP + 8MP': np.int64(86), '64MP + 8MP + 2MP': np.int64(87), '64MP + 8MP + 2MP + 2MP': np.int64(88), '8MP': np.int64(89), '8MP + 2MP': np.int64(90)}\n",
      "Feature Processor\n",
      "mapping {'A11 Bionic': np.int64(0), 'A12 Bionic': np.int64(1), 'A12Z Bionic': np.int64(2), 'A13 Bionic': np.int64(3), 'A14 Bionic': np.int64(4), 'A15 Bionic': np.int64(5), 'A16 Bionic': np.int64(6), 'A17 Bionic': np.int64(7), 'A17 Pro': np.int64(8), 'Dimensity 1000+': np.int64(9), 'Dimensity 1000L': np.int64(10), 'Dimensity 1100': np.int64(11), 'Dimensity 1200': np.int64(12), 'Dimensity 1300': np.int64(13), 'Dimensity 6300': np.int64(14), 'Dimensity 7050': np.int64(15), 'Dimensity 7300': np.int64(16), 'Dimensity 8100': np.int64(17), 'Dimensity 8300-Ultra': np.int64(18), 'Dimensity 8350': np.int64(19), 'Dimensity 900': np.int64(20), 'Dimensity 9000+': np.int64(21), 'Dimensity 9200': np.int64(22), 'Dimensity 9300': np.int64(23), 'Dimensity 9300+': np.int64(24), 'Dimensity 9400': np.int64(25), 'Exynos 1280': np.int64(26), 'Exynos 1380': np.int64(27), 'Exynos 2200': np.int64(28), 'Exynos 2400': np.int64(29), 'Exynos 7570': np.int64(30), 'Exynos 7870': np.int64(31), 'Exynos 850': np.int64(32), 'Exynos 9609': np.int64(33), 'Exynos 9810': np.int64(34), 'Exynos 9825': np.int64(35), 'Exynos 990': np.int64(36), 'Google Tensor': np.int64(37), 'Google Tensor G2': np.int64(38), 'Google Tensor G3': np.int64(39), 'Google Tensor G4': np.int64(40), 'Helio P22': np.int64(41), 'Kirin 710A': np.int64(42), 'Kirin 710F': np.int64(43), 'Kirin 820 5G': np.int64(44), 'Kirin 9000 5G': np.int64(45), 'Kirin 9000S': np.int64(46), 'Kirin 9010': np.int64(47), 'Kirin 985 5G': np.int64(48), 'Kirin 990 5G': np.int64(49), 'Kirin 990E 5G': np.int64(50), 'MediaTek Dimensity 1000+': np.int64(51), 'MediaTek Dimensity 1080': np.int64(52), 'MediaTek Dimensity 1100': np.int64(53), 'MediaTek Dimensity 1200': np.int64(54), 'MediaTek Dimensity 1200-AI': np.int64(55), 'MediaTek Dimensity 1300': np.int64(56), 'MediaTek Dimensity 1300T': np.int64(57), 'MediaTek Dimensity 6020': np.int64(58), 'MediaTek Dimensity 6100+': np.int64(59), 'MediaTek Dimensity 700': np.int64(60), 'MediaTek Dimensity 7025': np.int64(61), 'MediaTek Dimensity 7025-Ultra': np.int64(62), 'MediaTek Dimensity 7050': np.int64(63), 'MediaTek Dimensity 720': np.int64(64), 'MediaTek Dimensity 7200': np.int64(65), 'MediaTek Dimensity 7300': np.int64(66), 'MediaTek Dimensity 7300 Energy': np.int64(67), 'MediaTek Dimensity 7300-Ultra': np.int64(68), 'MediaTek Dimensity 800': np.int64(69), 'MediaTek Dimensity 8000': np.int64(70), 'MediaTek Dimensity 8000-Max': np.int64(71), 'MediaTek Dimensity 800U': np.int64(72), 'MediaTek Dimensity 8020': np.int64(73), 'MediaTek Dimensity 8050': np.int64(74), 'MediaTek Dimensity 810': np.int64(75), 'MediaTek Dimensity 8100': np.int64(76), 'MediaTek Dimensity 8200': np.int64(77), 'MediaTek Dimensity 8300': np.int64(78), 'MediaTek Dimensity 8350': np.int64(79), 'MediaTek Dimensity 8400': np.int64(80), 'MediaTek Dimensity 900': np.int64(81), 'MediaTek Dimensity 9000': np.int64(82), 'MediaTek Dimensity 920': np.int64(83), 'MediaTek Dimensity 9200': np.int64(84), 'MediaTek Dimensity 9200+': np.int64(85), 'MediaTek G35': np.int64(86), 'MediaTek G99': np.int64(87), 'MediaTek Helio A20': np.int64(88), 'MediaTek Helio A22': np.int64(89), 'MediaTek Helio A25': np.int64(90), 'MediaTek Helio G100': np.int64(91), 'MediaTek Helio G25': np.int64(92), 'MediaTek Helio G35': np.int64(93), 'MediaTek Helio G36': np.int64(94), 'MediaTek Helio G37': np.int64(95), 'MediaTek Helio G70': np.int64(96), 'MediaTek Helio G80': np.int64(97), 'MediaTek Helio G85': np.int64(98), 'MediaTek Helio G88': np.int64(99), 'MediaTek Helio G90T': np.int64(100), 'MediaTek Helio G95': np.int64(101), 'MediaTek Helio G96': np.int64(102), 'MediaTek Helio G99': np.int64(103), 'MediaTek Helio P22': np.int64(104), 'MediaTek Helio P22T': np.int64(105), 'MediaTek Helio P35': np.int64(106), 'MediaTek Helio P65': np.int64(107), 'MediaTek Helio P70': np.int64(108), 'MediaTek MT6592': np.int64(109), 'MediaTek MT6762G Helio G25': np.int64(110), 'MediaTek MT8768T': np.int64(111), 'MediaTek MT8786': np.int64(112), 'Qualcomm MSM8916': np.int64(113), 'Qualcomm Snapdragon 439': np.int64(114), 'Qualcomm Snapdragon 460': np.int64(115), 'Qualcomm Snapdragon 480': np.int64(116), 'Qualcomm Snapdragon 6 Gen 1': np.int64(117), 'Qualcomm Snapdragon 660': np.int64(118), 'Qualcomm Snapdragon 662': np.int64(119), 'Qualcomm Snapdragon 675': np.int64(120), 'Qualcomm Snapdragon 680': np.int64(121), 'Qualcomm Snapdragon 685': np.int64(122), 'Qualcomm Snapdragon 690': np.int64(123), 'Qualcomm Snapdragon 695': np.int64(124), 'Qualcomm Snapdragon 6s Gen 1': np.int64(125), 'Qualcomm Snapdragon 7 Gen 1': np.int64(126), 'Qualcomm Snapdragon 7 Plus Gen 3': np.int64(127), 'Qualcomm Snapdragon 7+ Gen 2': np.int64(128), 'Qualcomm Snapdragon 7+ Gen 3': np.int64(129), 'Qualcomm Snapdragon 710': np.int64(130), 'Qualcomm Snapdragon 712': np.int64(131), 'Qualcomm Snapdragon 732G': np.int64(132), 'Qualcomm Snapdragon 765G': np.int64(133), 'Qualcomm Snapdragon 768G': np.int64(134), 'Qualcomm Snapdragon 778G': np.int64(135), 'Qualcomm Snapdragon 778G+': np.int64(136), 'Qualcomm Snapdragon 782G': np.int64(137), 'Qualcomm Snapdragon 7s Gen 1': np.int64(138), 'Qualcomm Snapdragon 7s Gen 2': np.int64(139), 'Qualcomm Snapdragon 7s Gen 3': np.int64(140), 'Qualcomm Snapdragon 8 Elite': np.int64(141), 'Qualcomm Snapdragon 8 Gen 1': np.int64(142), 'Qualcomm Snapdragon 8 Gen 2': np.int64(143), 'Qualcomm Snapdragon 8 Gen 3': np.int64(144), 'Qualcomm Snapdragon 8+ Gen 1': np.int64(145), 'Qualcomm Snapdragon 855': np.int64(146), 'Qualcomm Snapdragon 870': np.int64(147), 'Qualcomm Snapdragon 888': np.int64(148), 'Qualcomm Snapdragon 888+': np.int64(149), 'Qualcomm Snapdragon 8s Gen 3': np.int64(150), 'Snapdragon 4 Gen 1': np.int64(151), 'Snapdragon 425': np.int64(152), 'Snapdragon 430': np.int64(153), 'Snapdragon 439': np.int64(154), 'Snapdragon 450': np.int64(155), 'Snapdragon 460': np.int64(156), 'Snapdragon 480': np.int64(157), 'Snapdragon 480+': np.int64(158), 'Snapdragon 480+ 5G': np.int64(159), 'Snapdragon 6 Gen 1': np.int64(160), 'Snapdragon 6 Gen 3': np.int64(161), 'Snapdragon 615': np.int64(162), 'Snapdragon 617': np.int64(163), 'Snapdragon 625': np.int64(164), 'Snapdragon 626': np.int64(165), 'Snapdragon 632': np.int64(166), 'Snapdragon 652': np.int64(167), 'Snapdragon 653': np.int64(168), 'Snapdragon 662': np.int64(169), 'Snapdragon 670': np.int64(170), 'Snapdragon 680 4G': np.int64(171), 'Snapdragon 685': np.int64(172), 'Snapdragon 695': np.int64(173), 'Snapdragon 695 5G': np.int64(174), 'Snapdragon 6s 4G Gen 1': np.int64(175), 'Snapdragon 6s Gen 3': np.int64(176), 'Snapdragon 7 Gen 1': np.int64(177), 'Snapdragon 7 Gen 3': np.int64(178), 'Snapdragon 7+ Gen 2': np.int64(179), 'Snapdragon 710': np.int64(180), 'Snapdragon 720G': np.int64(181), 'Snapdragon 730G': np.int64(182), 'Snapdragon 732G': np.int64(183), 'Snapdragon 750G': np.int64(184), 'Snapdragon 765G': np.int64(185), 'Snapdragon 778G': np.int64(186), 'Snapdragon 778G 4G': np.int64(187), 'Snapdragon 782G': np.int64(188), 'Snapdragon 7s Gen 2': np.int64(189), 'Snapdragon 7s Gen 3': np.int64(190), 'Snapdragon 8 Elite': np.int64(191), 'Snapdragon 8 Gen 1': np.int64(192), 'Snapdragon 8 Gen 2': np.int64(193), 'Snapdragon 8 Gen 3': np.int64(194), 'Snapdragon 8+ Gen 1': np.int64(195), 'Snapdragon 8+ Gen 1 4G': np.int64(196), 'Snapdragon 8+ Gen 2': np.int64(197), 'Snapdragon 835': np.int64(198), 'Snapdragon 845': np.int64(199), 'Snapdragon 855': np.int64(200), 'Snapdragon 860': np.int64(201), 'Snapdragon 865': np.int64(202), 'Snapdragon 870': np.int64(203), 'Snapdragon 888': np.int64(204), 'Snapdragon 888 4G': np.int64(205), 'Snapdragon 888+ 5G': np.int64(206), 'Spreadtrum SC8830': np.int64(207), 'Unisoc SC9832E': np.int64(208), 'Unisoc SC9863A': np.int64(209), 'Unisoc T606': np.int64(210), 'Unisoc T610': np.int64(211), 'Unisoc T612': np.int64(212), 'Unisoc T616': np.int64(213), 'Unisoc T618': np.int64(214), 'Unisoc T700': np.int64(215), 'Unisoc T760': np.int64(216)}\n",
      "Feature Battery Capacity\n",
      "mapping {'10,000mAh': np.int64(0), '10,100mAh': np.int64(1), '10,307mAh': np.int64(2), '10,500mAh': np.int64(3), '10090mAh': np.int64(4), '11000mAh': np.int64(5), '11200mAh': np.int64(6), '2,227mAh': np.int64(7), '2,438mAh': np.int64(8), '2,658mAh': np.int64(9), '2,716mAh': np.int64(10), '2,800mAh': np.int64(11), '2,815mAh': np.int64(12), '2,942mAh': np.int64(13), '2000mAh': np.int64(14), '2300mAh': np.int64(15), '2600mAh': np.int64(16), '3,000mAh': np.int64(17), '3,046mAh': np.int64(18), '3,095mAh': np.int64(19), '3,110mAh': np.int64(20), '3,140mAh': np.int64(21), '3,174mAh': np.int64(22), '3,200mAh': np.int64(23), '3,240mAh': np.int64(24), '3,350mAh': np.int64(25), '3,500mAh': np.int64(26), '3,600mAh': np.int64(27), '3,687mAh': np.int64(28), '3,700mAh': np.int64(29), '3,750mAh': np.int64(30), '3,800mAh': np.int64(31), '3,885mAh': np.int64(32), '3,969mAh': np.int64(33), '3000mAh': np.int64(34), '3055mAh': np.int64(35), '3200mAh': np.int64(36), '3260mAh': np.int64(37), '3300mAh': np.int64(38), '3315mAh': np.int64(39), '3500mAh': np.int64(40), '3600mAh': np.int64(41), '3700mAh': np.int64(42), '3800mAh': np.int64(43), '3900mAh': np.int64(44), '4,000mAh': np.int64(45), '4,020mAh': np.int64(46), '4,025mAh': np.int64(47), '4,040mAh': np.int64(48), '4,050mAh': np.int64(49), '4,080mAh': np.int64(50), '4,100mAh': np.int64(51), '4,200mAh': np.int64(52), '4,300mAh': np.int64(53), '4,310mAh': np.int64(54), '4,325mAh': np.int64(55), '4,350mAh': np.int64(56), '4,352mAh': np.int64(57), '4,355mAh': np.int64(58), '4,360mAh': np.int64(59), '4,385mAh': np.int64(60), '4,400mAh': np.int64(61), '4,410mAh': np.int64(62), '4,460mAh': np.int64(63), '4,500mAh': np.int64(64), '4,575mAh': np.int64(65), '4,600mAh': np.int64(66), '4,610mAh': np.int64(67), '4,614mAh': np.int64(68), '4,680mAh': np.int64(69), '4,700mAh': np.int64(70), '4,750mAh': np.int64(71), '4,800mAh': np.int64(72), '4,815mAh': np.int64(73), '4,900mAh': np.int64(74), '4000mAh': np.int64(75), '4030mAh': np.int64(76), '4050mAh': np.int64(77), '4085mAh': np.int64(78), '4100mAh': np.int64(79), '4115mAh': np.int64(80), '4200mAh': np.int64(81), '4300mAh': np.int64(82), '4400mAh': np.int64(83), '4450mAh': np.int64(84), '4500mAh': np.int64(85), '4510mAh': np.int64(86), '4520mAh': np.int64(87), '4600mAh': np.int64(88), '4700mAh': np.int64(89), '4800mAh': np.int64(90), '4805mAh': np.int64(91), '4830mAh': np.int64(92), '4870mAh': np.int64(93), '5,000mAh': np.int64(94), '5,003mAh': np.int64(95), '5,050mAh': np.int64(96), '5,100mAh': np.int64(97), '5,110mAh': np.int64(98), '5,124mAh': np.int64(99), '5,200mAh': np.int64(100), '5,250mAh': np.int64(101), '5,300mAh': np.int64(102), '5,400mAh': np.int64(103), '5,450mAh': np.int64(104), '5,500mAh': np.int64(105), '5,550mAh': np.int64(106), '5,800mAh': np.int64(107), '5000mAh': np.int64(108), '5050mAh': np.int64(109), '5065mAh': np.int64(110), '5100mAh': np.int64(111), '5110mAh': np.int64(112), '5160mAh': np.int64(113), '5600mAh': np.int64(114), '5700mAh': np.int64(115), '5800mAh': np.int64(116), '6,000mAh': np.int64(117), '6,100mAh': np.int64(118), '6,400mAh': np.int64(119), '6,500mAh': np.int64(120), '6000mAh': np.int64(121), '6400mAh': np.int64(122), '7,000mAh': np.int64(123), '7,100mAh': np.int64(124), '7,200mAh': np.int64(125), '7,250mAh': np.int64(126), '7,500mAh': np.int64(127), '7,608mAh': np.int64(128), '7,812mAh': np.int64(129), '7040mAh': np.int64(130), '7600mAh': np.int64(131), '8,000mAh': np.int64(132), '8,300mAh': np.int64(133), '8,340mAh': np.int64(134), '8,360mAh': np.int64(135), '8,500mAh': np.int64(136), '8,612mAh': np.int64(137), '8,850mAh': np.int64(138), '8000mAh': np.int64(139), '8040mAh': np.int64(140), '8200mAh': np.int64(141), '8360mAh': np.int64(142), '8400mAh': np.int64(143), '9,000mAh': np.int64(144), '9,720mAh': np.int64(145), '9510mAh': np.int64(146)}\n",
      "Feature Screen Size\n",
      "mapping {'10.1 inches': np.int64(0), '10.2 inches': np.int64(1), '10.4 inches': np.int64(2), '10.5 inches': np.int64(3), '10.9 inches': np.int64(4), '11 inches': np.int64(5), '11.0 inches': np.int64(6), '11.5 inches': np.int64(7), '11.6 inches': np.int64(8), '11.61 inches': np.int64(9), '12.0 inches': np.int64(10), '12.1 inches': np.int64(11), '12.2 inches': np.int64(12), '12.3 inches': np.int64(13), '12.4 inches': np.int64(14), '12.6 inches': np.int64(15), '12.9 inches': np.int64(16), '13 inches': np.int64(17), '13.0 inches': np.int64(18), '13.2 inches': np.int64(19), '13.5 inches': np.int64(20), '14.6 inches': np.int64(21), '5.0 inches': np.int64(22), '5.2 inches': np.int64(23), '5.3 inches': np.int64(24), '5.4 inches': np.int64(25), '5.5 inches': np.int64(26), '5.6 inches': np.int64(27), '5.7 inches': np.int64(28), '5.8 inches': np.int64(29), '5.88 inches': np.int64(30), '6.0 inches': np.int64(31), '6.01 inches': np.int64(32), '6.09 inches': np.int64(33), '6.1 inches': np.int64(34), '6.2 inches': np.int64(35), '6.22 inches': np.int64(36), '6.28 inches': np.int64(37), '6.3 inches': np.int64(38), '6.31 inches': np.int64(39), '6.34 inches': np.int64(40), '6.35 inches': np.int64(41), '6.36 inches': np.int64(42), '6.38 inches': np.int64(43), '6.39 inches': np.int64(44), '6.4 inches': np.int64(45), '6.41 inches': np.int64(46), '6.43 inches': np.int64(47), '6.44 inches': np.int64(48), '6.47 inches': np.int64(49), '6.49 inches': np.int64(50), '6.5 inches': np.int64(51), '6.51 inches': np.int64(52), '6.52 inches': np.int64(53), '6.53 inches': np.int64(54), '6.55 inches': np.int64(55), '6.56 inches': np.int64(56), '6.57 inches': np.int64(57), '6.58 inches': np.int64(58), '6.59 inches': np.int64(59), '6.6 inches': np.int64(60), '6.63 inches': np.int64(61), '6.67 inches': np.int64(62), '6.7 inches': np.int64(63), '6.7 inches (internal), 3.6 inches (external)': np.int64(64), '6.7 inches (main), 2.7 inches (external)': np.int64(65), '6.71 inches': np.int64(66), '6.72 inches': np.int64(67), '6.73 inches': np.int64(68), '6.74 inches': np.int64(69), '6.76 inches': np.int64(70), '6.78 inches': np.int64(71), '6.79 inches': np.int64(72), '6.8 inches': np.int64(73), '6.81 inches': np.int64(74), '6.82 inches': np.int64(75), '6.83 inches': np.int64(76), '6.85 inches': np.int64(77), '6.9 inches': np.int64(78), '6.9 inches (internal), 4.0 inches (external)': np.int64(79), '6.9 inches (unfolded)': np.int64(80), '6.95 inches': np.int64(81), '7.09 inches': np.int64(82), '7.1 inches': np.int64(83), '7.6 inches': np.int64(84), '7.8 inches': np.int64(85), '7.8 inches (unfolded)': np.int64(86), '7.82 inches': np.int64(87), '7.85 inches': np.int64(88), '7.85 inches (unfolded)': np.int64(89), '7.9 inches': np.int64(90), '7.92 inches': np.int64(91), '7.93 inches': np.int64(92), '8 inches': np.int64(93), '8.0 inches (unfolded)': np.int64(94), '8.7 inches': np.int64(95), '9.7 inches': np.int64(96)}\n",
      "Feature Launched Price (Pakistan)\n",
      "mapping {'Not available': np.int64(0), 'PKR 100,000': np.int64(1), 'PKR 104,999': np.int64(2), 'PKR 105,000': np.int64(3), 'PKR 109,999': np.int64(4), 'PKR 119,999': np.int64(5), 'PKR 120,000': np.int64(6), 'PKR 124,999': np.int64(7), 'PKR 129,999': np.int64(8), 'PKR 134,999': np.int64(9), 'PKR 139,999': np.int64(10), 'PKR 140,000': np.int64(11), 'PKR 149,999': np.int64(12), 'PKR 15,999': np.int64(13), 'PKR 150,000': np.int64(14), 'PKR 159,999': np.int64(15), 'PKR 160,000': np.int64(16), 'PKR 161,500': np.int64(17), 'PKR 164,999': np.int64(18), 'PKR 169,999': np.int64(19), 'PKR 170,000': np.int64(20), 'PKR 174,999': np.int64(21), 'PKR 179,999': np.int64(22), 'PKR 18,499': np.int64(23), 'PKR 18,999': np.int64(24), 'PKR 180,000': np.int64(25), 'PKR 184,999': np.int64(26), 'PKR 189,999': np.int64(27), 'PKR 19,999': np.int64(28), 'PKR 194,999': np.int64(29), 'PKR 197,000': np.int64(30), 'PKR 199,999': np.int64(31), 'PKR 200,000': np.int64(32), 'PKR 204,999': np.int64(33), 'PKR 209,999': np.int64(34), 'PKR 21,999': np.int64(35), 'PKR 214,999': np.int64(36), 'PKR 219,999': np.int64(37), 'PKR 22,499': np.int64(38), 'PKR 22,999': np.int64(39), 'PKR 224,999': np.int64(40), 'PKR 229,999': np.int64(41), 'PKR 23,999': np.int64(42), 'PKR 230,000': np.int64(43), 'PKR 234,999': np.int64(44), 'PKR 239,999': np.int64(45), 'PKR 24,999': np.int64(46), 'PKR 244,999': np.int64(47), 'PKR 249,999': np.int64(48), 'PKR 25,000': np.int64(49), 'PKR 25,999': np.int64(50), 'PKR 250,000': np.int64(51), 'PKR 259,999': np.int64(52), 'PKR 26,999': np.int64(53), 'PKR 260,000': np.int64(54), 'PKR 264,999': np.int64(55), 'PKR 269,999': np.int64(56), 'PKR 27,999': np.int64(57), 'PKR 274,999': np.int64(58), 'PKR 279,999': np.int64(59), 'PKR 28,000': np.int64(60), 'PKR 28,999': np.int64(61), 'PKR 280,000': np.int64(62), 'PKR 284,999': np.int64(63), 'PKR 289,999': np.int64(64), 'PKR 29,999': np.int64(65), 'PKR 294,999': np.int64(66), 'PKR 299,999': np.int64(67), 'PKR 30,999': np.int64(68), 'PKR 300,000': np.int64(69), 'PKR 304,999': np.int64(70), 'PKR 309,999': np.int64(71), 'PKR 31,999': np.int64(72), 'PKR 314,999': np.int64(73), 'PKR 319,999': np.int64(74), 'PKR 32,999': np.int64(75), 'PKR 320,000': np.int64(76), 'PKR 324,999': np.int64(77), 'PKR 330,000': np.int64(78), 'PKR 334,999': np.int64(79), 'PKR 339,999': np.int64(80), 'PKR 34,999': np.int64(81), 'PKR 344,999': np.int64(82), 'PKR 349,999': np.int64(83), 'PKR 35,000': np.int64(84), 'PKR 35,999': np.int64(85), 'PKR 350,000': np.int64(86), 'PKR 354,999': np.int64(87), 'PKR 359,999': np.int64(88), 'PKR 36,999': np.int64(89), 'PKR 360,000': np.int64(90), 'PKR 364,999': np.int64(91), 'PKR 369,999': np.int64(92), 'PKR 37,999': np.int64(93), 'PKR 38,999': np.int64(94), 'PKR 380,000': np.int64(95), 'PKR 384,999': np.int64(96), 'PKR 389,999': np.int64(97), 'PKR 39,999': np.int64(98), 'PKR 390,000': np.int64(99), 'PKR 399,999': np.int64(100), 'PKR 40,000': np.int64(101), 'PKR 400,000': np.int64(102), 'PKR 41,999': np.int64(103), 'PKR 42,999': np.int64(104), 'PKR 420,000': np.int64(105), 'PKR 429,999': np.int64(106), 'PKR 430,000': np.int64(107), 'PKR 44,999': np.int64(108), 'PKR 449,999': np.int64(109), 'PKR 45,000': np.int64(110), 'PKR 45,999': np.int64(111), 'PKR 450,000': np.int64(112), 'PKR 46,999': np.int64(113), 'PKR 460,000': np.int64(114), 'PKR 469,999': np.int64(115), 'PKR 47,999': np.int64(116), 'PKR 48,999': np.int64(117), 'PKR 480,000': np.int64(118), 'PKR 49,999': np.int64(119), 'PKR 50,000': np.int64(120), 'PKR 500,000': np.int64(121), 'PKR 52,000': np.int64(122), 'PKR 52,999': np.int64(123), 'PKR 530,000': np.int64(124), 'PKR 54,999': np.int64(125), 'PKR 544,999': np.int64(126), 'PKR 55,000': np.int64(127), 'PKR 55,999': np.int64(128), 'PKR 550,000': np.int64(129), 'PKR 56,999': np.int64(130), 'PKR 57,999': np.int64(131), 'PKR 58,999': np.int64(132), 'PKR 59,999': np.int64(133), 'PKR 60,000': np.int64(134), 'PKR 604,999': np.int64(135), 'PKR 61,999': np.int64(136), 'PKR 62,999': np.int64(137), 'PKR 64,999': np.int64(138), 'PKR 65,000': np.int64(139), 'PKR 66,220': np.int64(140), 'PKR 68,000': np.int64(141), 'PKR 69,999': np.int64(142), 'PKR 70,000': np.int64(143), 'PKR 71,220': np.int64(144), 'PKR 72,999': np.int64(145), 'PKR 74,999': np.int64(146), 'PKR 75,000': np.int64(147), 'PKR 79,999': np.int64(148), 'PKR 80,000': np.int64(149), 'PKR 84,999': np.int64(150), 'PKR 85,000': np.int64(151), 'PKR 85,999': np.int64(152), 'PKR 89,999': np.int64(153), 'PKR 94,999': np.int64(154), 'PKR 95,000': np.int64(155), 'PKR 99,999': np.int64(156)}\n",
      "Feature Launched Price (India)\n",
      "mapping {'INR 1,04,999': np.int64(0), 'INR 1,09,999': np.int64(1), 'INR 1,14,999': np.int64(2), 'INR 10,499': np.int64(3), 'INR 10,990': np.int64(4), 'INR 10,999': np.int64(5), 'INR 104,900': np.int64(6), 'INR 104,999': np.int64(7), 'INR 109,900': np.int64(8), 'INR 109,999': np.int64(9), 'INR 11,499': np.int64(10), 'INR 11,990': np.int64(11), 'INR 11,999': np.int64(12), 'INR 114,900': np.int64(13), 'INR 114,999': np.int64(14), 'INR 119,900': np.int64(15), 'INR 119,999': np.int64(16), 'INR 12,499': np.int64(17), 'INR 12,999': np.int64(18), 'INR 124,999': np.int64(19), 'INR 129,900': np.int64(20), 'INR 129,999': np.int64(21), 'INR 13,490': np.int64(22), 'INR 13,499': np.int64(23), 'INR 13,990': np.int64(24), 'INR 13,999': np.int64(25), 'INR 134,900': np.int64(26), 'INR 134,999': np.int64(27), 'INR 139,900': np.int64(28), 'INR 139,999': np.int64(29), 'INR 14,990': np.int64(30), 'INR 14,999': np.int64(31), 'INR 144,999': np.int64(32), 'INR 149,900': np.int64(33), 'INR 149,999': np.int64(34), 'INR 15,999': np.int64(35), 'INR 154,900': np.int64(36), 'INR 159,900': np.int64(37), 'INR 159,999': np.int64(38), 'INR 16,990': np.int64(39), 'INR 16,999': np.int64(40), 'INR 164,999': np.int64(41), 'INR 169,999': np.int64(42), 'INR 17,499': np.int64(43), 'INR 17,999': np.int64(44), 'INR 174,900': np.int64(45), 'INR 176,999': np.int64(46), 'INR 179,900': np.int64(47), 'INR 179,999': np.int64(48), 'INR 18,000': np.int64(49), 'INR 18,499': np.int64(50), 'INR 18,990': np.int64(51), 'INR 18,999': np.int64(52), 'INR 19,000': np.int64(53), 'INR 19,499': np.int64(54), 'INR 19,990': np.int64(55), 'INR 19,999': np.int64(56), 'INR 199,900': np.int64(57), 'INR 199,999': np.int64(58), 'INR 20,000': np.int64(59), 'INR 20,999': np.int64(60), 'INR 200,999': np.int64(61), 'INR 21,400': np.int64(62), 'INR 21,990': np.int64(63), 'INR 21,999': np.int64(64), 'INR 22,990': np.int64(65), 'INR 22,999': np.int64(66), 'INR 23,999': np.int64(67), 'INR 24,990': np.int64(68), 'INR 24,999': np.int64(69), 'INR 249,999': np.int64(70), 'INR 25,999': np.int64(71), 'INR 259,999': np.int64(72), 'INR 26,990': np.int64(73), 'INR 26,999': np.int64(74), 'INR 27,990': np.int64(75), 'INR 27,999': np.int64(76), 'INR 274,999': np.int64(77), 'INR 28,756': np.int64(78), 'INR 28,999': np.int64(79), 'INR 29,900': np.int64(80), 'INR 29,999': np.int64(81), 'INR 30,999': np.int64(82), 'INR 31,990': np.int64(83), 'INR 31,999': np.int64(84), 'INR 32,990': np.int64(85), 'INR 32,999': np.int64(86), 'INR 33,990': np.int64(87), 'INR 33,999': np.int64(88), 'INR 34,999': np.int64(89), 'INR 35,990': np.int64(90), 'INR 35,999': np.int64(91), 'INR 36,999': np.int64(92), 'INR 37,999': np.int64(93), 'INR 38,999': np.int64(94), 'INR 39,900': np.int64(95), 'INR 39,990': np.int64(96), 'INR 39,999': np.int64(97), 'INR 41,999': np.int64(98), 'INR 42,999': np.int64(99), 'INR 43,999': np.int64(100), 'INR 44,999': np.int64(101), 'INR 45,999': np.int64(102), 'INR 46,999': np.int64(103), 'INR 47,999': np.int64(104), 'INR 49,900': np.int64(105), 'INR 49,990': np.int64(106), 'INR 49,999': np.int64(107), 'INR 5,999': np.int64(108), 'INR 50,999': np.int64(109), 'INR 52,999': np.int64(110), 'INR 53,999': np.int64(111), 'INR 54,900': np.int64(112), 'INR 54,999': np.int64(113), 'INR 58,590': np.int64(114), 'INR 58,999': np.int64(115), 'INR 59,999': np.int64(116), 'INR 6,999': np.int64(117), 'INR 64,900': np.int64(118), 'INR 64,999': np.int64(119), 'INR 65,999': np.int64(120), 'INR 67,999': np.int64(121), 'INR 69,900': np.int64(122), 'INR 69,999': np.int64(123), 'INR 7,499': np.int64(124), 'INR 7,999': np.int64(125), 'INR 71,900': np.int64(126), 'INR 72,999': np.int64(127), 'INR 74,900': np.int64(128), 'INR 74,999': np.int64(129), 'INR 77,999': np.int64(130), 'INR 79,900': np.int64(131), 'INR 79,999': np.int64(132), 'INR 8,499': np.int64(133), 'INR 8,999': np.int64(134), 'INR 84,900': np.int64(135), 'INR 84,999': np.int64(136), 'INR 85,999': np.int64(137), 'INR 89,900': np.int64(138), 'INR 89,999': np.int64(139), 'INR 9,499': np.int64(140), 'INR 9,990': np.int64(141), 'INR 9,999': np.int64(142), 'INR 94,900': np.int64(143), 'INR 94,999': np.int64(144), 'INR 99,900': np.int64(145), 'INR 99,999': np.int64(146)}\n",
      "Feature Launched Price (China)\n",
      "mapping {'CNY 1,050': np.int64(0), 'CNY 1,099': np.int64(1), 'CNY 1,100': np.int64(2), 'CNY 1,199': np.int64(3), 'CNY 1,200': np.int64(4), 'CNY 1,250': np.int64(5), 'CNY 1,299': np.int64(6), 'CNY 1,300': np.int64(7), 'CNY 1,350': np.int64(8), 'CNY 1,399': np.int64(9), 'CNY 1,400': np.int64(10), 'CNY 1,499': np.int64(11), 'CNY 1,500': np.int64(12), 'CNY 1,550': np.int64(13), 'CNY 1,599': np.int64(14), 'CNY 1,600': np.int64(15), 'CNY 1,699': np.int64(16), 'CNY 1,700': np.int64(17), 'CNY 1,799': np.int64(18), 'CNY 1,800': np.int64(19), 'CNY 1,899': np.int64(20), 'CNY 1,900': np.int64(21), 'CNY 1,998': np.int64(22), 'CNY 1,999': np.int64(23), 'CNY 10,088': np.int64(24), 'CNY 10,388': np.int64(25), 'CNY 10,399': np.int64(26), 'CNY 10,688': np.int64(27), 'CNY 10,999': np.int64(28), 'CNY 11,199': np.int64(29), 'CNY 11,288': np.int64(30), 'CNY 11,999': np.int64(31), 'CNY 12,999': np.int64(32), 'CNY 13,499': np.int64(33), 'CNY 13,999': np.int64(34), 'CNY 14,499': np.int64(35), 'CNY 14,999': np.int64(36), 'CNY 15,999': np.int64(37), 'CNY 17,999': np.int64(38), 'CNY 17,999\\xa0': np.int64(39), 'CNY 2,000': np.int64(40), 'CNY 2,099': np.int64(41), 'CNY 2,100': np.int64(42), 'CNY 2,199': np.int64(43), 'CNY 2,200': np.int64(44), 'CNY 2,299': np.int64(45), 'CNY 2,300': np.int64(46), 'CNY 2,399': np.int64(47), 'CNY 2,400': np.int64(48), 'CNY 2,499': np.int64(49), 'CNY 2,500': np.int64(50), 'CNY 2,599': np.int64(51), 'CNY 2,600': np.int64(52), 'CNY 2,699': np.int64(53), 'CNY 2,700': np.int64(54), 'CNY 2,799': np.int64(55), 'CNY 2,800': np.int64(56), 'CNY 2,899': np.int64(57), 'CNY 2,900': np.int64(58), 'CNY 2,999': np.int64(59), 'CNY 3,000': np.int64(60), 'CNY 3,099': np.int64(61), 'CNY 3,199': np.int64(62), 'CNY 3,200': np.int64(63), 'CNY 3,299': np.int64(64), 'CNY 3,399': np.int64(65), 'CNY 3,400': np.int64(66), 'CNY 3,499': np.int64(67), 'CNY 3,599': np.int64(68), 'CNY 3,600': np.int64(69), 'CNY 3,699': np.int64(70), 'CNY 3,799': np.int64(71), 'CNY 3,899': np.int64(72), 'CNY 3,999': np.int64(73), 'CNY 4,088': np.int64(74), 'CNY 4,199': np.int64(75), 'CNY 4,299': np.int64(76), 'CNY 4,488': np.int64(77), 'CNY 4,499': np.int64(78), 'CNY 4,599': np.int64(79), 'CNY 4,699': np.int64(80), 'CNY 4,799': np.int64(81), 'CNY 4,999': np.int64(82), 'CNY 499': np.int64(83), 'CNY 5,199': np.int64(84), 'CNY 5,299': np.int64(85), 'CNY 5,499': np.int64(86), 'CNY 5,599': np.int64(87), 'CNY 5,699': np.int64(88), 'CNY 5,799': np.int64(89), 'CNY 5,899': np.int64(90), 'CNY 5,988': np.int64(91), 'CNY 5,999': np.int64(92), 'CNY 549': np.int64(93), 'CNY 599': np.int64(94), 'CNY 6,099': np.int64(95), 'CNY 6,199': np.int64(96), 'CNY 6,299': np.int64(97), 'CNY 6,399': np.int64(98), 'CNY 6,499': np.int64(99), 'CNY 6,599': np.int64(100), 'CNY 6,799': np.int64(101), 'CNY 6,988': np.int64(102), 'CNY 6,999': np.int64(103), 'CNY 699': np.int64(104), 'CNY 7,099': np.int64(105), 'CNY 7,199': np.int64(106), 'CNY 7,299': np.int64(107), 'CNY 7,399': np.int64(108), 'CNY 7,499': np.int64(109), 'CNY 7,699': np.int64(110), 'CNY 7,799': np.int64(111), 'CNY 7,988': np.int64(112), 'CNY 7,999': np.int64(113), 'CNY 799': np.int64(114), 'CNY 8,099': np.int64(115), 'CNY 8,199': np.int64(116), 'CNY 8,299': np.int64(117), 'CNY 8,388': np.int64(118), 'CNY 8,399': np.int64(119), 'CNY 8,499': np.int64(120), 'CNY 8,699': np.int64(121), 'CNY 8,788': np.int64(122), 'CNY 8,799': np.int64(123), 'CNY 8,988': np.int64(124), 'CNY 8,999': np.int64(125), 'CNY 899': np.int64(126), 'CNY 9,188': np.int64(127), 'CNY 9,199': np.int64(128), 'CNY 9,499': np.int64(129), 'CNY 9,788': np.int64(130), 'CNY 9,799': np.int64(131), 'CNY 9,988': np.int64(132), 'CNY 9,999': np.int64(133), 'CNY 900': np.int64(134), 'CNY 999': np.int64(135), '¥13,999': np.int64(136)}\n",
      "Feature Launched Price (USA)\n",
      "mapping {'USD 1,049': np.int64(0), 'USD 1,099': np.int64(1), 'USD 1,199': np.int64(2), 'USD 1,249': np.int64(3), 'USD 1,299': np.int64(4), 'USD 1,399': np.int64(5), 'USD 1,499': np.int64(6), 'USD 1,599': np.int64(7), 'USD 1,699': np.int64(8), 'USD 1,799': np.int64(9), 'USD 1,899': np.int64(10), 'USD 109': np.int64(11), 'USD 119': np.int64(12), 'USD 129': np.int64(13), 'USD 130': np.int64(14), 'USD 139': np.int64(15), 'USD 149': np.int64(16), 'USD 150': np.int64(17), 'USD 159': np.int64(18), 'USD 160': np.int64(19), 'USD 169': np.int64(20), 'USD 170': np.int64(21), 'USD 1719': np.int64(22), 'USD 179': np.int64(23), 'USD 180': np.int64(24), 'USD 189': np.int64(25), 'USD 190': np.int64(26), 'USD 199': np.int64(27), 'USD 199.00': np.int64(28), 'USD 2,259': np.int64(29), 'USD 2,499': np.int64(30), 'USD 2,599': np.int64(31), 'USD 2,699': np.int64(32), 'USD 2,799': np.int64(33), 'USD 200': np.int64(34), 'USD 210': np.int64(35), 'USD 219': np.int64(36), 'USD 220': np.int64(37), 'USD 229': np.int64(38), 'USD 229.00': np.int64(39), 'USD 230': np.int64(40), 'USD 239': np.int64(41), 'USD 240': np.int64(42), 'USD 249': np.int64(43), 'USD 249.00': np.int64(44), 'USD 250': np.int64(45), 'USD 259': np.int64(46), 'USD 260': np.int64(47), 'USD 269': np.int64(48), 'USD 270': np.int64(49), 'USD 279': np.int64(50), 'USD 279.00': np.int64(51), 'USD 280': np.int64(52), 'USD 289': np.int64(53), 'USD 290': np.int64(54), 'USD 299': np.int64(55), 'USD 299.00': np.int64(56), 'USD 300': np.int64(57), 'USD 309.00': np.int64(58), 'USD 310': np.int64(59), 'USD 319': np.int64(60), 'USD 320': np.int64(61), 'USD 329': np.int64(62), 'USD 329.00': np.int64(63), 'USD 330': np.int64(64), 'USD 340': np.int64(65), 'USD 349': np.int64(66), 'USD 349.00': np.int64(67), 'USD 350': np.int64(68), 'USD 360': np.int64(69), 'USD 370': np.int64(70), 'USD 374.90': np.int64(71), 'USD 379': np.int64(72), 'USD 379.00': np.int64(73), 'USD 380': np.int64(74), 'USD 396,22': np.int64(75), 'USD 399': np.int64(76), 'USD 399.00': np.int64(77), 'USD 400': np.int64(78), 'USD 420': np.int64(79), 'USD 429': np.int64(80), 'USD 429.00': np.int64(81), 'USD 440': np.int64(82), 'USD 449': np.int64(83), 'USD 450': np.int64(84), 'USD 470': np.int64(85), 'USD 479': np.int64(86), 'USD 499': np.int64(87), 'USD 500': np.int64(88), 'USD 529': np.int64(89), 'USD 549': np.int64(90), 'USD 599': np.int64(91), 'USD 634.99': np.int64(92), 'USD 649': np.int64(93), 'USD 699': np.int64(94), 'USD 729': np.int64(95), 'USD 749': np.int64(96), 'USD 79': np.int64(97), 'USD 790.77': np.int64(98), 'USD 799': np.int64(99), 'USD 849': np.int64(100), 'USD 877': np.int64(101), 'USD 89': np.int64(102), 'USD 899': np.int64(103), 'USD 949': np.int64(104), 'USD 99': np.int64(105), 'USD 999': np.int64(106)}\n",
      "Feature Launched Price (Dubai)\n",
      "mapping {'AED 1,000': np.int64(0), 'AED 1,020': np.int64(1), 'AED 1,029': np.int64(2), 'AED 1,030': np.int64(3), 'AED 1,049': np.int64(4), 'AED 1,050': np.int64(5), 'AED 1,070': np.int64(6), 'AED 1,099': np.int64(7), 'AED 1,100': np.int64(8), 'AED 1,140': np.int64(9), 'AED 1,149': np.int64(10), 'AED 1,150': np.int64(11), 'AED 1,175': np.int64(12), 'AED 1,199': np.int64(13), 'AED 1,200': np.int64(14), 'AED 1,210': np.int64(15), 'AED 1,249': np.int64(16), 'AED 1,250': np.int64(17), 'AED 1,275': np.int64(18), 'AED 1,280': np.int64(19), 'AED 1,299': np.int64(20), 'AED 1,300': np.int64(21), 'AED 1,320': np.int64(22), 'AED 1,330': np.int64(23), 'AED 1,350': np.int64(24), 'AED 1,390': np.int64(25), 'AED 1,399': np.int64(26), 'AED 1,400': np.int64(27), 'AED 1,460': np.int64(28), 'AED 1,499': np.int64(29), 'AED 1,500': np.int64(30), 'AED 1,520': np.int64(31), 'AED 1,599': np.int64(32), 'AED 1,620': np.int64(33), 'AED 1,649': np.int64(34), 'AED 1,675': np.int64(35), 'AED 1,699': np.int64(36), 'AED 1,700': np.int64(37), 'AED 1,725': np.int64(38), 'AED 1,799': np.int64(39), 'AED 1,800': np.int64(40), 'AED 1,840': np.int64(41), 'AED 1,850': np.int64(42), 'AED 1,899': np.int64(43), 'AED 1,999': np.int64(44), 'AED 10,499': np.int64(45), 'AED 11,099': np.int64(46), 'AED 2,049': np.int64(47), 'AED 2,099': np.int64(48), 'AED 2,199': np.int64(49), 'AED 2,299': np.int64(50), 'AED 2,399': np.int64(51), 'AED 2,499': np.int64(52), 'AED 2,599': np.int64(53), 'AED 2,699': np.int64(54), 'AED 2,799': np.int64(55), 'AED 2,899': np.int64(56), 'AED 2,999': np.int64(57), 'AED 299': np.int64(58), 'AED 3,099': np.int64(59), 'AED 3,199': np.int64(60), 'AED 3,299': np.int64(61), 'AED 3,399': np.int64(62), 'AED 3,499': np.int64(63), 'AED 3,599': np.int64(64), 'AED 3,699': np.int64(65), 'AED 3,799': np.int64(66), 'AED 3,899': np.int64(67), 'AED 3,999': np.int64(68), 'AED 349': np.int64(69), 'AED 399': np.int64(70), 'AED 4,099': np.int64(71), 'AED 4,199': np.int64(72), 'AED 4,299': np.int64(73), 'AED 4,399': np.int64(74), 'AED 4,499': np.int64(75), 'AED 4,599': np.int64(76), 'AED 4,699': np.int64(77), 'AED 4,799': np.int64(78), 'AED 4,899': np.int64(79), 'AED 4,999': np.int64(80), 'AED 449': np.int64(81), 'AED 499': np.int64(82), 'AED 5,099': np.int64(83), 'AED 5,199': np.int64(84), 'AED 5,299': np.int64(85), 'AED 5,499': np.int64(86), 'AED 5,799': np.int64(87), 'AED 5,999': np.int64(88), 'AED 500': np.int64(89), 'AED 549': np.int64(90), 'AED 550': np.int64(91), 'AED 580': np.int64(92), 'AED 599': np.int64(93), 'AED 6,099': np.int64(94), 'AED 6,199': np.int64(95), 'AED 6,499': np.int64(96), 'AED 6,599': np.int64(97), 'AED 6,999': np.int64(98), 'AED 600': np.int64(99), 'AED 619': np.int64(100), 'AED 620': np.int64(101), 'AED 629': np.int64(102), 'AED 649': np.int64(103), 'AED 650': np.int64(104), 'AED 660': np.int64(105), 'AED 680': np.int64(106), 'AED 699': np.int64(107), 'AED 7,099': np.int64(108), 'AED 7,199': np.int64(109), 'AED 7,499': np.int64(110), 'AED 7,699': np.int64(111), 'AED 700': np.int64(112), 'AED 720': np.int64(113), 'AED 730': np.int64(114), 'AED 740': np.int64(115), 'AED 749': np.int64(116), 'AED 750': np.int64(117), 'AED 770': np.int64(118), 'AED 780': np.int64(119), 'AED 799': np.int64(120), 'AED 8,699': np.int64(121), 'AED 8,999': np.int64(122), 'AED 800': np.int64(123), 'AED 820': np.int64(124), 'AED 830': np.int64(125), 'AED 849': np.int64(126), 'AED 850': np.int64(127), 'AED 860': np.int64(128), 'AED 870': np.int64(129), 'AED 880': np.int64(130), 'AED 899': np.int64(131), 'AED 9,999': np.int64(132), 'AED 900': np.int64(133), 'AED 920': np.int64(134), 'AED 925': np.int64(135), 'AED 949': np.int64(136), 'AED 950': np.int64(137), 'AED 960': np.int64(138), 'AED 970': np.int64(139), 'AED 999': np.int64(140)}\n"
     ]
    }
   ],
   "source": [
    "from sklearn.preprocessing import LabelEncoder\n",
    "\n",
    "le=LabelEncoder()\n",
    "\n",
    "for x in colname:\n",
    "    data[x]=le.fit_transform(data[x])\n",
    "\n",
    "    le_name_mapping = dict(zip(le.classes_, le.transform(le.classes_)))\n",
    "    print('Feature', x)\n",
    "    print('mapping', le_name_mapping)"
   ]
  },
  {
   "cell_type": "code",
   "execution_count": 8,
   "metadata": {},
   "outputs": [],
   "source": [
    "x= data[[\"Company Name\",\"Model Name\",\"Mobile Weight\",\"RAM\",\"Front Camera\",\"Back Camera\",\"Battery Capacity\",\"Screen Size\",\"Launched Year\"]]\n",
    "y= data[[\"Launched Price (India)\"]]"
   ]
  },
  {
   "cell_type": "code",
   "execution_count": 9,
   "metadata": {},
   "outputs": [
    {
     "name": "stdout",
     "output_type": "stream",
     "text": [
      "<bound method NDFrame.head of      Company Name  Model Name  Mobile Weight  RAM  Front Camera  Back Camera  \\\n",
      "0               0         884             25    8             6           32   \n",
      "1               0         885             25    8             6           32   \n",
      "2               0         886             25    8             6           32   \n",
      "3               0         887             55    8             6           32   \n",
      "4               0         888             55    8             6           32   \n",
      "..            ...         ...            ...  ...           ...          ...   \n",
      "925            11         510            138    9            26           89   \n",
      "926            11         511            138    9            26           89   \n",
      "927            13         244             87    2             4           46   \n",
      "928            13         245             87    2             4           46   \n",
      "929            13         243             87    2             4           46   \n",
      "\n",
      "     Processor  Battery Capacity  Screen Size  Launched Price (Pakistan)  \\\n",
      "0            7                27           34                         40   \n",
      "1            7                27           34                         44   \n",
      "2            7                27           34                         47   \n",
      "3            7                52           63                         48   \n",
      "4            7                52           63                         52   \n",
      "..         ...               ...          ...                        ...   \n",
      "925        189                 0           11                        140   \n",
      "926        189                 0           11                        144   \n",
      "927        194                83           84                        135   \n",
      "928        194                83           84                        126   \n",
      "929        194                83           84                          0   \n",
      "\n",
      "     Launched Price (India)  Launched Price (China)  Launched Price (USA)  \\\n",
      "0                       132                      89                    99   \n",
      "1                       136                      95                   100   \n",
      "2                       139                      99                   103   \n",
      "3                       139                      96                   103   \n",
      "4                       144                      99                   104   \n",
      "..                      ...                     ...                   ...   \n",
      "925                      67                      41                    52   \n",
      "926                      71                      45                    57   \n",
      "927                      41                     136                    10   \n",
      "928                      46                      37                    22   \n",
      "929                      61                      39                    29   \n",
      "\n",
      "     Launched Price (Dubai)  Launched Year  \n",
      "0                        55           2024  \n",
      "1                        57           2024  \n",
      "2                        60           2024  \n",
      "3                        60           2024  \n",
      "4                        62           2024  \n",
      "..                      ...            ...  \n",
      "925                       2           2024  \n",
      "926                       7           2024  \n",
      "927                     109           2024  \n",
      "928                     111           2024  \n",
      "929                     121           2024  \n",
      "\n",
      "[930 rows x 15 columns]>\n"
     ]
    }
   ],
   "source": [
    "print(data.head)"
   ]
  },
  {
   "cell_type": "code",
   "execution_count": 10,
   "metadata": {},
   "outputs": [
    {
     "name": "stdout",
     "output_type": "stream",
     "text": [
      "(930, 9)\n",
      "(930, 1)\n"
     ]
    }
   ],
   "source": [
    "print(x.shape)\n",
    "print(y.shape)"
   ]
  },
  {
   "cell_type": "code",
   "execution_count": 11,
   "metadata": {},
   "outputs": [],
   "source": [
    "from sklearn.model_selection import train_test_split"
   ]
  },
  {
   "cell_type": "code",
   "execution_count": 12,
   "metadata": {},
   "outputs": [],
   "source": [
    "x_train,x_test,y_train,y_test = train_test_split(x,y,test_size=0.2)"
   ]
  },
  {
   "cell_type": "code",
   "execution_count": 13,
   "metadata": {},
   "outputs": [
    {
     "name": "stdout",
     "output_type": "stream",
     "text": [
      "(744, 9)\n",
      "(186, 9)\n",
      "(744, 1)\n",
      "(186, 1)\n"
     ]
    }
   ],
   "source": [
    "print(x_train.shape)\n",
    "print(x_test.shape)\n",
    "print(y_train.shape)\n",
    "print(y_test.shape)"
   ]
  },
  {
   "cell_type": "code",
   "execution_count": 14,
   "metadata": {},
   "outputs": [],
   "source": [
    "from sklearn.linear_model import LinearRegression\n",
    "lr =LinearRegression()\n",
    "model =lr.fit(x_train,y_train)"
   ]
  },
  {
   "cell_type": "code",
   "execution_count": 15,
   "metadata": {},
   "outputs": [
    {
     "name": "stdout",
     "output_type": "stream",
     "text": [
      "Beta  1,2,3,4,5,6,7: [[ 0.21882965 -0.00417704 -0.19541369 -2.6833019  -0.65304919 -0.0041688\n",
      "  -0.10978754 -0.51036271  3.67926235]]\n"
     ]
    }
   ],
   "source": [
    "print(\"Beta  1,2,3,4,5,6,7:\",model.coef_)"
   ]
  },
  {
   "cell_type": "code",
   "execution_count": 16,
   "metadata": {},
   "outputs": [
    {
     "name": "stdout",
     "output_type": "stream",
     "text": [
      "Beta Zero :[-7288.79590309]\n"
     ]
    }
   ],
   "source": [
    "print(f\"Beta Zero :{model.intercept_}\")"
   ]
  },
  {
   "cell_type": "code",
   "execution_count": 17,
   "metadata": {},
   "outputs": [],
   "source": [
    "y_pred=model.predict(x_test)"
   ]
  },
  {
   "cell_type": "code",
   "execution_count": 18,
   "metadata": {},
   "outputs": [],
   "source": [
    "from sklearn.metrics import mean_squared_error\n",
    "import numpy as np"
   ]
  },
  {
   "cell_type": "code",
   "execution_count": 19,
   "metadata": {},
   "outputs": [
    {
     "name": "stdout",
     "output_type": "stream",
     "text": [
      "39.26255453057704\n"
     ]
    }
   ],
   "source": [
    "rmse = np.sqrt(mean_squared_error(y_test,y_pred))\n",
    "print(rmse)"
   ]
  },
  {
   "cell_type": "code",
   "execution_count": 20,
   "metadata": {},
   "outputs": [],
   "source": [
    "import pickle\n",
    "with open(\"model.pkl\",\"wb\") as p:\n",
    "    pickle.dump(model,p)"
   ]
  },
  {
   "cell_type": "code",
   "execution_count": null,
   "metadata": {},
   "outputs": [],
   "source": []
  }
 ],
 "metadata": {
  "kernelspec": {
   "display_name": "amazonreview",
   "language": "python",
   "name": "python3"
  },
  "language_info": {
   "codemirror_mode": {
    "name": "ipython",
    "version": 3
   },
   "file_extension": ".py",
   "mimetype": "text/x-python",
   "name": "python",
   "nbconvert_exporter": "python",
   "pygments_lexer": "ipython3",
   "version": "3.10.15"
  }
 },
 "nbformat": 4,
 "nbformat_minor": 2
}
