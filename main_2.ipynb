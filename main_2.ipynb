{
 "cells": [
  {
   "cell_type": "code",
   "execution_count": 1,
   "metadata": {},
   "outputs": [],
   "source": [
    "import pandas as pd\n",
    "import numpy as np"
   ]
  },
  {
   "cell_type": "code",
   "execution_count": 2,
   "metadata": {},
   "outputs": [],
   "source": [
    "data = pd.read_csv(\"data.csv\",encoding=\"latin-1\")"
   ]
  },
  {
   "cell_type": "code",
   "execution_count": 3,
   "metadata": {},
   "outputs": [
    {
     "data": {
      "text/html": [
       "<div>\n",
       "<style scoped>\n",
       "    .dataframe tbody tr th:only-of-type {\n",
       "        vertical-align: middle;\n",
       "    }\n",
       "\n",
       "    .dataframe tbody tr th {\n",
       "        vertical-align: top;\n",
       "    }\n",
       "\n",
       "    .dataframe thead th {\n",
       "        text-align: right;\n",
       "    }\n",
       "</style>\n",
       "<table border=\"1\" class=\"dataframe\">\n",
       "  <thead>\n",
       "    <tr style=\"text-align: right;\">\n",
       "      <th></th>\n",
       "      <th>Company Name</th>\n",
       "      <th>Model Name</th>\n",
       "      <th>Mobile Weight</th>\n",
       "      <th>RAM</th>\n",
       "      <th>Front Camera</th>\n",
       "      <th>Back Camera</th>\n",
       "      <th>Processor</th>\n",
       "      <th>Battery Capacity</th>\n",
       "      <th>Screen Size</th>\n",
       "      <th>Launched Price (Pakistan)</th>\n",
       "      <th>Launched Price (India)</th>\n",
       "      <th>Launched Price (China)</th>\n",
       "      <th>Launched Price (USA)</th>\n",
       "      <th>Launched Price (Dubai)</th>\n",
       "      <th>Launched Year</th>\n",
       "    </tr>\n",
       "  </thead>\n",
       "  <tbody>\n",
       "    <tr>\n",
       "      <th>0</th>\n",
       "      <td>Apple</td>\n",
       "      <td>iPhone 16 128GB</td>\n",
       "      <td>174g</td>\n",
       "      <td>6GB</td>\n",
       "      <td>12MP</td>\n",
       "      <td>48MP</td>\n",
       "      <td>A17 Bionic</td>\n",
       "      <td>3,600mAh</td>\n",
       "      <td>6.1 inches</td>\n",
       "      <td>PKR 224,999</td>\n",
       "      <td>INR 79,999</td>\n",
       "      <td>CNY 5,799</td>\n",
       "      <td>USD 799</td>\n",
       "      <td>AED 2,799</td>\n",
       "      <td>2024</td>\n",
       "    </tr>\n",
       "    <tr>\n",
       "      <th>1</th>\n",
       "      <td>Apple</td>\n",
       "      <td>iPhone 16 256GB</td>\n",
       "      <td>174g</td>\n",
       "      <td>6GB</td>\n",
       "      <td>12MP</td>\n",
       "      <td>48MP</td>\n",
       "      <td>A17 Bionic</td>\n",
       "      <td>3,600mAh</td>\n",
       "      <td>6.1 inches</td>\n",
       "      <td>PKR 234,999</td>\n",
       "      <td>INR 84,999</td>\n",
       "      <td>CNY 6,099</td>\n",
       "      <td>USD 849</td>\n",
       "      <td>AED 2,999</td>\n",
       "      <td>2024</td>\n",
       "    </tr>\n",
       "    <tr>\n",
       "      <th>2</th>\n",
       "      <td>Apple</td>\n",
       "      <td>iPhone 16 512GB</td>\n",
       "      <td>174g</td>\n",
       "      <td>6GB</td>\n",
       "      <td>12MP</td>\n",
       "      <td>48MP</td>\n",
       "      <td>A17 Bionic</td>\n",
       "      <td>3,600mAh</td>\n",
       "      <td>6.1 inches</td>\n",
       "      <td>PKR 244,999</td>\n",
       "      <td>INR 89,999</td>\n",
       "      <td>CNY 6,499</td>\n",
       "      <td>USD 899</td>\n",
       "      <td>AED 3,199</td>\n",
       "      <td>2024</td>\n",
       "    </tr>\n",
       "    <tr>\n",
       "      <th>3</th>\n",
       "      <td>Apple</td>\n",
       "      <td>iPhone 16 Plus 128GB</td>\n",
       "      <td>203g</td>\n",
       "      <td>6GB</td>\n",
       "      <td>12MP</td>\n",
       "      <td>48MP</td>\n",
       "      <td>A17 Bionic</td>\n",
       "      <td>4,200mAh</td>\n",
       "      <td>6.7 inches</td>\n",
       "      <td>PKR 249,999</td>\n",
       "      <td>INR 89,999</td>\n",
       "      <td>CNY 6,199</td>\n",
       "      <td>USD 899</td>\n",
       "      <td>AED 3,199</td>\n",
       "      <td>2024</td>\n",
       "    </tr>\n",
       "    <tr>\n",
       "      <th>4</th>\n",
       "      <td>Apple</td>\n",
       "      <td>iPhone 16 Plus 256GB</td>\n",
       "      <td>203g</td>\n",
       "      <td>6GB</td>\n",
       "      <td>12MP</td>\n",
       "      <td>48MP</td>\n",
       "      <td>A17 Bionic</td>\n",
       "      <td>4,200mAh</td>\n",
       "      <td>6.7 inches</td>\n",
       "      <td>PKR 259,999</td>\n",
       "      <td>INR 94,999</td>\n",
       "      <td>CNY 6,499</td>\n",
       "      <td>USD 949</td>\n",
       "      <td>AED 3,399</td>\n",
       "      <td>2024</td>\n",
       "    </tr>\n",
       "  </tbody>\n",
       "</table>\n",
       "</div>"
      ],
      "text/plain": [
       "  Company Name            Model Name Mobile Weight  RAM Front Camera  \\\n",
       "0        Apple       iPhone 16 128GB          174g  6GB         12MP   \n",
       "1        Apple       iPhone 16 256GB          174g  6GB         12MP   \n",
       "2        Apple       iPhone 16 512GB          174g  6GB         12MP   \n",
       "3        Apple  iPhone 16 Plus 128GB          203g  6GB         12MP   \n",
       "4        Apple  iPhone 16 Plus 256GB          203g  6GB         12MP   \n",
       "\n",
       "  Back Camera   Processor Battery Capacity Screen Size  \\\n",
       "0        48MP  A17 Bionic         3,600mAh  6.1 inches   \n",
       "1        48MP  A17 Bionic         3,600mAh  6.1 inches   \n",
       "2        48MP  A17 Bionic         3,600mAh  6.1 inches   \n",
       "3        48MP  A17 Bionic         4,200mAh  6.7 inches   \n",
       "4        48MP  A17 Bionic         4,200mAh  6.7 inches   \n",
       "\n",
       "  Launched Price (Pakistan) Launched Price (India) Launched Price (China)  \\\n",
       "0               PKR 224,999             INR 79,999              CNY 5,799   \n",
       "1               PKR 234,999             INR 84,999              CNY 6,099   \n",
       "2               PKR 244,999             INR 89,999              CNY 6,499   \n",
       "3               PKR 249,999             INR 89,999              CNY 6,199   \n",
       "4               PKR 259,999             INR 94,999              CNY 6,499   \n",
       "\n",
       "  Launched Price (USA) Launched Price (Dubai)  Launched Year  \n",
       "0              USD 799              AED 2,799           2024  \n",
       "1              USD 849              AED 2,999           2024  \n",
       "2              USD 899              AED 3,199           2024  \n",
       "3              USD 899              AED 3,199           2024  \n",
       "4              USD 949              AED 3,399           2024  "
      ]
     },
     "execution_count": 3,
     "metadata": {},
     "output_type": "execute_result"
    }
   ],
   "source": [
    "data.head()"
   ]
  },
  {
   "cell_type": "code",
   "execution_count": 4,
   "metadata": {},
   "outputs": [
    {
     "data": {
      "text/plain": [
       "Company Name                 object\n",
       "Model Name                   object\n",
       "Mobile Weight                object\n",
       "RAM                          object\n",
       "Front Camera                 object\n",
       "Back Camera                  object\n",
       "Processor                    object\n",
       "Battery Capacity             object\n",
       "Screen Size                  object\n",
       "Launched Price (Pakistan)    object\n",
       "Launched Price (India)       object\n",
       "Launched Price (China)       object\n",
       "Launched Price (USA)         object\n",
       "Launched Price (Dubai)       object\n",
       "Launched Year                 int64\n",
       "dtype: object"
      ]
     },
     "execution_count": 4,
     "metadata": {},
     "output_type": "execute_result"
    }
   ],
   "source": [
    "data.dtypes"
   ]
  },
  {
   "cell_type": "code",
   "execution_count": 5,
   "metadata": {},
   "outputs": [
    {
     "name": "stdout",
     "output_type": "stream",
     "text": [
      "-----------------------------\n",
      " <bound method Series.unique of 0        Apple\n",
      "1        Apple\n",
      "2        Apple\n",
      "3        Apple\n",
      "4        Apple\n",
      "        ...   \n",
      "925       Poco\n",
      "926       Poco\n",
      "927    Samsung\n",
      "928    Samsung\n",
      "929    Samsung\n",
      "Name: Company Name, Length: 930, dtype: object>\n",
      "-----------------------------\n",
      " <bound method Series.unique of 0           iPhone 16 128GB\n",
      "1           iPhone 16 256GB\n",
      "2           iPhone 16 512GB\n",
      "3      iPhone 16 Plus 128GB\n",
      "4      iPhone 16 Plus 256GB\n",
      "               ...         \n",
      "925            Pad 5G 128GB\n",
      "926            Pad 5G 256GB\n",
      "927    Galaxy Z Fold6 256GB\n",
      "928    Galaxy Z Fold6 512GB\n",
      "929      Galaxy Z Fold6 1TB\n",
      "Name: Model Name, Length: 930, dtype: object>\n",
      "-----------------------------\n",
      " <bound method Series.unique of 0      174g\n",
      "1      174g\n",
      "2      174g\n",
      "3      203g\n",
      "4      203g\n",
      "       ... \n",
      "925    571g\n",
      "926    571g\n",
      "927    239g\n",
      "928    239g\n",
      "929    239g\n",
      "Name: Mobile Weight, Length: 930, dtype: object>\n",
      "-----------------------------\n",
      " <bound method Series.unique of 0       6GB\n",
      "1       6GB\n",
      "2       6GB\n",
      "3       6GB\n",
      "4       6GB\n",
      "       ... \n",
      "925     8GB\n",
      "926     8GB\n",
      "927    12GB\n",
      "928    12GB\n",
      "929    12GB\n",
      "Name: RAM, Length: 930, dtype: object>\n",
      "-----------------------------\n",
      " <bound method Series.unique of 0                 12MP\n",
      "1                 12MP\n",
      "2                 12MP\n",
      "3                 12MP\n",
      "4                 12MP\n",
      "            ...       \n",
      "925                8MP\n",
      "926                8MP\n",
      "927    10MP, 4MP (UDC)\n",
      "928    10MP, 4MP (UDC)\n",
      "929    10MP, 4MP (UDC)\n",
      "Name: Front Camera, Length: 930, dtype: object>\n",
      "-----------------------------\n",
      " <bound method Series.unique of 0      48MP\n",
      "1      48MP\n",
      "2      48MP\n",
      "3      48MP\n",
      "4      48MP\n",
      "       ... \n",
      "925     8MP\n",
      "926     8MP\n",
      "927    50MP\n",
      "928    50MP\n",
      "929    50MP\n",
      "Name: Back Camera, Length: 930, dtype: object>\n",
      "-----------------------------\n",
      " <bound method Series.unique of 0               A17 Bionic\n",
      "1               A17 Bionic\n",
      "2               A17 Bionic\n",
      "3               A17 Bionic\n",
      "4               A17 Bionic\n",
      "              ...         \n",
      "925    Snapdragon 7s Gen 2\n",
      "926    Snapdragon 7s Gen 2\n",
      "927     Snapdragon 8 Gen 3\n",
      "928     Snapdragon 8 Gen 3\n",
      "929     Snapdragon 8 Gen 3\n",
      "Name: Processor, Length: 930, dtype: object>\n",
      "-----------------------------\n",
      " <bound method Series.unique of 0       3,600mAh\n",
      "1       3,600mAh\n",
      "2       3,600mAh\n",
      "3       4,200mAh\n",
      "4       4,200mAh\n",
      "         ...    \n",
      "925    10,000mAh\n",
      "926    10,000mAh\n",
      "927      4400mAh\n",
      "928      4400mAh\n",
      "929      4400mAh\n",
      "Name: Battery Capacity, Length: 930, dtype: object>\n",
      "-----------------------------\n",
      " <bound method Series.unique of 0       6.1 inches\n",
      "1       6.1 inches\n",
      "2       6.1 inches\n",
      "3       6.7 inches\n",
      "4       6.7 inches\n",
      "          ...     \n",
      "925    12.1 inches\n",
      "926    12.1 inches\n",
      "927     7.6 inches\n",
      "928     7.6 inches\n",
      "929     7.6 inches\n",
      "Name: Screen Size, Length: 930, dtype: object>\n",
      "-----------------------------\n",
      " <bound method Series.unique of 0        PKR 224,999\n",
      "1        PKR 234,999\n",
      "2        PKR 244,999\n",
      "3        PKR 249,999\n",
      "4        PKR 259,999\n",
      "           ...      \n",
      "925       PKR 66,220\n",
      "926       PKR 71,220\n",
      "927      PKR 604,999\n",
      "928      PKR 544,999\n",
      "929    Not available\n",
      "Name: Launched Price (Pakistan), Length: 930, dtype: object>\n",
      "-----------------------------\n",
      " <bound method Series.unique of 0       INR 79,999\n",
      "1       INR 84,999\n",
      "2       INR 89,999\n",
      "3       INR 89,999\n",
      "4       INR 94,999\n",
      "          ...     \n",
      "925     INR 23,999\n",
      "926     INR 25,999\n",
      "927    INR 164,999\n",
      "928    INR 176,999\n",
      "929    INR 200,999\n",
      "Name: Launched Price (India), Length: 930, dtype: object>\n",
      "-----------------------------\n",
      " <bound method Series.unique of 0        CNY 5,799\n",
      "1        CNY 6,099\n",
      "2        CNY 6,499\n",
      "3        CNY 6,199\n",
      "4        CNY 6,499\n",
      "          ...     \n",
      "925      CNY 2,099\n",
      "926      CNY 2,299\n",
      "927        ¥13,999\n",
      "928     CNY 15,999\n",
      "929    CNY 17,999 \n",
      "Name: Launched Price (China), Length: 930, dtype: object>\n",
      "-----------------------------\n",
      " <bound method Series.unique of 0        USD 799\n",
      "1        USD 849\n",
      "2        USD 899\n",
      "3        USD 899\n",
      "4        USD 949\n",
      "         ...    \n",
      "925      USD 280\n",
      "926      USD 300\n",
      "927    USD 1,899\n",
      "928     USD 1719\n",
      "929    USD 2,259\n",
      "Name: Launched Price (USA), Length: 930, dtype: object>\n",
      "-----------------------------\n",
      " <bound method Series.unique of 0      AED 2,799\n",
      "1      AED 2,999\n",
      "2      AED 3,199\n",
      "3      AED 3,199\n",
      "4      AED 3,399\n",
      "         ...    \n",
      "925    AED 1,029\n",
      "926    AED 1,099\n",
      "927    AED 7,199\n",
      "928    AED 7,699\n",
      "929    AED 8,699\n",
      "Name: Launched Price (Dubai), Length: 930, dtype: object>\n",
      "-----------------------------\n",
      " <bound method Series.unique of 0      2024\n",
      "1      2024\n",
      "2      2024\n",
      "3      2024\n",
      "4      2024\n",
      "       ... \n",
      "925    2024\n",
      "926    2024\n",
      "927    2024\n",
      "928    2024\n",
      "929    2024\n",
      "Name: Launched Year, Length: 930, dtype: int64>\n"
     ]
    }
   ],
   "source": [
    "for i in data.columns:\n",
    "    print(\"-----------------------------\\n\",data[i].unique)"
   ]
  },
  {
   "cell_type": "code",
   "execution_count": 6,
   "metadata": {},
   "outputs": [],
   "source": [
    "data[\"Mobile Weight\"]=data[\"Mobile Weight\"].str.replace(\"g\",\"\")\n",
    "data[\"Mobile Weight\"]=pd.to_numeric(data[\"Mobile Weight\"])"
   ]
  },
  {
   "cell_type": "code",
   "execution_count": 7,
   "metadata": {},
   "outputs": [
    {
     "name": "stdout",
     "output_type": "stream",
     "text": [
      "(930, 15)\n"
     ]
    }
   ],
   "source": [
    "print(data.shape)"
   ]
  },
  {
   "cell_type": "code",
   "execution_count": 8,
   "metadata": {},
   "outputs": [
    {
     "data": {
      "text/plain": [
       "Company Name                  object\n",
       "Model Name                    object\n",
       "Mobile Weight                float64\n",
       "RAM                           object\n",
       "Front Camera                  object\n",
       "Back Camera                   object\n",
       "Processor                     object\n",
       "Battery Capacity              object\n",
       "Screen Size                   object\n",
       "Launched Price (Pakistan)     object\n",
       "Launched Price (India)        object\n",
       "Launched Price (China)        object\n",
       "Launched Price (USA)          object\n",
       "Launched Price (Dubai)        object\n",
       "Launched Year                  int64\n",
       "dtype: object"
      ]
     },
     "execution_count": 8,
     "metadata": {},
     "output_type": "execute_result"
    }
   ],
   "source": [
    "data.dtypes"
   ]
  },
  {
   "cell_type": "code",
   "execution_count": 9,
   "metadata": {},
   "outputs": [],
   "source": [
    "data[\"RAM\"]=data[\"RAM\"].str.replace(\"GB\",\"\")\n",
    "data[\"RAM\"]=data[\"RAM\"].str.replace(\"8 / 12\",\"20\")\n"
   ]
  },
  {
   "cell_type": "code",
   "execution_count": 10,
   "metadata": {},
   "outputs": [
    {
     "data": {
      "text/plain": [
       "array(['6', '8', '4', '3', '12', '2', '1.5', '16', '10', '1', '20'],\n",
       "      dtype=object)"
      ]
     },
     "execution_count": 10,
     "metadata": {},
     "output_type": "execute_result"
    }
   ],
   "source": [
    "data.RAM.unique()"
   ]
  },
  {
   "cell_type": "code",
   "execution_count": 11,
   "metadata": {},
   "outputs": [],
   "source": [
    "\n",
    "data[\"RAM\"] = pd.to_numeric(data[\"RAM\"])"
   ]
  },
  {
   "cell_type": "code",
   "execution_count": 12,
   "metadata": {},
   "outputs": [
    {
     "data": {
      "text/plain": [
       "array([ 6. ,  8. ,  4. ,  3. , 12. ,  2. ,  1.5, 16. , 10. ,  1. , 20. ])"
      ]
     },
     "execution_count": 12,
     "metadata": {},
     "output_type": "execute_result"
    }
   ],
   "source": [
    "data.RAM.unique()"
   ]
  },
  {
   "cell_type": "code",
   "execution_count": 13,
   "metadata": {},
   "outputs": [
    {
     "data": {
      "text/plain": [
       "Company Name                  object\n",
       "Model Name                    object\n",
       "Mobile Weight                float64\n",
       "RAM                          float64\n",
       "Front Camera                  object\n",
       "Back Camera                   object\n",
       "Processor                     object\n",
       "Battery Capacity              object\n",
       "Screen Size                   object\n",
       "Launched Price (Pakistan)     object\n",
       "Launched Price (India)        object\n",
       "Launched Price (China)        object\n",
       "Launched Price (USA)          object\n",
       "Launched Price (Dubai)        object\n",
       "Launched Year                  int64\n",
       "dtype: object"
      ]
     },
     "execution_count": 13,
     "metadata": {},
     "output_type": "execute_result"
    }
   ],
   "source": [
    "data.dtypes"
   ]
  },
  {
   "cell_type": "code",
   "execution_count": 14,
   "metadata": {},
   "outputs": [],
   "source": [
    "data[\"Battery Capacity\"]=data[\"Battery Capacity\"].str.replace(\"mAh\",\"\")\n",
    "data[\"Battery Capacity\"]=data[\"Battery Capacity\"].str.replace(\",\",\"\")\n",
    "data[\"Battery Capacity\"] = pd.to_numeric(data[\"Battery Capacity\"])"
   ]
  },
  {
   "cell_type": "code",
   "execution_count": 15,
   "metadata": {},
   "outputs": [
    {
     "data": {
      "text/plain": [
       "Company Name                  object\n",
       "Model Name                    object\n",
       "Mobile Weight                float64\n",
       "RAM                          float64\n",
       "Front Camera                  object\n",
       "Back Camera                   object\n",
       "Processor                     object\n",
       "Battery Capacity               int64\n",
       "Screen Size                   object\n",
       "Launched Price (Pakistan)     object\n",
       "Launched Price (India)        object\n",
       "Launched Price (China)        object\n",
       "Launched Price (USA)          object\n",
       "Launched Price (Dubai)        object\n",
       "Launched Year                  int64\n",
       "dtype: object"
      ]
     },
     "execution_count": 15,
     "metadata": {},
     "output_type": "execute_result"
    }
   ],
   "source": [
    "data.dtypes"
   ]
  },
  {
   "cell_type": "code",
   "execution_count": 16,
   "metadata": {},
   "outputs": [
    {
     "data": {
      "text/plain": [
       "Company Name                 0\n",
       "Model Name                   0\n",
       "Mobile Weight                0\n",
       "RAM                          0\n",
       "Front Camera                 0\n",
       "Back Camera                  0\n",
       "Processor                    0\n",
       "Battery Capacity             0\n",
       "Screen Size                  0\n",
       "Launched Price (Pakistan)    0\n",
       "Launched Price (India)       0\n",
       "Launched Price (China)       0\n",
       "Launched Price (USA)         0\n",
       "Launched Price (Dubai)       0\n",
       "Launched Year                0\n",
       "dtype: int64"
      ]
     },
     "execution_count": 16,
     "metadata": {},
     "output_type": "execute_result"
    }
   ],
   "source": [
    "data.isnull().sum()"
   ]
  },
  {
   "cell_type": "code",
   "execution_count": 17,
   "metadata": {},
   "outputs": [],
   "source": [
    "data.replace(\"Not available\",np.nan,inplace=True)"
   ]
  },
  {
   "cell_type": "code",
   "execution_count": 18,
   "metadata": {},
   "outputs": [
    {
     "data": {
      "text/plain": [
       "Company Name                 0\n",
       "Model Name                   0\n",
       "Mobile Weight                0\n",
       "RAM                          0\n",
       "Front Camera                 0\n",
       "Back Camera                  0\n",
       "Processor                    0\n",
       "Battery Capacity             0\n",
       "Screen Size                  0\n",
       "Launched Price (Pakistan)    1\n",
       "Launched Price (India)       0\n",
       "Launched Price (China)       0\n",
       "Launched Price (USA)         0\n",
       "Launched Price (Dubai)       0\n",
       "Launched Year                0\n",
       "dtype: int64"
      ]
     },
     "execution_count": 18,
     "metadata": {},
     "output_type": "execute_result"
    }
   ],
   "source": [
    "data.isnull().sum()"
   ]
  },
  {
   "cell_type": "code",
   "execution_count": 19,
   "metadata": {},
   "outputs": [],
   "source": [
    "data.dropna(inplace=True)"
   ]
  },
  {
   "cell_type": "code",
   "execution_count": 20,
   "metadata": {},
   "outputs": [],
   "source": [
    "data[\"Launched Price (Pakistan)\"] = data[\"Launched Price (Pakistan)\"].str.replace(\"PKR \",\"\")\n",
    "data[\"Launched Price (Pakistan)\"] = data[\"Launched Price (Pakistan)\"].str.replace(\",\",\"\")\n",
    "data[\"Launched Price (Pakistan)\"] = pd.to_numeric(data[\"Launched Price (Pakistan)\"])"
   ]
  },
  {
   "cell_type": "code",
   "execution_count": 21,
   "metadata": {},
   "outputs": [
    {
     "data": {
      "text/plain": [
       "Company Name                  object\n",
       "Model Name                    object\n",
       "Mobile Weight                float64\n",
       "RAM                          float64\n",
       "Front Camera                  object\n",
       "Back Camera                   object\n",
       "Processor                     object\n",
       "Battery Capacity               int64\n",
       "Screen Size                   object\n",
       "Launched Price (Pakistan)      int64\n",
       "Launched Price (India)        object\n",
       "Launched Price (China)        object\n",
       "Launched Price (USA)          object\n",
       "Launched Price (Dubai)        object\n",
       "Launched Year                  int64\n",
       "dtype: object"
      ]
     },
     "execution_count": 21,
     "metadata": {},
     "output_type": "execute_result"
    }
   ],
   "source": [
    "data.dtypes"
   ]
  },
  {
   "cell_type": "code",
   "execution_count": 22,
   "metadata": {},
   "outputs": [],
   "source": [
    "data[\"Launched Price (India)\"] = data[\"Launched Price (India)\"].str.replace(\"INR \",\"\")\n",
    "data[\"Launched Price (India)\"] = data[\"Launched Price (India)\"].str.replace(\",\",\"\")\n",
    "data[\"Launched Price (India)\"] = pd.to_numeric(data[\"Launched Price (India)\"])"
   ]
  },
  {
   "cell_type": "code",
   "execution_count": null,
   "metadata": {},
   "outputs": [],
   "source": []
  },
  {
   "cell_type": "code",
   "execution_count": 23,
   "metadata": {},
   "outputs": [],
   "source": [
    "data[\"Launched Price (China)\"] = data[\"Launched Price (China)\"].str.replace(\"CNY \",\"\")\n",
    "data[\"Launched Price (China)\"] = data[\"Launched Price (China)\"].str.replace(\"¥\",\"\")\n",
    "data[\"Launched Price (China)\"] = data[\"Launched Price (China)\"].str.replace(\",\",\"\")\n",
    "data[\"Launched Price (China)\"] = pd.to_numeric(data[\"Launched Price (China)\"])"
   ]
  },
  {
   "cell_type": "code",
   "execution_count": 24,
   "metadata": {},
   "outputs": [
    {
     "data": {
      "text/plain": [
       "Company Name                  object\n",
       "Model Name                    object\n",
       "Mobile Weight                float64\n",
       "RAM                          float64\n",
       "Front Camera                  object\n",
       "Back Camera                   object\n",
       "Processor                     object\n",
       "Battery Capacity               int64\n",
       "Screen Size                   object\n",
       "Launched Price (Pakistan)      int64\n",
       "Launched Price (India)         int64\n",
       "Launched Price (China)         int64\n",
       "Launched Price (USA)          object\n",
       "Launched Price (Dubai)        object\n",
       "Launched Year                  int64\n",
       "dtype: object"
      ]
     },
     "execution_count": 24,
     "metadata": {},
     "output_type": "execute_result"
    }
   ],
   "source": [
    "data.dtypes"
   ]
  },
  {
   "cell_type": "code",
   "execution_count": 25,
   "metadata": {},
   "outputs": [],
   "source": [
    "data[\"Launched Price (USA)\"] = data[\"Launched Price (USA)\"].str.replace(\"USD \",\"\")\n",
    "\n",
    "data[\"Launched Price (USA)\"] = data[\"Launched Price (USA)\"].str.replace(\",\",\"\")\n",
    "data[\"Launched Price (USA)\"] = pd.to_numeric(data[\"Launched Price (USA)\"])"
   ]
  },
  {
   "cell_type": "code",
   "execution_count": 26,
   "metadata": {},
   "outputs": [],
   "source": [
    "data[\"Launched Price (Dubai)\"] = data[\"Launched Price (Dubai)\"].str.replace(\"AED \",\"\")\n",
    "data[\"Launched Price (Dubai)\"] = data[\"Launched Price (Dubai)\"].str.replace(\",\",\"\")\n",
    "data[\"Launched Price (Dubai)\"] = pd.to_numeric(data[\"Launched Price (Dubai)\"])"
   ]
  },
  {
   "cell_type": "code",
   "execution_count": 27,
   "metadata": {},
   "outputs": [
    {
     "data": {
      "text/plain": [
       "Company Name                  object\n",
       "Model Name                    object\n",
       "Mobile Weight                float64\n",
       "RAM                          float64\n",
       "Front Camera                  object\n",
       "Back Camera                   object\n",
       "Processor                     object\n",
       "Battery Capacity               int64\n",
       "Screen Size                   object\n",
       "Launched Price (Pakistan)      int64\n",
       "Launched Price (India)         int64\n",
       "Launched Price (China)         int64\n",
       "Launched Price (USA)         float64\n",
       "Launched Price (Dubai)         int64\n",
       "Launched Year                  int64\n",
       "dtype: object"
      ]
     },
     "execution_count": 27,
     "metadata": {},
     "output_type": "execute_result"
    }
   ],
   "source": [
    "data.dtypes"
   ]
  },
  {
   "cell_type": "code",
   "execution_count": 28,
   "metadata": {},
   "outputs": [
    {
     "data": {
      "text/plain": [
       "array(['6.1 inches', '6.7 inches', '5.4 inches', '5.8 inches',\n",
       "       '6.5 inches', '10.9 inches', '10.2 inches', '7.9 inches',\n",
       "       '11 inches', '12.9 inches', '13 inches', '6.8 inches',\n",
       "       '6.6 inches', '7.6 inches', '6.4 inches', '6.9 inches',\n",
       "       '6.3 inches', '5.3 inches', '6.0 inches', '5.5 inches',\n",
       "       '5.7 inches', '5.2 inches', '14.6 inches', '12.4 inches',\n",
       "       '8.7 inches', '10.5 inches', '8 inches', '10.1 inches',\n",
       "       '6.74 inches', '6.72 inches', '7.8 inches', '6.55 inches',\n",
       "       '6.43 inches', '6.49 inches', '6.52 inches', '6.78 inches',\n",
       "       '6.59 inches', '6.44 inches', '6.41 inches', '6.01 inches',\n",
       "       '6.67 inches', '6.28 inches', '11.61 inches', '6.31 inches',\n",
       "       '6.58 inches', '6.38 inches', '6.56 inches', '5.88 inches',\n",
       "       '6.22 inches', '5.0 inches', '6.51 inches', '6.35 inches',\n",
       "       '6.53 inches', '6.39 inches', '6.47 inches', '10.4 inches',\n",
       "       '12.3 inches', '7.82 inches', '6.83 inches', '11.6 inches',\n",
       "       '12.1 inches', '6.82 inches', '7.1 inches', '11.5 inches',\n",
       "       '6.73 inches', '6.36 inches', '6.09 inches',\n",
       "       '6.7 inches (main), 2.7 inches (external)',\n",
       "       '6.9 inches (internal), 4.0 inches (external)',\n",
       "       '6.7 inches (internal), 3.6 inches (external)',\n",
       "       '6.9 inches (unfolded)', '8.0 inches (unfolded)', '6.57 inches',\n",
       "       '7.8 inches (unfolded)', '7.85 inches (unfolded)', '7.93 inches',\n",
       "       '7.92 inches', '12.2 inches', '13.2 inches', '5.6 inches',\n",
       "       '6.2 inches', '6.34 inches', '6.71 inches', '7.85 inches',\n",
       "       '9.7 inches', '11.0 inches', '6.95 inches', '6.85 inches',\n",
       "       '6.63 inches', '7.09 inches', '6.81 inches', '6.76 inches',\n",
       "       '12.0 inches', '12.6 inches', '13.0 inches', '13.5 inches',\n",
       "       '6.79 inches'], dtype=object)"
      ]
     },
     "execution_count": 28,
     "metadata": {},
     "output_type": "execute_result"
    }
   ],
   "source": [
    "data[\"Screen Size\"].unique()"
   ]
  },
  {
   "cell_type": "code",
   "execution_count": 29,
   "metadata": {},
   "outputs": [
    {
     "data": {
      "text/plain": [
       "array(['6.1 inches', '6.7 inches', '5.4 inches', '5.8 inches',\n",
       "       '6.5 inches', '10.9 inches', '10.2 inches', '7.9 inches',\n",
       "       '11 inches', '12.9 inches', '13 inches', '6.8 inches',\n",
       "       '6.6 inches', '7.6 inches', '6.4 inches', '6.9 inches',\n",
       "       '6.3 inches', '5.3 inches', '6.0 inches', '5.5 inches',\n",
       "       '5.7 inches', '5.2 inches', '14.6 inches', '12.4 inches',\n",
       "       '8.7 inches', '10.5 inches', '8 inches', '10.1 inches',\n",
       "       '6.74 inches', '6.72 inches', '7.8 inches', '6.55 inches',\n",
       "       '6.43 inches', '6.49 inches', '6.52 inches', '6.78 inches',\n",
       "       '6.59 inches', '6.44 inches', '6.41 inches', '6.01 inches',\n",
       "       '6.67 inches', '6.28 inches', '11.61 inches', '6.31 inches',\n",
       "       '6.58 inches', '6.38 inches', '6.56 inches', '5.88 inches',\n",
       "       '6.22 inches', '5.0 inches', '6.51 inches', '6.35 inches',\n",
       "       '6.53 inches', '6.39 inches', '6.47 inches', '10.4 inches',\n",
       "       '12.3 inches', '7.82 inches', '6.83 inches', '11.6 inches',\n",
       "       '12.1 inches', '6.82 inches', '7.1 inches', '11.5 inches',\n",
       "       '6.73 inches', '6.36 inches', '6.09 inches', '6.7 inches (main)',\n",
       "       '6.9 inches (internal)', '6.7 inches (internal)',\n",
       "       '6.9 inches (unfolded)', '8.0 inches (unfolded)', '6.57 inches',\n",
       "       '7.8 inches (unfolded)', '7.85 inches (unfolded)', '7.93 inches',\n",
       "       '7.92 inches', '12.2 inches', '13.2 inches', '5.6 inches',\n",
       "       '6.2 inches', '6.34 inches', '6.71 inches', '7.85 inches',\n",
       "       '9.7 inches', '11.0 inches', '6.95 inches', '6.85 inches',\n",
       "       '6.63 inches', '7.09 inches', '6.81 inches', '6.76 inches',\n",
       "       '12.0 inches', '12.6 inches', '13.0 inches', '13.5 inches',\n",
       "       '6.79 inches'], dtype=object)"
      ]
     },
     "execution_count": 29,
     "metadata": {},
     "output_type": "execute_result"
    }
   ],
   "source": [
    "data[\"Screen Size\"] = data[\"Screen Size\"].str.replace(\", 2.7 inches (external)\",\"\")\n",
    "data[\"Screen Size\"] = data[\"Screen Size\"].str.replace(\", 4.0 inches (external)\",\"\")\n",
    "data[\"Screen Size\"] = data[\"Screen Size\"].str.replace(\", 3.6 inches (external)\",\"\")\n",
    "\n",
    "\n",
    "data[\"Screen Size\"].unique()\n",
    "\n"
   ]
  },
  {
   "cell_type": "code",
   "execution_count": 30,
   "metadata": {},
   "outputs": [],
   "source": [
    "data[\"Screen Size\"] = data[\"Screen Size\"].str.replace(\"inches\",\"\")\n",
    "data[\"Screen Size\"] = data[\"Screen Size\"].str.replace(\"(main)\",\"\")\n",
    "data[\"Screen Size\"] = data[\"Screen Size\"].str.replace(\"(internal)\",\"\")\n",
    "data[\"Screen Size\"] = data[\"Screen Size\"].str.replace(\"(external)\",\"\")\n",
    "data[\"Screen Size\"] = data[\"Screen Size\"].str.replace(\"(unfolded)\",\"\")\n",
    "data[\"Screen Size\"] = data[\"Screen Size\"].str.replace(\" \",\"\")"
   ]
  },
  {
   "cell_type": "code",
   "execution_count": 31,
   "metadata": {},
   "outputs": [
    {
     "data": {
      "text/plain": [
       "array(['6.1', '6.7', '5.4', '5.8', '6.5', '10.9', '10.2', '7.9', '11',\n",
       "       '12.9', '13', '6.8', '6.6', '7.6', '6.4', '6.9', '6.3', '5.3',\n",
       "       '6.0', '5.5', '5.7', '5.2', '14.6', '12.4', '8.7', '10.5', '8',\n",
       "       '10.1', '6.74', '6.72', '7.8', '6.55', '6.43', '6.49', '6.52',\n",
       "       '6.78', '6.59', '6.44', '6.41', '6.01', '6.67', '6.28', '11.61',\n",
       "       '6.31', '6.58', '6.38', '6.56', '5.88', '6.22', '5.0', '6.51',\n",
       "       '6.35', '6.53', '6.39', '6.47', '10.4', '12.3', '7.82', '6.83',\n",
       "       '11.6', '12.1', '6.82', '7.1', '11.5', '6.73', '6.36', '6.09',\n",
       "       '8.0', '6.57', '7.85', '7.93', '7.92', '12.2', '13.2', '5.6',\n",
       "       '6.2', '6.34', '6.71', '9.7', '11.0', '6.95', '6.85', '6.63',\n",
       "       '7.09', '6.81', '6.76', '12.0', '12.6', '13.0', '13.5', '6.79'],\n",
       "      dtype=object)"
      ]
     },
     "execution_count": 31,
     "metadata": {},
     "output_type": "execute_result"
    }
   ],
   "source": [
    "data[\"Screen Size\"].unique()"
   ]
  },
  {
   "cell_type": "code",
   "execution_count": 32,
   "metadata": {},
   "outputs": [],
   "source": [
    "data[\"Screen Size\"] = pd.to_numeric(data[\"Screen Size\"])"
   ]
  },
  {
   "cell_type": "code",
   "execution_count": 33,
   "metadata": {},
   "outputs": [
    {
     "data": {
      "text/plain": [
       "Company Name                  object\n",
       "Model Name                    object\n",
       "Mobile Weight                float64\n",
       "RAM                          float64\n",
       "Front Camera                  object\n",
       "Back Camera                   object\n",
       "Processor                     object\n",
       "Battery Capacity               int64\n",
       "Screen Size                  float64\n",
       "Launched Price (Pakistan)      int64\n",
       "Launched Price (India)         int64\n",
       "Launched Price (China)         int64\n",
       "Launched Price (USA)         float64\n",
       "Launched Price (Dubai)         int64\n",
       "Launched Year                  int64\n",
       "dtype: object"
      ]
     },
     "execution_count": 33,
     "metadata": {},
     "output_type": "execute_result"
    }
   ],
   "source": [
    "data.dtypes"
   ]
  },
  {
   "cell_type": "code",
   "execution_count": null,
   "metadata": {},
   "outputs": [],
   "source": []
  },
  {
   "cell_type": "code",
   "execution_count": 34,
   "metadata": {},
   "outputs": [
    {
     "data": {
      "text/plain": [
       "['Company Name', 'Model Name', 'Front Camera', 'Back Camera', 'Processor']"
      ]
     },
     "execution_count": 34,
     "metadata": {},
     "output_type": "execute_result"
    }
   ],
   "source": [
    "#mapping for Company Name\n",
    "cloname=[]\n",
    "for x in data.columns:\n",
    "    if data[x].dtype=='object':\n",
    "        cloname.append(x)\n",
    "cloname"
   ]
  },
  {
   "cell_type": "code",
   "execution_count": 35,
   "metadata": {},
   "outputs": [
    {
     "name": "stdout",
     "output_type": "stream",
     "text": [
      "Feature Company Name\n",
      "mapping {'Apple': np.int64(0), 'Google': np.int64(1), 'Honor': np.int64(2), 'Huawei': np.int64(3), 'Infinix': np.int64(4), 'Lenovo': np.int64(5), 'Motorola': np.int64(6), 'Nokia': np.int64(7), 'OnePlus': np.int64(8), 'Oppo': np.int64(9), 'POCO': np.int64(10), 'Poco': np.int64(11), 'Realme': np.int64(12), 'Samsung': np.int64(13), 'Sony': np.int64(14), 'Tecno': np.int64(15), 'Vivo': np.int64(16), 'Xiaomi': np.int64(17), 'iQOO': np.int64(18)}\n",
      "Feature Model Name\n",
      "mapping {'10X Lite': np.int64(0), '13 5G 128GB': np.int64(1), '13 5G 256GB': np.int64(2), '13 Pro 5G 128GB': np.int64(3), '13 Pro 5G 256GB': np.int64(4), '13 Pro+ 5G 256GB': np.int64(5), '13 Pro+ 5G 512GB': np.int64(6), '13+ 5G 128GB': np.int64(7), '13+ 5G 256GB': np.int64(8), '14 Pro 5G 128GB': np.int64(9), '14 Pro 5G 256GB': np.int64(10), '14 Pro+ 5G 256GB': np.int64(11), '14 Pro+ 5G 512GB': np.int64(12), '14x 5G 128GB': np.int64(13), '14x 5G 256GB': np.int64(14), '30': np.int64(15), '30 Pro': np.int64(16), '30 Pro+': np.int64(17), '30S': np.int64(18), '50': np.int64(19), '50 Pro': np.int64(20), '50 SE': np.int64(21), '60': np.int64(22), '60 Pro': np.int64(23), '60 SE': np.int64(24), '70': np.int64(25), '70 Pro': np.int64(26), '70 Pro+': np.int64(27), '80': np.int64(28), '80 Pro': np.int64(29), '80 SE': np.int64(30), '90': np.int64(31), '90 Pro': np.int64(32), '90 SE': np.int64(33), '9X Lite': np.int64(34), 'A3 128GB': np.int64(35), 'A3 4G 128GB': np.int64(36), 'A3x 128GB': np.int64(37), 'A3x 256GB': np.int64(38), 'A3x 4G 128GB': np.int64(39), 'A3x 4G 256GB': np.int64(40), 'A40 128GB': np.int64(41), 'A40 256GB': np.int64(42), 'A49 5G 128GB': np.int64(43), 'A5 Pro 256GB': np.int64(44), 'A5 Pro 512GB': np.int64(45), 'A50 5G 128GB': np.int64(46), 'A51 5G 128GB': np.int64(47), 'A52 5G 128GB': np.int64(48), 'A53 5G 128GB': np.int64(49), 'A54 5G 128GB': np.int64(50), 'A55 5G 128GB': np.int64(51), 'A56 5G 128GB': np.int64(52), 'A57 5G 128GB': np.int64(53), 'A58 5G 256GB': np.int64(54), 'A59 5G 128GB': np.int64(55), 'A59 5G 256GB': np.int64(56), 'A6 Note 32GB': np.int64(57), 'A60 128GB': np.int64(58), 'A60 256GB': np.int64(59), 'A80 256GB': np.int64(60), 'C22 128GB': np.int64(61), 'C22 64GB': np.int64(62), 'C32 128GB': np.int64(63), 'C32 64GB': np.int64(64), 'C55 128GB': np.int64(65), 'C55 256GB': np.int64(66), 'C61 128GB': np.int64(67), 'C63 128GB': np.int64(68), 'C65 128GB': np.int64(69), 'C65 256GB': np.int64(70), 'C65 64GB': np.int64(71), 'C67 128GB': np.int64(72), 'C67 256GB': np.int64(73), 'C75 128GB': np.int64(74), 'C75 256GB': np.int64(75), 'Camon 20 128GB': np.int64(76), 'Camon 20 Premier 512GB': np.int64(77), 'Camon 20 Pro 128GB': np.int64(78), 'Camon 20 Pro 5G 256GB': np.int64(79), 'Camon 20s 256GB': np.int64(80), 'Camon 20s Pro 256GB': np.int64(81), 'Camon 20s Pro 5G 512GB': np.int64(82), 'Camon 30 128GB': np.int64(83), 'Camon 30 5G 256GB': np.int64(84), 'Camon 30 Premier 512GB': np.int64(85), 'Camon 30 Pro 512GB': np.int64(86), 'Camon 30S 256GB': np.int64(87), 'Camon 30S Pro 512GB': np.int64(88), 'Edge 256GB': np.int64(89), 'Edge 30 Fusion 128GB': np.int64(90), 'Edge 30 Fusion 256GB': np.int64(91), 'Edge 30 Neo 128GB': np.int64(92), 'Edge 30 Neo 256GB': np.int64(93), 'Edge 50 256GB': np.int64(94), 'Edge 50 512GB': np.int64(95), 'Edge 50 Fusion 128GB': np.int64(96), 'Edge 50 Fusion 256GB': np.int64(97), 'Edge 50 Lite 128GB': np.int64(98), 'Edge 50 Lite 256GB': np.int64(99), 'Edge 50 Neo 256GB': np.int64(100), 'Edge 50 Neo 512GB': np.int64(101), 'Edge 50 Pro 128GB': np.int64(102), 'Edge 50 Pro 256GB': np.int64(103), 'Edge 50 Ultra 512GB': np.int64(104), 'Edge 512GB': np.int64(105), 'F2 Pro 128GB': np.int64(106), 'F25 Pro 128GB': np.int64(107), 'F25 Pro 256GB': np.int64(108), 'F27 128GB': np.int64(109), 'F27 256GB': np.int64(110), 'F27 Pro+ 256GB': np.int64(111), 'F27 Pro+ 512GB': np.int64(112), 'F3 128GB': np.int64(113), 'F3 GT 128GB': np.int64(114), 'F4 128GB': np.int64(115), 'F4 GT 128GB': np.int64(116), 'F5 128GB': np.int64(117), 'F5 Pro 256GB': np.int64(118), 'F6 128GB': np.int64(119), 'F6 Pro 256GB': np.int64(120), 'Find N2 256GB': np.int64(121), 'Find N2 Flip 256GB': np.int64(122), 'Find N2 Flip 512GB': np.int64(123), 'Find N3 512GB': np.int64(124), 'Find N3 Flip 256GB': np.int64(125), 'Find X5 256GB': np.int64(126), 'Find X5 Pro 256GB': np.int64(127), 'Find X5 Pro 512GB': np.int64(128), 'Find X6 256GB': np.int64(129), 'Find X6 512GB': np.int64(130), 'Find X6 Pro 256GB': np.int64(131), 'Find X6 Pro 512GB': np.int64(132), 'Find X7 256GB': np.int64(133), 'Find X7 512GB': np.int64(134), 'Find X7 Ultra 256GB': np.int64(135), 'Find X7 Ultra 512GB': np.int64(136), 'Find X8 256GB': np.int64(137), 'Find X8 Pro 256GB': np.int64(138), 'G20 128GB': np.int64(139), 'G20 64GB': np.int64(140), 'G21 128GB': np.int64(141), 'G21 64GB': np.int64(142), 'G400 128GB': np.int64(143), 'G42 5G 128GB': np.int64(144), 'G84 5G 128GB': np.int64(145), 'G84 5G 256GB': np.int64(146), 'GT 10 Pro 256GB': np.int64(147), 'GT 20 Pro': np.int64(148), 'GT 6 128GB': np.int64(149), 'GT 6 256GB': np.int64(150), 'GT 6 512GB': np.int64(151), 'GT 6T 128GB': np.int64(152), 'GT 6T 256GB': np.int64(153), 'GT 7 128GB': np.int64(154), 'GT 7 256GB': np.int64(155), 'GT 7 Pro 128GB': np.int64(156), 'GT 7 Pro 256GB': np.int64(157), 'Galaxy A04 128GB': np.int64(158), 'Galaxy A04 64GB': np.int64(159), 'Galaxy A14 128GB': np.int64(160), 'Galaxy A14 256GB': np.int64(161), 'Galaxy A24 128GB': np.int64(162), 'Galaxy A24 256GB': np.int64(163), 'Galaxy A34 128GB': np.int64(164), 'Galaxy A34 256GB': np.int64(165), 'Galaxy A54 128GB': np.int64(166), 'Galaxy A54 256GB': np.int64(167), 'Galaxy C5 32GB': np.int64(168), 'Galaxy C7 Pro 64GB': np.int64(169), 'Galaxy C9 Pro 64GB': np.int64(170), 'Galaxy F14 128GB': np.int64(171), 'Galaxy F14 256GB': np.int64(172), 'Galaxy F34 128GB': np.int64(173), 'Galaxy F34 256GB': np.int64(174), 'Galaxy F54 128GB': np.int64(175), 'Galaxy F54 256GB': np.int64(176), 'Galaxy J4 16GB': np.int64(177), 'Galaxy J6+ 64GB': np.int64(178), 'Galaxy J7 Pro 64GB': np.int64(179), 'Galaxy J8 64GB': np.int64(180), 'Galaxy M04 128GB': np.int64(181), 'Galaxy M04 64GB': np.int64(182), 'Galaxy M14 128GB': np.int64(183), 'Galaxy M14 256GB': np.int64(184), 'Galaxy M34 128GB': np.int64(185), 'Galaxy M34 256GB': np.int64(186), 'Galaxy M54 128GB': np.int64(187), 'Galaxy M54 256GB': np.int64(188), 'Galaxy Note 10 128GB': np.int64(189), 'Galaxy Note 10 256GB': np.int64(190), 'Galaxy Note 10+ 256GB': np.int64(191), 'Galaxy Note 10+ 512GB': np.int64(192), 'Galaxy Note 20 128GB': np.int64(193), 'Galaxy Note 20 256GB': np.int64(194), 'Galaxy Note 20 Ultra 128GB': np.int64(195), 'Galaxy Note 20 Ultra 256GB': np.int64(196), 'Galaxy S22 128GB': np.int64(197), 'Galaxy S22 256GB': np.int64(198), 'Galaxy S22 Ultra 128GB': np.int64(199), 'Galaxy S22 Ultra 256GB': np.int64(200), 'Galaxy S22+ 128GB': np.int64(201), 'Galaxy S22+ 256GB': np.int64(202), 'Galaxy S23 128GB': np.int64(203), 'Galaxy S23 256GB': np.int64(204), 'Galaxy S23 Ultra 128GB': np.int64(205), 'Galaxy S23 Ultra 256GB': np.int64(206), 'Galaxy S23+ 128GB': np.int64(207), 'Galaxy S23+ 256GB': np.int64(208), 'Galaxy S24 128GB': np.int64(209), 'Galaxy S24 256GB': np.int64(210), 'Galaxy S24 Ultra 128GB': np.int64(211), 'Galaxy S24 Ultra 256GB': np.int64(212), 'Galaxy S24+ 128GB': np.int64(213), 'Galaxy S24+ 256GB': np.int64(214), 'Galaxy Tab A7 Lite 32GB': np.int64(215), 'Galaxy Tab A8 64GB': np.int64(216), 'Galaxy Tab A9 64GB': np.int64(217), 'Galaxy Tab A9+ 128GB': np.int64(218), 'Galaxy Tab Active 3 64GB': np.int64(219), 'Galaxy Tab Active 4 Pro 128GB': np.int64(220), 'Galaxy Tab Active 5 128GB': np.int64(221), 'Galaxy Tab E 10.1 16GB': np.int64(222), 'Galaxy Tab E 8.0 16GB': np.int64(223), 'Galaxy Tab S8 128GB': np.int64(224), 'Galaxy Tab S8 Ultra 256GB': np.int64(225), 'Galaxy Tab S8+ 256GB': np.int64(226), 'Galaxy Tab S9 128GB': np.int64(227), 'Galaxy Tab S9 FE 128GB': np.int64(228), 'Galaxy Tab S9 Ultra 256GB': np.int64(229), 'Galaxy Tab S9+ 256GB': np.int64(230), 'Galaxy W21 5G 256GB': np.int64(231), 'Galaxy W22 5G 256GB': np.int64(232), 'Galaxy Xcover 5 64GB': np.int64(233), 'Galaxy Xcover 6 Pro 128GB': np.int64(234), 'Galaxy Z Flip 4 256GB': np.int64(235), 'Galaxy Z Flip 4 512GB': np.int64(236), 'Galaxy Z Flip 5 256GB': np.int64(237), 'Galaxy Z Flip 5 512GB': np.int64(238), 'Galaxy Z Fold 4 256GB': np.int64(239), 'Galaxy Z Fold 4 512GB': np.int64(240), 'Galaxy Z Fold 5 256GB': np.int64(241), 'Galaxy Z Fold 5 512GB': np.int64(242), 'Galaxy Z Fold6 256GB': np.int64(243), 'Galaxy Z Fold6 512GB': np.int64(244), 'Hot 10 128GB': np.int64(245), 'Hot 10 Lite 64GB': np.int64(246), 'Hot 10 Play 64GB': np.int64(247), 'Hot 10S 128GB': np.int64(248), 'Hot 10S NFC 128GB': np.int64(249), 'Hot 10T 128GB': np.int64(250), 'Hot 11 128GB': np.int64(251), 'Hot 11 Play 128GB': np.int64(252), 'Hot 11s 128GB': np.int64(253), 'Hot 12 128GB': np.int64(254), 'Hot 12 Play 128GB': np.int64(255), 'Hot 12 Pro 128GB': np.int64(256), 'Hot 12i 64GB': np.int64(257), 'Hot 20 128GB': np.int64(258), 'Hot 20 5G 128GB': np.int64(259), 'Hot 20 Play 128GB': np.int64(260), 'Hot 20i 64GB': np.int64(261), 'Hot 20s 128GB': np.int64(262), 'Hot 30 128GB': np.int64(263), 'Hot 30 5G 128GB': np.int64(264), 'Hot 30 Play 128GB': np.int64(265), 'Hot 30i 128GB': np.int64(266), 'Hot 30i NFC 128GB': np.int64(267), 'Hot 40': np.int64(268), 'Hot 40 Pro': np.int64(269), 'Hot 40i': np.int64(270), 'Hot 50': np.int64(271), 'Hot 50 5G': np.int64(272), 'Hot 50 Pro': np.int64(273), 'Hot 50 Pro+': np.int64(274), 'Hot 50i': np.int64(275), 'K10 5G 128GB': np.int64(276), 'K10 5G 256GB': np.int64(277), 'K10 Note 128GB': np.int64(278), 'K10 Note 64GB': np.int64(279), 'K10 Plus 64GB': np.int64(280), 'K10x 128GB': np.int64(281), 'K10x 256GB': np.int64(282), 'K11 128GB': np.int64(283), 'K11 256GB': np.int64(284), 'K11x 128GB': np.int64(285), 'K11x 256GB': np.int64(286), 'K12 Plus 256GB': np.int64(287), 'K12 Plus 512GB': np.int64(288), 'K13 32GB': np.int64(289), 'K13 Note 64GB': np.int64(290), 'K13 Pro 128GB': np.int64(291), 'K14 Plus 128GB': np.int64(292), 'K14 Plus 64GB': np.int64(293), 'K7 5G 128GB': np.int64(294), 'K7 5G 256GB': np.int64(295), 'K7x 128GB': np.int64(296), 'K9 5G 128GB': np.int64(297), 'K9 5G 256GB': np.int64(298), 'K9 Pro 5G 128GB': np.int64(299), 'K9 Pro 5G 256GB': np.int64(300), 'K9x 128GB': np.int64(301), 'K9x 256GB': np.int64(302), 'Legion Y70 128GB': np.int64(303), 'Legion Y70 256GB': np.int64(304), 'Legion Y70 512GB': np.int64(305), 'M2 Pro 64GB': np.int64(306), 'M3 64GB': np.int64(307), 'M3 Pro 5G 64GB': np.int64(308), 'M4 Pro 128GB': np.int64(309), 'M4 Pro 5G 128GB': np.int64(310), 'M5 128GB': np.int64(311), 'M5s 128GB': np.int64(312), 'M6 64GB': np.int64(313), 'M6 Pro 128GB': np.int64(314), 'M7 5G 128GB': np.int64(315), 'Magic V': np.int64(316), 'Magic V2': np.int64(317), 'Magic V3': np.int64(318), 'Magic Vs': np.int64(319), 'Magic3': np.int64(320), 'Magic3 Pro': np.int64(321), 'Magic3 Pro+': np.int64(322), 'Magic4': np.int64(323), 'Magic4 Pro': np.int64(324), 'Magic4 Ultimate': np.int64(325), 'Magic5': np.int64(326), 'Magic5 Pro': np.int64(327), 'Magic5 Ultimate': np.int64(328), 'Magic6': np.int64(329), 'Magic6 Pro': np.int64(330), 'Magic6 Ultimate': np.int64(331), 'Magic7': np.int64(332), 'Magic7 Pro': np.int64(333), 'Magic7 Ultimate': np.int64(334), 'MagicPad 13': np.int64(335), 'MagicPad 2': np.int64(336), 'MagicPad 3': np.int64(337), 'Mate 40E': np.int64(338), 'Mate 50': np.int64(339), 'Mate 50 Pro': np.int64(340), 'Mate 60': np.int64(341), 'Mate 60 Pro': np.int64(342), 'Mate 60 Pro+': np.int64(343), 'Mate 70': np.int64(344), 'Mate 70 Pro': np.int64(345), 'Mate 70 Pro+': np.int64(346), 'Mate X2': np.int64(347), 'Mate X3': np.int64(348), 'Mate X6': np.int64(349), 'Mate XT 256GB': np.int64(350), 'Mate XT 512GB': np.int64(351), 'Mate Xs 2': np.int64(352), 'MatePad Pro 12.2 512GB': np.int64(353), 'MatePad Pro 13.2 512GB': np.int64(354), 'Megapad 11 256GB': np.int64(355), 'Megapad 128GB': np.int64(356), 'Moto E14 128GB': np.int64(357), 'Moto E14 64GB': np.int64(358), 'Moto E22 64GB': np.int64(359), 'Moto E22i 32GB': np.int64(360), 'Moto E32s 64GB': np.int64(361), 'Moto E40 Plus 128GB': np.int64(362), 'Moto E40 Plus 64GB': np.int64(363), 'Moto G Play 32GB': np.int64(364), 'Moto G Play 64GB': np.int64(365), 'Moto G Power 128GB': np.int64(366), 'Moto G Power 64GB': np.int64(367), 'Moto G Stylus 128GB': np.int64(368), 'Moto G Stylus 5G 256GB': np.int64(369), 'Moto G Stylus 5G 512GB': np.int64(370), 'Moto G Stylus 64GB': np.int64(371), 'Moto G22 64GB': np.int64(372), 'Moto G32 128GB': np.int64(373), 'Moto G35 128GB': np.int64(374), 'Moto G35 256GB': np.int64(375), 'Moto G42 128GB': np.int64(376), 'Moto G45 128GB': np.int64(377), 'Moto G45 256GB': np.int64(378), 'Moto G55 128GB': np.int64(379), 'Moto G55 256GB': np.int64(380), 'Moto G62 5G 128GB': np.int64(381), 'Moto G62 5G 256GB': np.int64(382), 'Moto G75 5G 128GB': np.int64(383), 'Moto G75 5G 256GB': np.int64(384), 'Moto G82 5G 128GB': np.int64(385), 'Moto G82 5G 256GB': np.int64(386), 'Moto G85 128GB': np.int64(387), 'Moto G85 256GB': np.int64(388), 'Moto S50 128GB': np.int64(389), 'Moto S50 256GB': np.int64(390), 'Moto X50 Ultra 512GB': np.int64(391), 'Narzo 70 5G 128GB': np.int64(392), 'Narzo 70 Turbo 5G 128GB': np.int64(393), 'Narzo 70 Turbo 5G 256GB': np.int64(394), 'Narzo N61 128GB': np.int64(395), 'Narzo N63 128GB': np.int64(396), 'Narzo N65 5G 128GB': np.int64(397), 'Neo 7 128GB': np.int64(398), 'Neo 7 256GB': np.int64(399), 'Note 40': np.int64(400), 'Note 40 5G': np.int64(401), 'Note 40 Pro': np.int64(402), 'Note 40 Pro 5G': np.int64(403), 'Note 40 Racing Edition': np.int64(404), 'Note 40S': np.int64(405), 'Note 40X 5G': np.int64(406), 'Note 50 128GB': np.int64(407), 'Note 60 128GB': np.int64(408), 'Note 60 256GB': np.int64(409), 'Note 60x 128GB': np.int64(410), 'Note 8 128GB': np.int64(411), 'Note 8i 128GB': np.int64(412), 'Nova 10': np.int64(413), 'Nova 10 Pro': np.int64(414), 'Nova 10 SE': np.int64(415), 'Nova 11': np.int64(416), 'Nova 11 Pro': np.int64(417), 'Nova 11 Ultra': np.int64(418), 'Nova 12': np.int64(419), 'Nova 12 Pro': np.int64(420), 'Nova 13 256GB': np.int64(421), 'Nova 13 512GB': np.int64(422), 'Nova 13 Pro 256GB': np.int64(423), 'Nova 13 Pro 512GB': np.int64(424), 'Nova 9': np.int64(425), 'Nova 9 Pro': np.int64(426), 'One Vision 3 128GB': np.int64(427), 'One Vision 3 256GB': np.int64(428), 'OnePlus 10 Pro 256GB': np.int64(429), 'OnePlus 10R 128GB': np.int64(430), 'OnePlus 10T 256GB': np.int64(431), 'OnePlus 10T 5G 256GB': np.int64(432), 'OnePlus 11 256GB': np.int64(433), 'OnePlus 11 Pro 256GB': np.int64(434), 'OnePlus 11R 256GB': np.int64(435), 'OnePlus 11T 128GB': np.int64(436), 'OnePlus 12 256GB': np.int64(437), 'OnePlus 12R 256GB': np.int64(438), 'OnePlus 12T 5G 256GB': np.int64(439), 'OnePlus 13 Pro 256GB': np.int64(440), 'OnePlus 13R 128GB': np.int64(441), 'OnePlus 14+ 128GB': np.int64(442), 'OnePlus 15R 128GB': np.int64(443), 'OnePlus 5 Special Edition 128GB': np.int64(444), 'OnePlus 5T Star Wars Edition 128GB': np.int64(445), 'OnePlus 6 Special Edition 128GB': np.int64(446), 'OnePlus 6T McLaren Edition 256GB': np.int64(447), 'OnePlus 7 Pro 5G 256GB': np.int64(448), 'OnePlus 7R 128GB': np.int64(449), 'OnePlus 7T Pro 5G McLaren Edition 256GB': np.int64(450), 'OnePlus 8 128GB': np.int64(451), 'OnePlus 8 Pro 256GB': np.int64(452), 'OnePlus 8 Pro McLaren Edition 256GB': np.int64(453), 'OnePlus 8R 128GB': np.int64(454), 'OnePlus 8T 256GB': np.int64(455), 'OnePlus 8T Cyberpunk 2077 Edition 256GB': np.int64(456), 'OnePlus 8T Cyberpunk Edition 256GB': np.int64(457), 'OnePlus 9 128GB': np.int64(458), 'OnePlus 9 Pro 256GB': np.int64(459), 'OnePlus 9R 5G 128GB': np.int64(460), 'OnePlus 9T 128GB': np.int64(461), 'OnePlus Nord 1 128GB': np.int64(462), 'OnePlus Nord 2 128GB': np.int64(463), 'OnePlus Nord 2 5G 128GB': np.int64(464), 'OnePlus Nord 2T 128GB': np.int64(465), 'OnePlus Nord 3 256GB': np.int64(466), 'OnePlus Nord CE 2 128GB': np.int64(467), 'OnePlus Nord CE 2 Lite 128GB': np.int64(468), 'OnePlus Nord CE 3 128GB': np.int64(469), 'OnePlus Nord CE 3 Lite 128GB': np.int64(470), 'OnePlus Nord CE 5G 128GB': np.int64(471), 'OnePlus Nord N10 5G 128GB': np.int64(472), 'OnePlus Nord N100 5G 64GB': np.int64(473), 'OnePlus Nord N100 64GB': np.int64(474), 'OnePlus Nord N200 64GB': np.int64(475), 'OnePlus Nord N30 5G 128GB': np.int64(476), 'OnePlus Nord X 128GB': np.int64(477), 'OnePlus Open 256GB': np.int64(478), 'OnePlus Pad': np.int64(479), 'OnePlus Pad 2': np.int64(480), 'OnePlus Pad Pro': np.int64(481), 'P1 5G 128GB': np.int64(482), 'P1 5G 256GB': np.int64(483), 'P1 Pro 5G 128GB': np.int64(484), 'P1 Pro 5G 256GB': np.int64(485), 'P1 Speed 5G 128GB': np.int64(486), 'P1 Speed 5G 256GB': np.int64(487), 'P2 Pro 5G 128GB': np.int64(488), 'P2 Pro 5G 256GB': np.int64(489), 'P2 Pro 5G 512GB': np.int64(490), 'P50': np.int64(491), 'P50 Pocket': np.int64(492), 'P50 Pro': np.int64(493), 'P50E': np.int64(494), 'P60': np.int64(495), 'P60 Art': np.int64(496), 'P60 Pro': np.int64(497), 'Pad 128GB': np.int64(498), 'Pad 2 128GB': np.int64(499), 'Pad 2 256GB': np.int64(500), 'Pad 2 Lite 128GB': np.int64(501), 'Pad 2 Lite 64GB': np.int64(502), 'Pad 2 Pro 256GB': np.int64(503), 'Pad 3 128GB': np.int64(504), 'Pad 3 256GB': np.int64(505), 'Pad 3 Pro 256GB': np.int64(506), 'Pad 3 Pro 512GB': np.int64(507), 'Pad 4 Pro 256GB': np.int64(508), 'Pad 5G 128GB': np.int64(509), 'Pad 5G 256GB': np.int64(510), 'Pad 6': np.int64(511), 'Pad 64GB': np.int64(512), 'Pad 7': np.int64(513), 'Pad 8': np.int64(514), 'Pad 9': np.int64(515), 'Pad 9 Pro': np.int64(516), 'Pad Air 128GB': np.int64(517), 'Pad GT Pro': np.int64(518), 'Pad Mini 32GB': np.int64(519), 'Pad Mini 64GB': np.int64(520), 'Pad Neo 128GB': np.int64(521), 'Pad Neo 256GB': np.int64(522), 'Pad Slim 128GB': np.int64(523), 'Pad Slim 64GB': np.int64(524), 'Pad V10': np.int64(525), 'Pad V8': np.int64(526), 'Pad V8 Pro': np.int64(527), 'Pad V9': np.int64(528), 'Pad X 128GB': np.int64(529), 'Pad X 64GB': np.int64(530), 'Pad X10': np.int64(531), 'Pad X10 Pro': np.int64(532), 'Pad X6': np.int64(533), 'Pad X8': np.int64(534), 'Pad X8 Lite': np.int64(535), 'Pad X8 Pro': np.int64(536), 'Pad X8a': np.int64(537), 'Pad X8a Kids Edition': np.int64(538), 'Pad X9': np.int64(539), 'Pad X9 Pro': np.int64(540), 'Phantom V Flip2 256GB': np.int64(541), 'Phantom V Fold2 512GB': np.int64(542), 'Pixel 3a 64GB': np.int64(543), 'Pixel 3a XL 64GB': np.int64(544), 'Pixel 4 64GB': np.int64(545), 'Pixel 4 XL 64GB': np.int64(546), 'Pixel 4a 128GB': np.int64(547), 'Pixel 4a 5G 128GB': np.int64(548), 'Pixel 5 128GB': np.int64(549), 'Pixel 5a 128GB': np.int64(550), 'Pixel 6 128GB': np.int64(551), 'Pixel 6 Pro 256GB': np.int64(552), 'Pixel 6a 128GB': np.int64(553), 'Pixel 7 128GB': np.int64(554), 'Pixel 7 Pro 256GB': np.int64(555), 'Pixel 7a 128GB': np.int64(556), 'Pixel 8 128GB': np.int64(557), 'Pixel 8 Pro 256GB': np.int64(558), 'Pixel 8a 128GB': np.int64(559), 'Pixel 9 128GB': np.int64(560), 'Pixel 9 Pro 256GB': np.int64(561), 'Pixel 9 Pro Fold 512GB': np.int64(562), 'Pixel 9 Pro XL 512GB': np.int64(563), 'Play 4': np.int64(564), 'Play 4 Pro': np.int64(565), 'Play 5': np.int64(566), 'Play 5T': np.int64(567), 'Play 6': np.int64(568), 'Play 6T': np.int64(569), 'Play 7': np.int64(570), 'Play 7T': np.int64(571), 'Play 8': np.int64(572), 'Play 8T': np.int64(573), 'Play 9': np.int64(574), 'Play 9T': np.int64(575), 'Pop 8 64GB': np.int64(576), 'Pop 9 4G 64GB': np.int64(577), 'Pop 9 64GB': np.int64(578), 'Pova 5 256GB': np.int64(579), 'Pova 5G 512GB': np.int64(580), 'Pova 6 Neo 256GB': np.int64(581), 'Pova 6 Neo 5G 256GB': np.int64(582), 'Pova 6 Pro 512GB': np.int64(583), 'Pura 70': np.int64(584), 'Pura 70 Pro': np.int64(585), 'Pura 70 Pro+': np.int64(586), 'Pura 70 Ultra': np.int64(587), 'Razr 128GB': np.int64(588), 'Razr 256GB': np.int64(589), 'Razr 50 256GB': np.int64(590), 'Razr 50 Ultra 512GB': np.int64(591), 'Redmi 14C 5G 128GB': np.int64(592), 'Redmi 14C 5G 64GB': np.int64(593), 'Redmi Note 14 4G 128GB': np.int64(594), 'Redmi Note 14 4G 256GB': np.int64(595), 'Redmi Note 14 5G 128GB': np.int64(596), 'Redmi Note 14 5G 256GB': np.int64(597), 'Redmi Note 14 Pro 4G 128GB': np.int64(598), 'Redmi Note 14 Pro 4G 256GB': np.int64(599), 'Redmi Note 14 Pro 5G 128GB': np.int64(600), 'Redmi Note 14 Pro 5G 256GB': np.int64(601), 'Redmi Note 14 Pro+ 5G 128GB': np.int64(602), 'Redmi Note 14 Pro+ 5G 256GB': np.int64(603), 'Redmi Note 14 Pro+ 5G 512GB': np.int64(604), 'Reno10 5G 128GB': np.int64(605), 'Reno10 5G 256GB': np.int64(606), 'Reno10 Pro 5G 256GB': np.int64(607), 'Reno10 Pro+ 5G 256GB': np.int64(608), 'Reno11 F 256GB': np.int64(609), 'Reno11 Pro 512GB': np.int64(610), 'Reno12 256GB': np.int64(611), 'Reno12 F 256GB': np.int64(612), 'Reno12 F 4G 256GB': np.int64(613), 'Reno12 Pro 512GB': np.int64(614), 'Reno13 256GB': np.int64(615), 'Reno13 F 256GB': np.int64(616), 'Reno13 F 4G 256GB': np.int64(617), 'Reno13 Pro 512GB': np.int64(618), 'Reno3 5G 128GB': np.int64(619), 'Reno3 5G 256GB': np.int64(620), 'Reno3 Pro 5G 256GB': np.int64(621), 'Reno4 5G 128GB': np.int64(622), 'Reno4 5G 256GB': np.int64(623), 'Reno4 Pro 5G 256GB': np.int64(624), 'Reno5 5G 128GB': np.int64(625), 'Reno5 5G 256GB': np.int64(626), 'Reno5 Pro 5G 128GB': np.int64(627), 'Reno5 Pro 5G 256GB': np.int64(628), 'Reno5 Pro+ 5G 256GB': np.int64(629), 'Reno6 5G 128GB': np.int64(630), 'Reno6 5G 256GB': np.int64(631), 'Reno6 Pro 5G 128GB': np.int64(632), 'Reno6 Pro 5G 256GB': np.int64(633), 'Reno6 Pro+ 5G 256GB': np.int64(634), 'Reno7 5G 128GB': np.int64(635), 'Reno7 5G 256GB': np.int64(636), 'Reno7 Pro 5G 256GB': np.int64(637), 'Reno8 5G 128GB': np.int64(638), 'Reno8 5G 256GB': np.int64(639), 'Reno8 Pro 5G 256GB': np.int64(640), 'Reno8 Pro+ 5G 256GB': np.int64(641), 'Reno9 5G 128GB': np.int64(642), 'Reno9 5G 256GB': np.int64(643), 'Reno9 Pro 5G 256GB': np.int64(644), 'Reno9 Pro+ 5G 256GB': np.int64(645), 'S1 Pro 128GB': np.int64(646), 'S1 Pro 256GB': np.int64(647), 'S18 Pro 256GB': np.int64(648), 'S50 Neo 256GB': np.int64(649), 'S50 Neo 512GB': np.int64(650), 'Smart 5 64GB': np.int64(651), 'Smart HD 32GB': np.int64(652), 'Spark 20 128GB': np.int64(653), 'Spark 20 Pro 128GB': np.int64(654), 'Spark 20 Pro 5G 256GB': np.int64(655), 'Spark 20 Pro+ 256GB': np.int64(656), 'Spark 20C 128GB': np.int64(657), 'Spark 20P 128GB': np.int64(658), 'Spark 30 128GB': np.int64(659), 'Spark 30 5G 128GB': np.int64(660), 'Spark 30 Pro 256GB': np.int64(661), 'Spark 30C 128GB': np.int64(662), 'Spark 30C 5G 128GB': np.int64(663), 'Spark Go 1 64GB': np.int64(664), 'Spark Go 1S 64GB': np.int64(665), 'Spark Go 2024 64GB': np.int64(666), 'T1 5G 128GB': np.int64(667), 'T1 5G 256GB': np.int64(668), 'T2 Series 128GB': np.int64(669), 'T2 Series 256GB': np.int64(670), 'T21': np.int64(671), 'T3 5G 128GB': np.int64(672), 'Tablet V7': np.int64(673), 'Tablet V7 Pro': np.int64(674), 'TechLife Pad Neo 128GB': np.int64(675), 'TechLife Pad Neo 64GB': np.int64(676), 'V15 128GB': np.int64(677), 'V15 256GB': np.int64(678), 'V15 Pro 128GB': np.int64(679), 'V15 Pro 256GB': np.int64(680), 'V17 Pro 128GB': np.int64(681), 'V17 Pro 256GB': np.int64(682), 'V19 128GB': np.int64(683), 'V19 256GB': np.int64(684), 'V20 Pro 128GB': np.int64(685), 'V20 Pro 256GB': np.int64(686), 'V23 5G 128GB': np.int64(687), 'V23 5G 256GB': np.int64(688), 'V23e 128GB': np.int64(689), 'V23e 256GB': np.int64(690), 'V25 Pro 128GB': np.int64(691), 'V25 Pro 256GB': np.int64(692), 'V27 128GB': np.int64(693), 'V27 256GB': np.int64(694), 'V27 Pro 128GB': np.int64(695), 'V27 Pro 256GB': np.int64(696), 'V3 Max 32GB': np.int64(697), 'V30 Pro 128GB': np.int64(698), 'V40': np.int64(699), 'V40e 128GB': np.int64(700), 'V5 Plus 64GB': np.int64(701), 'V9 64GB': np.int64(702), 'X10': np.int64(703), 'X10 Max': np.int64(704), 'X20': np.int64(705), 'X20 SE': np.int64(706), 'X200 128GB': np.int64(707), 'X200 256GB': np.int64(708), 'X200 Pro 256GB': np.int64(709), 'X200 Pro 512GB': np.int64(710), 'X200 Pro Mini 256GB': np.int64(711), 'X21 128GB': np.int64(712), 'X21 64GB': np.int64(713), 'X27 Pro 128GB': np.int64(714), 'X27 Pro 256GB': np.int64(715), 'X3 GT 128GB': np.int64(716), 'X3 NFC 128GB': np.int64(717), 'X3 Pro 128GB': np.int64(718), 'X30': np.int64(719), 'X30 Max': np.int64(720), 'X30 Pro 128GB': np.int64(721), 'X30 Pro 256GB': np.int64(722), 'X30i': np.int64(723), 'X3S 16GB': np.int64(724), 'X4 Pro 5G 128GB': np.int64(725), 'X40': np.int64(726), 'X40i': np.int64(727), 'X5 128GB': np.int64(728), 'X5 Pro 128GB': np.int64(729), 'X50': np.int64(730), 'X50i': np.int64(731), 'X5Max 16GB': np.int64(732), 'X6 128GB': np.int64(733), 'X6 Pro 256GB': np.int64(734), 'X60': np.int64(735), 'X60 Pro 256GB': np.int64(736), 'X60 Pro 512GB': np.int64(737), 'X60i': np.int64(738), 'X7 128GB': np.int64(739), 'X7 Pro 256GB': np.int64(740), 'X70 Pro 128GB': np.int64(741), 'X70 Pro 256GB': np.int64(742), 'X80 256GB': np.int64(743), 'X80 512GB': np.int64(744), 'X9 Plus 128GB': np.int64(745), 'X90 Pro 256GB': np.int64(746), 'X90 Pro 512GB': np.int64(747), 'Xiaomi 14 256GB': np.int64(748), 'Xiaomi 14 512GB': np.int64(749), 'Xiaomi 14 Pro 256GB': np.int64(750), 'Xiaomi 14 Pro 512GB': np.int64(751), 'Xiaomi 14T 256GB': np.int64(752), 'Xiaomi 14T 512GB': np.int64(753), 'Xiaomi 14T Pro 1TB': np.int64(754), 'Xiaomi 14T Pro 256GB': np.int64(755), 'Xiaomi 14T Pro 512GB': np.int64(756), 'Xiaomi 15 256GB': np.int64(757), 'Xiaomi 15 512GB': np.int64(758), 'Xiaomi 15 Pro 1TB': np.int64(759), 'Xiaomi 15 Pro 256GB': np.int64(760), 'Xiaomi 15 Pro 512GB': np.int64(761), 'Xpad': np.int64(762), 'Xpad 5G': np.int64(763), 'Xpad Lite': np.int64(764), 'Xpad Pro': np.int64(765), 'Xperia 1 IV 256GB': np.int64(766), 'Xperia 1 V 256GB': np.int64(767), 'Xperia 1 VI 256GB': np.int64(768), 'Xperia 10 IV 128GB': np.int64(769), 'Xperia 10 V 128GB': np.int64(770), 'Xperia 10 VI 128GB': np.int64(771), 'Xperia 5 IV 128GB': np.int64(772), 'Xperia 5 V 128GB': np.int64(773), 'Xperia 5 VI 128GB': np.int64(774), 'Y100 128GB': np.int64(775), 'Y100 256GB': np.int64(776), 'Y100 5G 128GB': np.int64(777), 'Y11 32GB': np.int64(778), 'Y11 64GB': np.int64(779), 'Y12s 128GB': np.int64(780), 'Y12s 64GB': np.int64(781), 'Y200 GT 128GB': np.int64(782), 'Y21 128GB': np.int64(783), 'Y21 64GB': np.int64(784), 'Y30 128GB': np.int64(785), 'Y30 64GB': np.int64(786), 'Y33s 128GB': np.int64(787), 'Y33s 64GB': np.int64(788), 'Y53s 128GB': np.int64(789), 'Y53s 64GB': np.int64(790), 'Y66 32GB': np.int64(791), 'Y75 5G 128GB': np.int64(792), 'Y75 5G 256GB': np.int64(793), 'Y81 32GB': np.int64(794), 'Y95 64GB': np.int64(795), 'Z1 Pro 128GB': np.int64(796), 'Z1 Pro 64GB': np.int64(797), 'Z3 64GB': np.int64(798), 'Z5 Pro 64GB': np.int64(799), 'Z6 Pro 128GB': np.int64(800), 'Z6 Pro 256GB': np.int64(801), 'Zero 30 256GB': np.int64(802), 'Zero 30 5G 256GB': np.int64(803), 'Zero 40': np.int64(804), 'Zero 40 5G': np.int64(805), 'Zero 8 128GB': np.int64(806), 'Zero 8i 128GB': np.int64(807), 'Zero Flip': np.int64(808), 'iPad 10.2-inch 128GB': np.int64(809), 'iPad 10.2-inch 32GB': np.int64(810), 'iPad Air 10.9-inch 256GB': np.int64(811), 'iPad Air 10.9-inch 64GB': np.int64(812), 'iPad Mini 7.9-inch 256GB': np.int64(813), 'iPad Mini 7.9-inch 64GB': np.int64(814), 'iPad Pro 11-inch 128GB': np.int64(815), 'iPad Pro 11-inch 256GB': np.int64(816), 'iPad Pro 11-inch 512GB': np.int64(817), 'iPad Pro 12.9-inch 128GB': np.int64(818), 'iPad Pro 12.9-inch 256GB': np.int64(819), 'iPad Pro 12.9-inch 512GB': np.int64(820), 'iPad Pro 13-inch 128GB': np.int64(821), 'iPad Pro 13-inch 1TB': np.int64(822), 'iPad Pro 13-inch 256GB': np.int64(823), 'iPad Pro 13-inch 2TB': np.int64(824), 'iPad Pro 13-inch 512GB': np.int64(825), 'iPhone 11 128GB': np.int64(826), 'iPhone 11 256GB': np.int64(827), 'iPhone 11 64GB': np.int64(828), 'iPhone 11 Pro 256GB': np.int64(829), 'iPhone 11 Pro 512GB': np.int64(830), 'iPhone 11 Pro 64GB': np.int64(831), 'iPhone 11 Pro Max 256GB': np.int64(832), 'iPhone 11 Pro Max 512GB': np.int64(833), 'iPhone 11 Pro Max 64GB': np.int64(834), 'iPhone 12 128GB': np.int64(835), 'iPhone 12 256GB': np.int64(836), 'iPhone 12 64GB': np.int64(837), 'iPhone 12 Pro 128GB': np.int64(838), 'iPhone 12 Pro 256GB': np.int64(839), 'iPhone 12 Pro 512GB': np.int64(840), 'iPhone 12 Pro Max 128GB': np.int64(841), 'iPhone 12 Pro Max 256GB': np.int64(842), 'iPhone 12 Pro Max 512GB': np.int64(843), 'iPhone 12 mini 128GB': np.int64(844), 'iPhone 12 mini 256GB': np.int64(845), 'iPhone 12 mini 64GB': np.int64(846), 'iPhone 13 128GB': np.int64(847), 'iPhone 13 256GB': np.int64(848), 'iPhone 13 512GB': np.int64(849), 'iPhone 13 Pro 128GB': np.int64(850), 'iPhone 13 Pro 256GB': np.int64(851), 'iPhone 13 Pro 512GB': np.int64(852), 'iPhone 13 Pro Max 128GB': np.int64(853), 'iPhone 13 Pro Max 256GB': np.int64(854), 'iPhone 13 Pro Max 512GB': np.int64(855), 'iPhone 13 mini 128GB': np.int64(856), 'iPhone 13 mini 256GB': np.int64(857), 'iPhone 13 mini 512GB': np.int64(858), 'iPhone 14 128GB': np.int64(859), 'iPhone 14 256GB': np.int64(860), 'iPhone 14 512GB': np.int64(861), 'iPhone 14 Plus 128GB': np.int64(862), 'iPhone 14 Plus 256GB': np.int64(863), 'iPhone 14 Plus 512GB': np.int64(864), 'iPhone 14 Pro 128GB': np.int64(865), 'iPhone 14 Pro 256GB': np.int64(866), 'iPhone 14 Pro 512GB': np.int64(867), 'iPhone 14 Pro Max 128GB': np.int64(868), 'iPhone 14 Pro Max 256GB': np.int64(869), 'iPhone 14 Pro Max 512GB': np.int64(870), 'iPhone 15 128GB': np.int64(871), 'iPhone 15 256GB': np.int64(872), 'iPhone 15 512GB': np.int64(873), 'iPhone 15 Plus 128GB': np.int64(874), 'iPhone 15 Plus 256GB': np.int64(875), 'iPhone 15 Plus 512GB': np.int64(876), 'iPhone 15 Pro 128GB': np.int64(877), 'iPhone 15 Pro 256GB': np.int64(878), 'iPhone 15 Pro 512GB': np.int64(879), 'iPhone 15 Pro Max 128GB': np.int64(880), 'iPhone 15 Pro Max 256GB': np.int64(881), 'iPhone 15 Pro Max 512GB': np.int64(882), 'iPhone 16 128GB': np.int64(883), 'iPhone 16 256GB': np.int64(884), 'iPhone 16 512GB': np.int64(885), 'iPhone 16 Plus 128GB': np.int64(886), 'iPhone 16 Plus 256GB': np.int64(887), 'iPhone 16 Plus 512GB': np.int64(888), 'iPhone 16 Pro 128GB': np.int64(889), 'iPhone 16 Pro 256GB': np.int64(890), 'iPhone 16 Pro 512GB': np.int64(891), 'iPhone 16 Pro Max 128GB': np.int64(892), 'iPhone 16 Pro Max 256GB': np.int64(893), 'iPhone 16 Pro Max 512GB': np.int64(894), 'iPhone X 256GB': np.int64(895), 'iPhone X 64GB': np.int64(896), 'iPhone XR 128GB': np.int64(897), 'iPhone XR 256GB': np.int64(898), 'iPhone XR 64GB': np.int64(899), 'iPhone XS 256GB': np.int64(900), 'iPhone XS 512GB': np.int64(901), 'iPhone XS 64GB': np.int64(902), 'iPhone XS Max 256GB': np.int64(903), 'iPhone XS Max 512GB': np.int64(904), 'iPhone XS Max 64GB': np.int64(905), 'iQOO 12 256GB': np.int64(906)}\n",
      "Feature Front Camera\n",
      "mapping {'10.5MP': np.int64(0), '10.7MP': np.int64(1), '10.8MP': np.int64(2), '10MP': np.int64(3), '10MP, 4MP (UDC)': np.int64(4), '11.1MP': np.int64(5), '12MP': np.int64(6), '12MP + 12MP': np.int64(7), '12MP / 4K': np.int64(8), '13MP': np.int64(9), '16MP': np.int64(10), '20MP': np.int64(11), '20MP+8MP': np.int64(12), '24MP': np.int64(13), '25MP': np.int64(14), '2MP': np.int64(15), '32MP': np.int64(16), '42MP': np.int64(17), '44MP': np.int64(18), '48MP': np.int64(19), '50MP': np.int64(20), '5MP': np.int64(21), '60MP': np.int64(22), '60MP (ultrawide) + 8MP (telephoto)': np.int64(23), '60MP + 8MP': np.int64(24), '7MP': np.int64(25), '8MP': np.int64(26), 'Dual 32MP': np.int64(27), 'Dual 60MP': np.int64(28)}\n",
      "Feature Back Camera\n",
      "mapping {'100MP': np.int64(0), '108MP': np.int64(1), '108MP (Main) + 8MP (Ultra-wide) + 2MP (Macro)': np.int64(2), '108MP + 12MP': np.int64(3), '108MP + 2MP': np.int64(4), '108MP + 8MP': np.int64(5), '12.2MP': np.int64(6), '12MP': np.int64(7), '12MP + 10MP': np.int64(8), '12MP + 12MP': np.int64(9), '12MP + 12MP + 12MP': np.int64(10), '12MP + 16MP': np.int64(11), '12MP + 8MP + 2MP + 2MP': np.int64(12), '13MP': np.int64(13), '13MP (f/1.8, AF)': np.int64(14), '13MP + 2MP': np.int64(15), '13MP + 2MP + 2MP': np.int64(16), '13MP + 5MP': np.int64(17), '13MP + 6MP': np.int64(18), '13MP + 8MP': np.int64(19), '13MP+2MP': np.int64(20), '160MP': np.int64(21), '16MP': np.int64(22), '16MP + 20MP': np.int64(23), '16MP + 2MP + 2MP': np.int64(24), '16MP + 5MP': np.int64(25), '16MP + 8MP': np.int64(26), '200MP': np.int64(27), '200MP (Main) + 8MP (Ultra-wide) + 2MP (Macro)': np.int64(28), '200MP + 12MP': np.int64(29), '20MP + 16MP': np.int64(30), '40MP': np.int64(31), '48MP': np.int64(32), '48MP (wide) + 13MP (ultrawide) + 48MP (telephoto)': np.int64(33), '48MP (wide) + 40MP (ultrawide) + 48MP (telephoto)': np.int64(34), '48MP + 12MP': np.int64(35), '48MP + 13MP + 12MP': np.int64(36), '48MP + 13MP + 8MP + 2MP': np.int64(37), '48MP + 16MP': np.int64(38), '48MP + 2MP + 2MP': np.int64(39), '48MP + 48MP': np.int64(40), '48MP + 50MP': np.int64(41), '48MP + 5MP': np.int64(42), '48MP + 64MP + 48MP': np.int64(43), '48MP + 8MP': np.int64(44), '48MP + 8MP + 2MP + 2MP': np.int64(45), '50MP': np.int64(46), '50MP (Main) + 2MP (Depth)': np.int64(47), '50MP (Main) + 50MP (Ultra-wide)': np.int64(48), '50MP (Main) + 50MP (Ultra-wide) + 50MP (Telephoto)': np.int64(49), '50MP (Main) + 8MP (Ultra-wide) + 2MP (Macro)': np.int64(50), '50MP (wide) + 12MP (ultrawide) + 12MP (telephoto)': np.int64(51), '50MP (wide) + 13MP (ultrawide) + 12MP (periscope telephoto)': np.int64(52), '50MP (wide) + 40MP (ultrawide) + 48MP (telephoto)': np.int64(53), '50MP (wide) + 48MP (ultrawide) + 48MP (telephoto)': np.int64(54), '50MP (wide) + 8MP (ultrawide)': np.int64(55), '50MP + 12.5MP + 48MP': np.int64(56), '50MP + 12MP': np.int64(57), '50MP + 12MP + 40MP': np.int64(58), '50MP + 12MP + 48MP': np.int64(59), '50MP + 13MP + 12MP': np.int64(60), '50MP + 13MP + 16MP + 2MP': np.int64(61), '50MP + 16MP': np.int64(62), '50MP + 16MP + 13MP + 2MP': np.int64(63), '50MP + 2MP': np.int64(64), '50MP + 32MP + 48MP': np.int64(65), '50MP + 32MP + 8MP': np.int64(66), '50MP + 40MP + 50MP': np.int64(67), '50MP + 48MP': np.int64(68), '50MP + 48MP + 32MP': np.int64(69), '50MP + 50MP': np.int64(70), '50MP + 50MP + 13MP': np.int64(71), '50MP + 50MP + 50MP': np.int64(72), '50MP + 50MP + 64MP': np.int64(73), '50MP + 50MP + 8MP': np.int64(74), '50MP + 5MP': np.int64(75), '50MP + 64MP + 8MP': np.int64(76), '50MP + 8MP': np.int64(77), '50MP + 8MP + 2MP': np.int64(78), '50MP + 8MP + 50MP': np.int64(79), '54MP': np.int64(80), '5MP': np.int64(81), '64MP': np.int64(82), '64MP + 2MP': np.int64(83), '64MP + 2MP + 2MP': np.int64(84), '64MP + 32MP + 8MP': np.int64(85), '64MP + 8MP': np.int64(86), '64MP + 8MP + 2MP': np.int64(87), '64MP + 8MP + 2MP + 2MP': np.int64(88), '8MP': np.int64(89), '8MP + 2MP': np.int64(90)}\n",
      "Feature Processor\n",
      "mapping {'A11 Bionic': np.int64(0), 'A12 Bionic': np.int64(1), 'A12Z Bionic': np.int64(2), 'A13 Bionic': np.int64(3), 'A14 Bionic': np.int64(4), 'A15 Bionic': np.int64(5), 'A16 Bionic': np.int64(6), 'A17 Bionic': np.int64(7), 'A17 Pro': np.int64(8), 'Dimensity 1000+': np.int64(9), 'Dimensity 1000L': np.int64(10), 'Dimensity 1100': np.int64(11), 'Dimensity 1200': np.int64(12), 'Dimensity 1300': np.int64(13), 'Dimensity 6300': np.int64(14), 'Dimensity 7050': np.int64(15), 'Dimensity 7300': np.int64(16), 'Dimensity 8100': np.int64(17), 'Dimensity 8300-Ultra': np.int64(18), 'Dimensity 8350': np.int64(19), 'Dimensity 900': np.int64(20), 'Dimensity 9000+': np.int64(21), 'Dimensity 9200': np.int64(22), 'Dimensity 9300': np.int64(23), 'Dimensity 9300+': np.int64(24), 'Dimensity 9400': np.int64(25), 'Exynos 1280': np.int64(26), 'Exynos 1380': np.int64(27), 'Exynos 2200': np.int64(28), 'Exynos 2400': np.int64(29), 'Exynos 7570': np.int64(30), 'Exynos 7870': np.int64(31), 'Exynos 850': np.int64(32), 'Exynos 9609': np.int64(33), 'Exynos 9810': np.int64(34), 'Exynos 9825': np.int64(35), 'Exynos 990': np.int64(36), 'Google Tensor': np.int64(37), 'Google Tensor G2': np.int64(38), 'Google Tensor G3': np.int64(39), 'Google Tensor G4': np.int64(40), 'Helio P22': np.int64(41), 'Kirin 710A': np.int64(42), 'Kirin 710F': np.int64(43), 'Kirin 820 5G': np.int64(44), 'Kirin 9000 5G': np.int64(45), 'Kirin 9000S': np.int64(46), 'Kirin 9010': np.int64(47), 'Kirin 985 5G': np.int64(48), 'Kirin 990 5G': np.int64(49), 'Kirin 990E 5G': np.int64(50), 'MediaTek Dimensity 1000+': np.int64(51), 'MediaTek Dimensity 1080': np.int64(52), 'MediaTek Dimensity 1100': np.int64(53), 'MediaTek Dimensity 1200': np.int64(54), 'MediaTek Dimensity 1200-AI': np.int64(55), 'MediaTek Dimensity 1300': np.int64(56), 'MediaTek Dimensity 1300T': np.int64(57), 'MediaTek Dimensity 6020': np.int64(58), 'MediaTek Dimensity 6100+': np.int64(59), 'MediaTek Dimensity 700': np.int64(60), 'MediaTek Dimensity 7025': np.int64(61), 'MediaTek Dimensity 7025-Ultra': np.int64(62), 'MediaTek Dimensity 7050': np.int64(63), 'MediaTek Dimensity 720': np.int64(64), 'MediaTek Dimensity 7200': np.int64(65), 'MediaTek Dimensity 7300': np.int64(66), 'MediaTek Dimensity 7300 Energy': np.int64(67), 'MediaTek Dimensity 7300-Ultra': np.int64(68), 'MediaTek Dimensity 800': np.int64(69), 'MediaTek Dimensity 8000': np.int64(70), 'MediaTek Dimensity 8000-Max': np.int64(71), 'MediaTek Dimensity 800U': np.int64(72), 'MediaTek Dimensity 8020': np.int64(73), 'MediaTek Dimensity 8050': np.int64(74), 'MediaTek Dimensity 810': np.int64(75), 'MediaTek Dimensity 8100': np.int64(76), 'MediaTek Dimensity 8200': np.int64(77), 'MediaTek Dimensity 8300': np.int64(78), 'MediaTek Dimensity 8350': np.int64(79), 'MediaTek Dimensity 8400': np.int64(80), 'MediaTek Dimensity 900': np.int64(81), 'MediaTek Dimensity 9000': np.int64(82), 'MediaTek Dimensity 920': np.int64(83), 'MediaTek Dimensity 9200': np.int64(84), 'MediaTek Dimensity 9200+': np.int64(85), 'MediaTek G35': np.int64(86), 'MediaTek G99': np.int64(87), 'MediaTek Helio A20': np.int64(88), 'MediaTek Helio A22': np.int64(89), 'MediaTek Helio A25': np.int64(90), 'MediaTek Helio G100': np.int64(91), 'MediaTek Helio G25': np.int64(92), 'MediaTek Helio G35': np.int64(93), 'MediaTek Helio G36': np.int64(94), 'MediaTek Helio G37': np.int64(95), 'MediaTek Helio G70': np.int64(96), 'MediaTek Helio G80': np.int64(97), 'MediaTek Helio G85': np.int64(98), 'MediaTek Helio G88': np.int64(99), 'MediaTek Helio G90T': np.int64(100), 'MediaTek Helio G95': np.int64(101), 'MediaTek Helio G96': np.int64(102), 'MediaTek Helio G99': np.int64(103), 'MediaTek Helio P22': np.int64(104), 'MediaTek Helio P22T': np.int64(105), 'MediaTek Helio P35': np.int64(106), 'MediaTek Helio P65': np.int64(107), 'MediaTek Helio P70': np.int64(108), 'MediaTek MT6592': np.int64(109), 'MediaTek MT6762G Helio G25': np.int64(110), 'MediaTek MT8768T': np.int64(111), 'MediaTek MT8786': np.int64(112), 'Qualcomm MSM8916': np.int64(113), 'Qualcomm Snapdragon 439': np.int64(114), 'Qualcomm Snapdragon 460': np.int64(115), 'Qualcomm Snapdragon 480': np.int64(116), 'Qualcomm Snapdragon 6 Gen 1': np.int64(117), 'Qualcomm Snapdragon 660': np.int64(118), 'Qualcomm Snapdragon 662': np.int64(119), 'Qualcomm Snapdragon 675': np.int64(120), 'Qualcomm Snapdragon 680': np.int64(121), 'Qualcomm Snapdragon 685': np.int64(122), 'Qualcomm Snapdragon 690': np.int64(123), 'Qualcomm Snapdragon 695': np.int64(124), 'Qualcomm Snapdragon 6s Gen 1': np.int64(125), 'Qualcomm Snapdragon 7 Gen 1': np.int64(126), 'Qualcomm Snapdragon 7 Plus Gen 3': np.int64(127), 'Qualcomm Snapdragon 7+ Gen 2': np.int64(128), 'Qualcomm Snapdragon 7+ Gen 3': np.int64(129), 'Qualcomm Snapdragon 710': np.int64(130), 'Qualcomm Snapdragon 712': np.int64(131), 'Qualcomm Snapdragon 732G': np.int64(132), 'Qualcomm Snapdragon 765G': np.int64(133), 'Qualcomm Snapdragon 768G': np.int64(134), 'Qualcomm Snapdragon 778G': np.int64(135), 'Qualcomm Snapdragon 778G+': np.int64(136), 'Qualcomm Snapdragon 782G': np.int64(137), 'Qualcomm Snapdragon 7s Gen 1': np.int64(138), 'Qualcomm Snapdragon 7s Gen 2': np.int64(139), 'Qualcomm Snapdragon 7s Gen 3': np.int64(140), 'Qualcomm Snapdragon 8 Elite': np.int64(141), 'Qualcomm Snapdragon 8 Gen 1': np.int64(142), 'Qualcomm Snapdragon 8 Gen 2': np.int64(143), 'Qualcomm Snapdragon 8 Gen 3': np.int64(144), 'Qualcomm Snapdragon 8+ Gen 1': np.int64(145), 'Qualcomm Snapdragon 855': np.int64(146), 'Qualcomm Snapdragon 870': np.int64(147), 'Qualcomm Snapdragon 888': np.int64(148), 'Qualcomm Snapdragon 888+': np.int64(149), 'Qualcomm Snapdragon 8s Gen 3': np.int64(150), 'Snapdragon 4 Gen 1': np.int64(151), 'Snapdragon 425': np.int64(152), 'Snapdragon 430': np.int64(153), 'Snapdragon 439': np.int64(154), 'Snapdragon 450': np.int64(155), 'Snapdragon 460': np.int64(156), 'Snapdragon 480': np.int64(157), 'Snapdragon 480+': np.int64(158), 'Snapdragon 480+ 5G': np.int64(159), 'Snapdragon 6 Gen 1': np.int64(160), 'Snapdragon 6 Gen 3': np.int64(161), 'Snapdragon 615': np.int64(162), 'Snapdragon 617': np.int64(163), 'Snapdragon 625': np.int64(164), 'Snapdragon 626': np.int64(165), 'Snapdragon 632': np.int64(166), 'Snapdragon 652': np.int64(167), 'Snapdragon 653': np.int64(168), 'Snapdragon 662': np.int64(169), 'Snapdragon 670': np.int64(170), 'Snapdragon 680 4G': np.int64(171), 'Snapdragon 685': np.int64(172), 'Snapdragon 695': np.int64(173), 'Snapdragon 695 5G': np.int64(174), 'Snapdragon 6s 4G Gen 1': np.int64(175), 'Snapdragon 6s Gen 3': np.int64(176), 'Snapdragon 7 Gen 1': np.int64(177), 'Snapdragon 7 Gen 3': np.int64(178), 'Snapdragon 7+ Gen 2': np.int64(179), 'Snapdragon 710': np.int64(180), 'Snapdragon 720G': np.int64(181), 'Snapdragon 730G': np.int64(182), 'Snapdragon 732G': np.int64(183), 'Snapdragon 750G': np.int64(184), 'Snapdragon 765G': np.int64(185), 'Snapdragon 778G': np.int64(186), 'Snapdragon 778G 4G': np.int64(187), 'Snapdragon 782G': np.int64(188), 'Snapdragon 7s Gen 2': np.int64(189), 'Snapdragon 7s Gen 3': np.int64(190), 'Snapdragon 8 Elite': np.int64(191), 'Snapdragon 8 Gen 1': np.int64(192), 'Snapdragon 8 Gen 2': np.int64(193), 'Snapdragon 8 Gen 3': np.int64(194), 'Snapdragon 8+ Gen 1': np.int64(195), 'Snapdragon 8+ Gen 1 4G': np.int64(196), 'Snapdragon 8+ Gen 2': np.int64(197), 'Snapdragon 835': np.int64(198), 'Snapdragon 845': np.int64(199), 'Snapdragon 855': np.int64(200), 'Snapdragon 860': np.int64(201), 'Snapdragon 865': np.int64(202), 'Snapdragon 870': np.int64(203), 'Snapdragon 888': np.int64(204), 'Snapdragon 888 4G': np.int64(205), 'Snapdragon 888+ 5G': np.int64(206), 'Spreadtrum SC8830': np.int64(207), 'Unisoc SC9832E': np.int64(208), 'Unisoc SC9863A': np.int64(209), 'Unisoc T606': np.int64(210), 'Unisoc T610': np.int64(211), 'Unisoc T612': np.int64(212), 'Unisoc T616': np.int64(213), 'Unisoc T618': np.int64(214), 'Unisoc T700': np.int64(215), 'Unisoc T760': np.int64(216)}\n"
     ]
    }
   ],
   "source": [
    "#for Preprocessing the data\n",
    "from sklearn.preprocessing import LabelEncoder\n",
    "\n",
    "le = LabelEncoder()\n",
    "\n",
    "for x in cloname:\n",
    "    data[x]=le.fit_transform(data[x])\n",
    "\n",
    "    le_name_mapping = dict(zip(le.classes_,le.transform(le.classes_)))\n",
    "    print(\"Feature\",x)\n",
    "    print(\"mapping\",le_name_mapping)"
   ]
  },
  {
   "cell_type": "code",
   "execution_count": 36,
   "metadata": {},
   "outputs": [
    {
     "data": {
      "text/plain": [
       "Company Name                   int64\n",
       "Model Name                     int64\n",
       "Mobile Weight                float64\n",
       "RAM                          float64\n",
       "Front Camera                   int64\n",
       "Back Camera                    int64\n",
       "Processor                      int64\n",
       "Battery Capacity               int64\n",
       "Screen Size                  float64\n",
       "Launched Price (Pakistan)      int64\n",
       "Launched Price (India)         int64\n",
       "Launched Price (China)         int64\n",
       "Launched Price (USA)         float64\n",
       "Launched Price (Dubai)         int64\n",
       "Launched Year                  int64\n",
       "dtype: object"
      ]
     },
     "execution_count": 36,
     "metadata": {},
     "output_type": "execute_result"
    }
   ],
   "source": [
    "data.dtypes"
   ]
  },
  {
   "cell_type": "code",
   "execution_count": 37,
   "metadata": {},
   "outputs": [],
   "source": [
    "x= data[[\"Company Name\",\"Model Name\",\"Mobile Weight\",\"RAM\",\"Front Camera\",\"Back Camera\",\"Processor\",\"Battery Capacity\",\"Screen Size\",\"Launched Year\"]]\n",
    "y= data[[\"Launched Price (India)\"]]"
   ]
  },
  {
   "cell_type": "code",
   "execution_count": 38,
   "metadata": {},
   "outputs": [
    {
     "name": "stdout",
     "output_type": "stream",
     "text": [
      "(929, 10)\n",
      "(929, 1)\n"
     ]
    }
   ],
   "source": [
    "print(x.shape)\n",
    "print(y.shape)"
   ]
  },
  {
   "cell_type": "code",
   "execution_count": 39,
   "metadata": {},
   "outputs": [],
   "source": [
    "from sklearn.model_selection import train_test_split"
   ]
  },
  {
   "cell_type": "code",
   "execution_count": 40,
   "metadata": {},
   "outputs": [],
   "source": [
    "x_train,x_test,y_train,y_test = train_test_split(x,y,test_size=0.3,random_state=42)"
   ]
  },
  {
   "cell_type": "code",
   "execution_count": 41,
   "metadata": {},
   "outputs": [
    {
     "name": "stdout",
     "output_type": "stream",
     "text": [
      "(650, 10)\n",
      "(279, 10)\n",
      "(650, 1)\n",
      "(279, 1)\n"
     ]
    }
   ],
   "source": [
    "print(x_train.shape)\n",
    "print(x_test.shape)\n",
    "print(y_train.shape)\n",
    "print(y_test.shape)"
   ]
  },
  {
   "cell_type": "code",
   "execution_count": 42,
   "metadata": {},
   "outputs": [],
   "source": [
    "from sklearn.linear_model import LinearRegression\n",
    "lr =LinearRegression()\n",
    "model =lr.fit(x_train,y_train)"
   ]
  },
  {
   "cell_type": "code",
   "execution_count": 43,
   "metadata": {},
   "outputs": [
    {
     "name": "stdout",
     "output_type": "stream",
     "text": [
      "Beta  1,2,3,4,5,6,7: [[ -1289.52977176     10.51549298    363.12916165   6192.55010744\n",
      "   -1209.76640484   -259.46926211    -64.70150345    -14.587159\n",
      "  -10209.54834936   3277.99240326]]\n"
     ]
    }
   ],
   "source": [
    "print(\"Beta  1,2,3,4,5,6,7:\",model.coef_)"
   ]
  },
  {
   "cell_type": "code",
   "execution_count": 44,
   "metadata": {},
   "outputs": [
    {
     "name": "stdout",
     "output_type": "stream",
     "text": [
      "Beta Zero :[-6520960.83535082]\n"
     ]
    }
   ],
   "source": [
    "print(f\"Beta Zero :{model.intercept_}\")"
   ]
  },
  {
   "cell_type": "code",
   "execution_count": 45,
   "metadata": {},
   "outputs": [],
   "source": [
    "y_pred=model.predict(x_test)"
   ]
  },
  {
   "cell_type": "code",
   "execution_count": 46,
   "metadata": {},
   "outputs": [],
   "source": [
    "from sklearn.metrics import mean_squared_error\n",
    "import numpy as np"
   ]
  },
  {
   "cell_type": "code",
   "execution_count": 47,
   "metadata": {},
   "outputs": [
    {
     "name": "stdout",
     "output_type": "stream",
     "text": [
      "28606.626481567655\n"
     ]
    }
   ],
   "source": [
    "rmse = np.sqrt(mean_squared_error(y_test,y_pred))\n",
    "print(rmse)"
   ]
  },
  {
   "cell_type": "code",
   "execution_count": 48,
   "metadata": {},
   "outputs": [],
   "source": [
    "import pickle\n",
    "with open(\"indianmodel.pkl\",\"wb\") as p:\n",
    "    pickle.dump(model,p)"
   ]
  },
  {
   "cell_type": "code",
   "execution_count": 49,
   "metadata": {},
   "outputs": [
    {
     "data": {
      "text/plain": [
       "Company Name                   int64\n",
       "Model Name                     int64\n",
       "Mobile Weight                float64\n",
       "RAM                          float64\n",
       "Front Camera                   int64\n",
       "Back Camera                    int64\n",
       "Processor                      int64\n",
       "Battery Capacity               int64\n",
       "Screen Size                  float64\n",
       "Launched Price (Pakistan)      int64\n",
       "Launched Price (India)         int64\n",
       "Launched Price (China)         int64\n",
       "Launched Price (USA)         float64\n",
       "Launched Price (Dubai)         int64\n",
       "Launched Year                  int64\n",
       "dtype: object"
      ]
     },
     "execution_count": 49,
     "metadata": {},
     "output_type": "execute_result"
    }
   ],
   "source": [
    "#pakistan model\n",
    "data.dtypes"
   ]
  },
  {
   "cell_type": "code",
   "execution_count": 50,
   "metadata": {},
   "outputs": [
    {
     "name": "stdout",
     "output_type": "stream",
     "text": [
      "Beta  1,2,3,4,5,6,7: [[ -1289.52977176     10.51549298    363.12916165   6192.55010744\n",
      "   -1209.76640484   -259.46926211    -64.70150345    -14.587159\n",
      "  -10209.54834936   3277.99240326]]\n",
      "110902.87677541627\n"
     ]
    }
   ],
   "source": [
    "x= data[[\"Company Name\",\"Model Name\",\"Mobile Weight\",\"RAM\",\"Front Camera\",\"Back Camera\",\"Processor\",\"Battery Capacity\",\"Screen Size\",\"Launched Year\"]]\n",
    "y= data[[\"Launched Price (Pakistan)\"]]\n",
    "\n",
    "from sklearn.model_selection import train_test_split\n",
    "\n",
    "from sklearn.linear_model import LinearRegression\n",
    "lr =LinearRegression()\n",
    "model =lr.fit(x_train,y_train)\n",
    "\n",
    "x_train,x_test,y_train,y_test = train_test_split(x,y,test_size=0.3,random_state=42)\n",
    "print(\"Beta  1,2,3,4,5,6,7:\",model.coef_)\n",
    "y_pred=model.predict(x_test)\n",
    "\n",
    "from sklearn.metrics import mean_squared_error\n",
    "import numpy as np\n",
    "\n",
    "rmse = np.sqrt(mean_squared_error(y_test,y_pred))\n",
    "print(rmse)"
   ]
  },
  {
   "cell_type": "code",
   "execution_count": 51,
   "metadata": {},
   "outputs": [],
   "source": [
    "import pickle\n",
    "with open(\"pakistanmodel.pkl\",\"wb\") as p:\n",
    "    pickle.dump(model,p)"
   ]
  },
  {
   "cell_type": "code",
   "execution_count": 52,
   "metadata": {},
   "outputs": [
    {
     "data": {
      "text/plain": [
       "Company Name                   int64\n",
       "Model Name                     int64\n",
       "Mobile Weight                float64\n",
       "RAM                          float64\n",
       "Front Camera                   int64\n",
       "Back Camera                    int64\n",
       "Processor                      int64\n",
       "Battery Capacity               int64\n",
       "Screen Size                  float64\n",
       "Launched Price (Pakistan)      int64\n",
       "Launched Price (India)         int64\n",
       "Launched Price (China)         int64\n",
       "Launched Price (USA)         float64\n",
       "Launched Price (Dubai)         int64\n",
       "Launched Year                  int64\n",
       "dtype: object"
      ]
     },
     "execution_count": 52,
     "metadata": {},
     "output_type": "execute_result"
    }
   ],
   "source": [
    "#Launched Price (China)\n",
    "data.dtypes"
   ]
  },
  {
   "cell_type": "markdown",
   "metadata": {},
   "source": []
  },
  {
   "cell_type": "code",
   "execution_count": 53,
   "metadata": {},
   "outputs": [
    {
     "name": "stdout",
     "output_type": "stream",
     "text": [
      "Beta  1,2,3,4,5,6,7: [[-1.99777018e+03  1.91664722e+01  9.92759635e+02  1.31416092e+04\n",
      "  -4.55701008e+03 -7.50354395e+02 -5.04774032e+01 -3.87242753e+01\n",
      "  -3.07521053e+04  1.19342112e+04]]\n",
      "142498.9279842746\n"
     ]
    }
   ],
   "source": [
    "x= data[[\"Company Name\",\"Model Name\",\"Mobile Weight\",\"RAM\",\"Front Camera\",\"Back Camera\",\"Processor\",\"Battery Capacity\",\"Screen Size\",\"Launched Year\"]]\n",
    "y= data[[\"Launched Price (China)\"]]\n",
    "\n",
    "from sklearn.model_selection import train_test_split\n",
    "\n",
    "from sklearn.linear_model import LinearRegression\n",
    "lr =LinearRegression()\n",
    "model =lr.fit(x_train,y_train)\n",
    "\n",
    "x_train,x_test,y_train,y_test = train_test_split(x,y,test_size=0.3,random_state=42)\n",
    "print(\"Beta  1,2,3,4,5,6,7:\",model.coef_)\n",
    "y_pred=model.predict(x_test)\n",
    "\n",
    "from sklearn.metrics import mean_squared_error\n",
    "import numpy as np\n",
    "\n",
    "rmse = np.sqrt(mean_squared_error(y_test,y_pred))\n",
    "print(rmse)"
   ]
  },
  {
   "cell_type": "code",
   "execution_count": 54,
   "metadata": {},
   "outputs": [],
   "source": [
    "import pickle\n",
    "with open(\"Chinamodel.pkl\",\"wb\") as p:\n",
    "    pickle.dump(model,p)"
   ]
  },
  {
   "cell_type": "code",
   "execution_count": 55,
   "metadata": {},
   "outputs": [
    {
     "data": {
      "text/plain": [
       "Company Name                   int64\n",
       "Model Name                     int64\n",
       "Mobile Weight                float64\n",
       "RAM                          float64\n",
       "Front Camera                   int64\n",
       "Back Camera                    int64\n",
       "Processor                      int64\n",
       "Battery Capacity               int64\n",
       "Screen Size                  float64\n",
       "Launched Price (Pakistan)      int64\n",
       "Launched Price (India)         int64\n",
       "Launched Price (China)         int64\n",
       "Launched Price (USA)         float64\n",
       "Launched Price (Dubai)         int64\n",
       "Launched Year                  int64\n",
       "dtype: object"
      ]
     },
     "execution_count": 55,
     "metadata": {},
     "output_type": "execute_result"
    }
   ],
   "source": [
    "# dubai model\n",
    "data.dtypes"
   ]
  },
  {
   "cell_type": "code",
   "execution_count": 56,
   "metadata": {},
   "outputs": [
    {
     "name": "stdout",
     "output_type": "stream",
     "text": [
      "Beta  1,2,3,4,5,6,7: [[-6.98281823e+01  4.15687165e-01  2.28333415e+01  4.28885740e+02\n",
      "  -9.33260204e+01 -1.96654126e+01 -3.56909567e+00 -1.06084082e+00\n",
      "  -4.84678767e+02  1.49605563e+02]]\n",
      "2200.384933121215\n"
     ]
    }
   ],
   "source": [
    "x= data[[\"Company Name\",\"Model Name\",\"Mobile Weight\",\"RAM\",\"Front Camera\",\"Back Camera\",\"Processor\",\"Battery Capacity\",\"Screen Size\",\"Launched Year\"]]\n",
    "y= data[[\"Launched Price (Dubai)\"]]\n",
    "\n",
    "from sklearn.model_selection import train_test_split\n",
    "\n",
    "from sklearn.linear_model import LinearRegression\n",
    "lr =LinearRegression()\n",
    "model =lr.fit(x_train,y_train)\n",
    "\n",
    "x_train,x_test,y_train,y_test = train_test_split(x,y,test_size=0.3,random_state=42)\n",
    "print(\"Beta  1,2,3,4,5,6,7:\",model.coef_)\n",
    "y_pred=model.predict(x_test)\n",
    "\n",
    "from sklearn.metrics import mean_squared_error\n",
    "import numpy as np\n",
    "\n",
    "rmse = np.sqrt(mean_squared_error(y_test,y_pred))\n",
    "print(rmse)"
   ]
  },
  {
   "cell_type": "code",
   "execution_count": 57,
   "metadata": {},
   "outputs": [],
   "source": [
    "import pickle\n",
    "with open(\"Dubaimodel.pkl\",\"wb\") as p:\n",
    "    pickle.dump(model,p)"
   ]
  },
  {
   "cell_type": "code",
   "execution_count": 58,
   "metadata": {},
   "outputs": [
    {
     "data": {
      "text/plain": [
       "Company Name                   int64\n",
       "Model Name                     int64\n",
       "Mobile Weight                float64\n",
       "RAM                          float64\n",
       "Front Camera                   int64\n",
       "Back Camera                    int64\n",
       "Processor                      int64\n",
       "Battery Capacity               int64\n",
       "Screen Size                  float64\n",
       "Launched Price (Pakistan)      int64\n",
       "Launched Price (India)         int64\n",
       "Launched Price (China)         int64\n",
       "Launched Price (USA)         float64\n",
       "Launched Price (Dubai)         int64\n",
       "Launched Year                  int64\n",
       "dtype: object"
      ]
     },
     "execution_count": 58,
     "metadata": {},
     "output_type": "execute_result"
    }
   ],
   "source": [
    "#usa model\n",
    "data.dtypes"
   ]
  },
  {
   "cell_type": "code",
   "execution_count": 59,
   "metadata": {},
   "outputs": [
    {
     "name": "stdout",
     "output_type": "stream",
     "text": [
      "Beta  1,2,3,4,5,6,7: [[-4.19645731e+01  5.35677724e-02  1.06912844e+01  2.61502658e+02\n",
      "  -4.95220151e+01 -1.08218752e+01 -1.29252092e+00 -6.28515798e-01\n",
      "  -1.39498903e+02  8.14432899e+01]]\n",
      "1837.8586609526153\n"
     ]
    }
   ],
   "source": [
    "x= data[[\"Company Name\",\"Model Name\",\"Mobile Weight\",\"RAM\",\"Front Camera\",\"Back Camera\",\"Processor\",\"Battery Capacity\",\"Screen Size\",\"Launched Year\"]]\n",
    "y= data[[\"Launched Price (USA)\"]]\n",
    "\n",
    "from sklearn.model_selection import train_test_split\n",
    "\n",
    "from sklearn.linear_model import LinearRegression\n",
    "lr =LinearRegression()\n",
    "model =lr.fit(x_train,y_train)\n",
    "\n",
    "x_train,x_test,y_train,y_test = train_test_split(x,y,test_size=0.3,random_state=42)\n",
    "print(\"Beta  1,2,3,4,5,6,7:\",model.coef_)\n",
    "y_pred=model.predict(x_test)\n",
    "\n",
    "from sklearn.metrics import mean_squared_error\n",
    "import numpy as np\n",
    "\n",
    "rmse = np.sqrt(mean_squared_error(y_test,y_pred))\n",
    "print(rmse)"
   ]
  },
  {
   "cell_type": "code",
   "execution_count": 60,
   "metadata": {},
   "outputs": [],
   "source": [
    "import pickle\n",
    "with open(\"USAmodel.pkl\",\"wb\") as p:\n",
    "    pickle.dump(model,p)"
   ]
  },
  {
   "cell_type": "code",
   "execution_count": 61,
   "metadata": {},
   "outputs": [],
   "source": [
    "import numpy as np"
   ]
  },
  {
   "cell_type": "code",
   "execution_count": 62,
   "metadata": {},
   "outputs": [],
   "source": [
    "import streamlit as st"
   ]
  },
  {
   "cell_type": "code",
   "execution_count": null,
   "metadata": {},
   "outputs": [],
   "source": []
  }
 ],
 "metadata": {
  "kernelspec": {
   "display_name": "amazonreview",
   "language": "python",
   "name": "python3"
  },
  "language_info": {
   "codemirror_mode": {
    "name": "ipython",
    "version": 3
   },
   "file_extension": ".py",
   "mimetype": "text/x-python",
   "name": "python",
   "nbconvert_exporter": "python",
   "pygments_lexer": "ipython3",
   "version": "3.10.15"
  }
 },
 "nbformat": 4,
 "nbformat_minor": 2
}
